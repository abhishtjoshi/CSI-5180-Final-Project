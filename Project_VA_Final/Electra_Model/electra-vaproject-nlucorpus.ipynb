{
 "cells": [
  {
   "cell_type": "code",
   "execution_count": 9,
   "metadata": {
    "_cell_guid": "b1076dfc-b9ad-4769-8c92-a6c4dae69d19",
    "_uuid": "8f2839f25d086af736a60e9eeb907d3b93b6e0e5",
    "execution": {
     "iopub.execute_input": "2023-04-10T01:07:06.369498Z",
     "iopub.status.busy": "2023-04-10T01:07:06.368645Z",
     "iopub.status.idle": "2023-04-10T01:07:36.416207Z",
     "shell.execute_reply": "2023-04-10T01:07:36.414832Z",
     "shell.execute_reply.started": "2023-04-10T01:07:06.369456Z"
    }
   },
   "outputs": [
    {
     "name": "stdout",
     "output_type": "stream",
     "text": [
      "Requirement already satisfied: transformers in /opt/conda/lib/python3.7/site-packages (4.27.4)\n",
      "Requirement already satisfied: pyyaml>=5.1 in /opt/conda/lib/python3.7/site-packages (from transformers) (6.0)\n",
      "Requirement already satisfied: importlib-metadata in /opt/conda/lib/python3.7/site-packages (from transformers) (4.11.4)\n",
      "Requirement already satisfied: huggingface-hub<1.0,>=0.11.0 in /opt/conda/lib/python3.7/site-packages (from transformers) (0.13.3)\n",
      "Requirement already satisfied: filelock in /opt/conda/lib/python3.7/site-packages (from transformers) (3.9.0)\n",
      "Requirement already satisfied: tokenizers!=0.11.3,<0.14,>=0.11.1 in /opt/conda/lib/python3.7/site-packages (from transformers) (0.13.2)\n",
      "Requirement already satisfied: numpy>=1.17 in /opt/conda/lib/python3.7/site-packages (from transformers) (1.21.6)\n",
      "Requirement already satisfied: regex!=2019.12.17 in /opt/conda/lib/python3.7/site-packages (from transformers) (2021.11.10)\n",
      "Requirement already satisfied: tqdm>=4.27 in /opt/conda/lib/python3.7/site-packages (from transformers) (4.64.1)\n",
      "Requirement already satisfied: requests in /opt/conda/lib/python3.7/site-packages (from transformers) (2.28.2)\n",
      "Requirement already satisfied: packaging>=20.0 in /opt/conda/lib/python3.7/site-packages (from transformers) (23.0)\n",
      "Requirement already satisfied: typing-extensions>=3.7.4.3 in /opt/conda/lib/python3.7/site-packages (from huggingface-hub<1.0,>=0.11.0->transformers) (4.4.0)\n",
      "Requirement already satisfied: zipp>=0.5 in /opt/conda/lib/python3.7/site-packages (from importlib-metadata->transformers) (3.11.0)\n",
      "Requirement already satisfied: urllib3<1.27,>=1.21.1 in /opt/conda/lib/python3.7/site-packages (from requests->transformers) (1.26.14)\n",
      "Requirement already satisfied: charset-normalizer<4,>=2 in /opt/conda/lib/python3.7/site-packages (from requests->transformers) (2.1.1)\n",
      "Requirement already satisfied: certifi>=2017.4.17 in /opt/conda/lib/python3.7/site-packages (from requests->transformers) (2022.12.7)\n",
      "Requirement already satisfied: idna<4,>=2.5 in /opt/conda/lib/python3.7/site-packages (from requests->transformers) (3.4)\n",
      "\u001b[33mWARNING: Running pip as the 'root' user can result in broken permissions and conflicting behaviour with the system package manager. It is recommended to use a virtual environment instead: https://pip.pypa.io/warnings/venv\u001b[0m\u001b[33m\n",
      "\u001b[0mRequirement already satisfied: torch in /opt/conda/lib/python3.7/site-packages (1.13.0)\n",
      "Requirement already satisfied: typing-extensions in /opt/conda/lib/python3.7/site-packages (from torch) (4.4.0)\n",
      "\u001b[33mWARNING: Running pip as the 'root' user can result in broken permissions and conflicting behaviour with the system package manager. It is recommended to use a virtual environment instead: https://pip.pypa.io/warnings/venv\u001b[0m\u001b[33m\n",
      "\u001b[0mRequirement already satisfied: scikit-learn in /opt/conda/lib/python3.7/site-packages (1.0.2)\n",
      "Requirement already satisfied: threadpoolctl>=2.0.0 in /opt/conda/lib/python3.7/site-packages (from scikit-learn) (3.1.0)\n",
      "Requirement already satisfied: numpy>=1.14.6 in /opt/conda/lib/python3.7/site-packages (from scikit-learn) (1.21.6)\n",
      "Requirement already satisfied: joblib>=0.11 in /opt/conda/lib/python3.7/site-packages (from scikit-learn) (1.2.0)\n",
      "Requirement already satisfied: scipy>=1.1.0 in /opt/conda/lib/python3.7/site-packages (from scikit-learn) (1.7.3)\n",
      "\u001b[33mWARNING: Running pip as the 'root' user can result in broken permissions and conflicting behaviour with the system package manager. It is recommended to use a virtual environment instead: https://pip.pypa.io/warnings/venv\u001b[0m\u001b[33m\n",
      "\u001b[0m"
     ]
    }
   ],
   "source": [
    "!pip install transformers\n",
    "!pip install torch\n",
    "!pip install scikit-learn"
   ]
  },
  {
   "cell_type": "code",
   "execution_count": 11,
   "metadata": {
    "execution": {
     "iopub.execute_input": "2023-04-10T01:07:42.120296Z",
     "iopub.status.busy": "2023-04-10T01:07:42.119154Z",
     "iopub.status.idle": "2023-04-10T01:07:42.125984Z",
     "shell.execute_reply": "2023-04-10T01:07:42.124509Z",
     "shell.execute_reply.started": "2023-04-10T01:07:42.120253Z"
    }
   },
   "outputs": [],
   "source": [
    "import torch\n",
    "import pandas as pd\n",
    "import numpy as np\n",
    "from sklearn.model_selection import train_test_split\n",
    "from transformers import ElectraTokenizer, ElectraForSequenceClassification, AdamW"
   ]
  },
  {
   "cell_type": "code",
   "execution_count": 12,
   "metadata": {
    "execution": {
     "iopub.execute_input": "2023-04-10T01:07:43.150658Z",
     "iopub.status.busy": "2023-04-10T01:07:43.149951Z",
     "iopub.status.idle": "2023-04-10T01:07:43.195023Z",
     "shell.execute_reply": "2023-04-10T01:07:43.194057Z",
     "shell.execute_reply.started": "2023-04-10T01:07:43.150620Z"
    }
   },
   "outputs": [],
   "source": [
    "# Load the SNIPS NLU dataset\n",
    "df = pd.read_csv('/kaggle/input/vadataset/NLU Corpus.csv')\n",
    "\n",
    "# Split the dataset into train and test sets\n",
    "train_df, test_df = train_test_split(df, test_size=0.2, random_state=42)"
   ]
  },
  {
   "cell_type": "code",
   "execution_count": 13,
   "metadata": {
    "execution": {
     "iopub.execute_input": "2023-04-10T01:07:44.161156Z",
     "iopub.status.busy": "2023-04-10T01:07:44.160765Z",
     "iopub.status.idle": "2023-04-10T01:07:49.256484Z",
     "shell.execute_reply": "2023-04-10T01:07:49.255407Z",
     "shell.execute_reply.started": "2023-04-10T01:07:44.161122Z"
    }
   },
   "outputs": [],
   "source": [
    "# Load the ELECTRA tokenizer\n",
    "tokenizer = ElectraTokenizer.from_pretrained('google/electra-small-discriminator')\n",
    "\n",
    "# Tokenize the input data\n",
    "train_encodings = tokenizer(train_df['text'].tolist(), truncation=True, padding=True)\n",
    "test_encodings = tokenizer(test_df['text'].tolist(), truncation=True, padding=True)"
   ]
  },
  {
   "cell_type": "code",
   "execution_count": 14,
   "metadata": {
    "execution": {
     "iopub.execute_input": "2023-04-10T01:07:51.520862Z",
     "iopub.status.busy": "2023-04-10T01:07:51.520458Z",
     "iopub.status.idle": "2023-04-10T01:07:51.530603Z",
     "shell.execute_reply": "2023-04-10T01:07:51.529291Z",
     "shell.execute_reply.started": "2023-04-10T01:07:51.520826Z"
    }
   },
   "outputs": [],
   "source": [
    "# Create PyTorch datasets\n",
    "class SNIPSDataset(torch.utils.data.Dataset):\n",
    "    def __init__(self, encodings, labels):\n",
    "        self.encodings = encodings\n",
    "        self.labels = labels\n",
    "\n",
    "    def __getitem__(self, idx):\n",
    "        item = {key: torch.tensor(val[idx]) for key, val in self.encodings.items()}\n",
    "        item['labels'] = torch.tensor(self.labels[idx])\n",
    "        return item\n",
    "\n",
    "    def __len__(self):\n",
    "        return len(self.labels)\n",
    "\n",
    "train_dataset = SNIPSDataset(train_encodings, train_df['intent'].tolist())\n",
    "test_dataset = SNIPSDataset(test_encodings, test_df['intent'].tolist())\n"
   ]
  },
  {
   "cell_type": "code",
   "execution_count": 16,
   "metadata": {
    "execution": {
     "iopub.execute_input": "2023-04-10T01:08:33.764490Z",
     "iopub.status.busy": "2023-04-10T01:08:33.763728Z",
     "iopub.status.idle": "2023-04-10T01:08:33.782056Z",
     "shell.execute_reply": "2023-04-10T01:08:33.780560Z",
     "shell.execute_reply.started": "2023-04-10T01:08:33.764447Z"
    }
   },
   "outputs": [
    {
     "data": {
      "text/plain": [
       "array(['PlayMusic', 'SearchScreeningEvent', 'SearchCreativeWork',\n",
       "       'AddToPlaylist', 'GetWeather', 'BookRestaurant', 'RateBook'],\n",
       "      dtype=object)"
      ]
     },
     "execution_count": 16,
     "metadata": {},
     "output_type": "execute_result"
    }
   ],
   "source": [
    "train_df['intent'].unique()"
   ]
  },
  {
   "cell_type": "code",
   "execution_count": 17,
   "metadata": {
    "execution": {
     "iopub.execute_input": "2023-04-10T01:08:41.174439Z",
     "iopub.status.busy": "2023-04-10T01:08:41.173705Z",
     "iopub.status.idle": "2023-04-10T01:08:47.582399Z",
     "shell.execute_reply": "2023-04-10T01:08:47.581411Z",
     "shell.execute_reply.started": "2023-04-10T01:08:41.174399Z"
    }
   },
   "outputs": [
    {
     "data": {
      "application/vnd.jupyter.widget-view+json": {
       "model_id": "519c1138239c44d49df794590484333e",
       "version_major": 2,
       "version_minor": 0
      },
      "text/plain": [
       "Downloading pytorch_model.bin:   0%|          | 0.00/54.2M [00:00<?, ?B/s]"
      ]
     },
     "metadata": {},
     "output_type": "display_data"
    },
    {
     "name": "stderr",
     "output_type": "stream",
     "text": [
      "Some weights of the model checkpoint at google/electra-small-discriminator were not used when initializing ElectraForSequenceClassification: ['discriminator_predictions.dense.bias', 'discriminator_predictions.dense_prediction.weight', 'discriminator_predictions.dense.weight', 'discriminator_predictions.dense_prediction.bias']\n",
      "- This IS expected if you are initializing ElectraForSequenceClassification from the checkpoint of a model trained on another task or with another architecture (e.g. initializing a BertForSequenceClassification model from a BertForPreTraining model).\n",
      "- This IS NOT expected if you are initializing ElectraForSequenceClassification from the checkpoint of a model that you expect to be exactly identical (initializing a BertForSequenceClassification model from a BertForSequenceClassification model).\n",
      "Some weights of ElectraForSequenceClassification were not initialized from the model checkpoint at google/electra-small-discriminator and are newly initialized: ['classifier.dense.bias', 'classifier.out_proj.weight', 'classifier.out_proj.bias', 'classifier.dense.weight']\n",
      "You should probably TRAIN this model on a down-stream task to be able to use it for predictions and inference.\n"
     ]
    }
   ],
   "source": [
    "from sklearn.preprocessing import LabelEncoder\n",
    "\n",
    "# Encode the intent labels as integers\n",
    "label_encoder = LabelEncoder()\n",
    "train_labels = label_encoder.fit_transform(train_df['intent'])\n",
    "test_labels = label_encoder.transform(test_df['intent'])\n",
    "\n",
    "train_dataset = SNIPSDataset(train_encodings, train_labels)\n",
    "test_dataset = SNIPSDataset(test_encodings, test_labels)\n",
    "\n",
    "# Load the ELECTRA model\n",
    "model = ElectraForSequenceClassification.from_pretrained('google/electra-small-discriminator', num_labels=7)"
   ]
  },
  {
   "cell_type": "code",
   "execution_count": 20,
   "metadata": {
    "execution": {
     "iopub.execute_input": "2023-04-10T01:11:55.242794Z",
     "iopub.status.busy": "2023-04-10T01:11:55.242408Z",
     "iopub.status.idle": "2023-04-10T01:14:06.807317Z",
     "shell.execute_reply": "2023-04-10T01:14:06.806259Z",
     "shell.execute_reply.started": "2023-04-10T01:11:55.242759Z"
    }
   },
   "outputs": [
    {
     "name": "stdout",
     "output_type": "stream",
     "text": [
      "Epoch 1 loss: 10.367765043687541\n",
      "Accuracy 1: 0.9962889445067749\n",
      "Epoch 2 loss: 8.429076392494608\n",
      "Accuracy 2: 0.9965047035470787\n",
      "Epoch 3 loss: 8.093607779650483\n",
      "Accuracy 3: 0.9965766232271799\n",
      "Epoch 4 loss: 3.34968355348974\n",
      "Accuracy 4: 0.9970441011478381\n",
      "Epoch 5 loss: 0.28188619897991884\n",
      "Accuracy 5: 0.9976352809182705\n"
     ]
    }
   ],
   "source": [
    "# Fine-tune the model\n",
    "device = torch.device('cuda') if torch.cuda.is_available() else torch.device('cpu')\n",
    "model.to(device)\n",
    "\n",
    "train_loader = torch.utils.data.DataLoader(train_dataset, batch_size=16, shuffle=True)\n",
    "\n",
    "optim = AdamW(model.parameters(), lr=5e-5)\n",
    "num_correct = 0\n",
    "num_total = 0\n",
    "\n",
    "for epoch in range(5):\n",
    "    epoch_loss = 0\n",
    "    for batch in train_loader:\n",
    "        optim.zero_grad()\n",
    "        input_ids = batch['input_ids'].to(device)\n",
    "        attention_mask = batch['attention_mask'].to(device)\n",
    "        labels = batch['labels'].to(device)\n",
    "        outputs = model(input_ids, attention_mask=attention_mask, labels=labels)\n",
    "        loss = outputs.loss\n",
    "        epoch_loss += loss.item()\n",
    "        loss.backward()\n",
    "        optim.step()\n",
    "        _, predicted = torch.max(outputs.logits, 1)\n",
    "        num_correct += (predicted == labels).sum().item()\n",
    "        num_total += labels.size(0)\n",
    "    print(f'Epoch {epoch + 1} loss: {epoch_loss}')\n",
    "    print(f'Accuracy {epoch + 1}: {num_correct / num_total}')"
   ]
  },
  {
   "cell_type": "code",
   "execution_count": 21,
   "metadata": {
    "execution": {
     "iopub.execute_input": "2023-04-10T01:14:17.512077Z",
     "iopub.status.busy": "2023-04-10T01:14:17.511664Z",
     "iopub.status.idle": "2023-04-10T01:14:19.162580Z",
     "shell.execute_reply": "2023-04-10T01:14:19.161305Z",
     "shell.execute_reply.started": "2023-04-10T01:14:17.512038Z"
    }
   },
   "outputs": [
    {
     "name": "stdout",
     "output_type": "stream",
     "text": [
      "Test accuracy: 0.9851570590265792\n"
     ]
    }
   ],
   "source": [
    "# Evaluate the model on the test set\n",
    "test_loader = torch.utils.data.DataLoader(test_dataset, batch_size=16, shuffle=False)\n",
    "\n",
    "model.eval()\n",
    "\n",
    "num_correct = 0\n",
    "num_total = 0\n",
    "\n",
    "with torch.no_grad():\n",
    "    for batch in test_loader:\n",
    "        input_ids = batch['input_ids'].to(device)\n",
    "        attention_mask = batch['attention_mask'].to(device)\n",
    "        labels = batch['labels'].to(device)\n",
    "        outputs = model(input_ids, attention_mask=attention_mask, labels=labels)\n",
    "        _, predicted = torch.max(outputs.logits, 1)\n",
    "        num_correct += (predicted == labels).sum().item()\n",
    "        num_total += labels.size(0)\n",
    "\n",
    "print(f'Test accuracy: {num_correct / num_total}')"
   ]
  },
  {
   "cell_type": "code",
   "execution_count": null,
   "metadata": {},
   "outputs": [],
   "source": []
  }
 ],
 "metadata": {
  "kernelspec": {
   "display_name": "Python 3 (ipykernel)",
   "language": "python",
   "name": "python3"
  },
  "language_info": {
   "codemirror_mode": {
    "name": "ipython",
    "version": 3
   },
   "file_extension": ".py",
   "mimetype": "text/x-python",
   "name": "python",
   "nbconvert_exporter": "python",
   "pygments_lexer": "ipython3",
   "version": "3.9.13"
  }
 },
 "nbformat": 4,
 "nbformat_minor": 4
}
