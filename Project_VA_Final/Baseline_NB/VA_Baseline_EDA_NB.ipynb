{
 "cells": [
  {
   "cell_type": "markdown",
   "metadata": {},
   "source": [
    "# ***Converting JSON files to CSV files***"
   ]
  },
  {
   "cell_type": "code",
   "execution_count": null,
   "metadata": {
    "execution": {
     "iopub.execute_input": "2023-04-03T02:39:37.390709Z",
     "iopub.status.busy": "2023-04-03T02:39:37.389873Z",
     "iopub.status.idle": "2023-04-03T02:39:51.145470Z",
     "shell.execute_reply": "2023-04-03T02:39:51.144099Z",
     "shell.execute_reply.started": "2023-04-03T02:39:37.390669Z"
    }
   },
   "outputs": [],
   "source": [
    "pip install cherrypicker"
   ]
  },
  {
   "cell_type": "markdown",
   "metadata": {},
   "source": [
    "# ***Chatbot Corpus***"
   ]
  },
  {
   "cell_type": "code",
   "execution_count": 2,
   "metadata": {
    "execution": {
     "iopub.execute_input": "2023-04-03T02:39:51.148579Z",
     "iopub.status.busy": "2023-04-03T02:39:51.148207Z",
     "iopub.status.idle": "2023-04-03T02:39:51.228125Z",
     "shell.execute_reply": "2023-04-03T02:39:51.227054Z",
     "shell.execute_reply.started": "2023-04-03T02:39:51.148536Z"
    }
   },
   "outputs": [
    {
     "name": "stdout",
     "output_type": "stream",
     "text": [
      "<class 'pandas.core.frame.DataFrame'>\n",
      "RangeIndex: 206 entries, 0 to 205\n",
      "Data columns (total 19 columns):\n",
      " #   Column             Non-Null Count  Dtype  \n",
      "---  ------             --------------  -----  \n",
      " 0   text               206 non-null    object \n",
      " 1   intent             206 non-null    object \n",
      " 2   entities_0_entity  206 non-null    object \n",
      " 3   entities_0_start   206 non-null    int64  \n",
      " 4   entities_0_stop    206 non-null    int64  \n",
      " 5   entities_0_text    206 non-null    object \n",
      " 6   training           206 non-null    bool   \n",
      " 7   entities_1_entity  196 non-null    object \n",
      " 8   entities_1_start   196 non-null    float64\n",
      " 9   entities_1_stop    196 non-null    float64\n",
      " 10  entities_1_text    196 non-null    object \n",
      " 11  entities_2_entity  91 non-null     object \n",
      " 12  entities_2_start   91 non-null     float64\n",
      " 13  entities_2_stop    91 non-null     float64\n",
      " 14  entities_2_text    91 non-null     object \n",
      " 15  entities_3_entity  7 non-null      object \n",
      " 16  entities_3_start   7 non-null      float64\n",
      " 17  entities_3_stop    7 non-null      float64\n",
      " 18  entities_3_text    7 non-null      object \n",
      "dtypes: bool(1), float64(6), int64(2), object(10)\n",
      "memory usage: 29.3+ KB\n"
     ]
    }
   ],
   "source": [
    "from cherrypicker import CherryPicker\n",
    "import json\n",
    "import pandas as pd\n",
    "\n",
    "with open('/kaggle/input/va-intentdataset/ChatbotCorpus.json') as file:\n",
    "    data = json.load(file)\n",
    "\n",
    "picker = CherryPicker(data)\n",
    "flat = picker['sentences'].flatten().get()\n",
    "dfchatbot = pd.DataFrame(flat)\n",
    "dfchatbot.info()"
   ]
  },
  {
   "cell_type": "code",
   "execution_count": 3,
   "metadata": {
    "execution": {
     "iopub.execute_input": "2023-04-03T02:39:51.230043Z",
     "iopub.status.busy": "2023-04-03T02:39:51.229665Z",
     "iopub.status.idle": "2023-04-03T02:39:51.235648Z",
     "shell.execute_reply": "2023-04-03T02:39:51.234375Z",
     "shell.execute_reply.started": "2023-04-03T02:39:51.229990Z"
    }
   },
   "outputs": [],
   "source": [
    "dfchatbot = dfchatbot[['text', 'intent']]"
   ]
  },
  {
   "cell_type": "code",
   "execution_count": 4,
   "metadata": {
    "execution": {
     "iopub.execute_input": "2023-04-03T02:39:51.239227Z",
     "iopub.status.busy": "2023-04-03T02:39:51.238781Z",
     "iopub.status.idle": "2023-04-03T02:39:51.250053Z",
     "shell.execute_reply": "2023-04-03T02:39:51.249110Z",
     "shell.execute_reply.started": "2023-04-03T02:39:51.239169Z"
    }
   },
   "outputs": [],
   "source": [
    "dfchatbot.to_csv('ChatbotCorpus.csv', encoding='utf-8', index=False)"
   ]
  },
  {
   "cell_type": "markdown",
   "metadata": {},
   "source": [
    "# ***AskUbuntu Corpus***"
   ]
  },
  {
   "cell_type": "code",
   "execution_count": 5,
   "metadata": {
    "execution": {
     "iopub.execute_input": "2023-04-03T02:39:51.252053Z",
     "iopub.status.busy": "2023-04-03T02:39:51.251651Z",
     "iopub.status.idle": "2023-04-03T02:39:51.281682Z",
     "shell.execute_reply": "2023-04-03T02:39:51.280520Z",
     "shell.execute_reply.started": "2023-04-03T02:39:51.251997Z"
    }
   },
   "outputs": [
    {
     "name": "stdout",
     "output_type": "stream",
     "text": [
      "<class 'pandas.core.frame.DataFrame'>\n",
      "RangeIndex: 162 entries, 0 to 161\n",
      "Data columns (total 19 columns):\n",
      " #   Column             Non-Null Count  Dtype  \n",
      "---  ------             --------------  -----  \n",
      " 0   author             159 non-null    object \n",
      " 1   url                159 non-null    object \n",
      " 2   text               162 non-null    object \n",
      " 3   intent             162 non-null    object \n",
      " 4   answer_text        159 non-null    object \n",
      " 5   answer_author      159 non-null    object \n",
      " 6   training           162 non-null    bool   \n",
      " 7   entities_0_text    79 non-null     object \n",
      " 8   entities_0_entity  79 non-null     object \n",
      " 9   entities_0_stop    79 non-null     float64\n",
      " 10  entities_0_start   79 non-null     float64\n",
      " 11  entities_1_text    49 non-null     object \n",
      " 12  entities_1_entity  49 non-null     object \n",
      " 13  entities_1_stop    49 non-null     float64\n",
      " 14  entities_1_start   49 non-null     float64\n",
      " 15  entities_2_text    1 non-null      object \n",
      " 16  entities_2_entity  1 non-null      object \n",
      " 17  entities_2_stop    1 non-null      float64\n",
      " 18  entities_2_start   1 non-null      float64\n",
      "dtypes: bool(1), float64(6), object(12)\n",
      "memory usage: 23.1+ KB\n"
     ]
    }
   ],
   "source": [
    "from cherrypicker import CherryPicker\n",
    "import json\n",
    "import pandas as pd\n",
    "\n",
    "with open('/kaggle/input/va-intentdataset/AskUbuntuCorpus.json') as file:\n",
    "    data = json.load(file)\n",
    "\n",
    "picker = CherryPicker(data)\n",
    "flat = picker['sentences'].flatten().get()\n",
    "dfAskUbuntu = pd.DataFrame(flat)\n",
    "dfAskUbuntu.info()"
   ]
  },
  {
   "cell_type": "code",
   "execution_count": 6,
   "metadata": {
    "execution": {
     "iopub.execute_input": "2023-04-03T02:39:51.283735Z",
     "iopub.status.busy": "2023-04-03T02:39:51.283113Z",
     "iopub.status.idle": "2023-04-03T02:39:51.289757Z",
     "shell.execute_reply": "2023-04-03T02:39:51.288535Z",
     "shell.execute_reply.started": "2023-04-03T02:39:51.283693Z"
    }
   },
   "outputs": [],
   "source": [
    "dfAskUbuntu = dfAskUbuntu[['text', 'intent']]"
   ]
  },
  {
   "cell_type": "code",
   "execution_count": 7,
   "metadata": {
    "execution": {
     "iopub.execute_input": "2023-04-03T02:39:51.292273Z",
     "iopub.status.busy": "2023-04-03T02:39:51.291799Z",
     "iopub.status.idle": "2023-04-03T02:39:51.302107Z",
     "shell.execute_reply": "2023-04-03T02:39:51.301134Z",
     "shell.execute_reply.started": "2023-04-03T02:39:51.292233Z"
    }
   },
   "outputs": [],
   "source": [
    "dfAskUbuntu.to_csv('AskUbuntuCorpus.csv', encoding='utf-8', index=False)"
   ]
  },
  {
   "cell_type": "markdown",
   "metadata": {},
   "source": [
    "# ***WebApplications Corpus***"
   ]
  },
  {
   "cell_type": "code",
   "execution_count": 8,
   "metadata": {
    "execution": {
     "iopub.execute_input": "2023-04-03T02:39:51.304277Z",
     "iopub.status.busy": "2023-04-03T02:39:51.303892Z",
     "iopub.status.idle": "2023-04-03T02:39:51.328565Z",
     "shell.execute_reply": "2023-04-03T02:39:51.327536Z",
     "shell.execute_reply.started": "2023-04-03T02:39:51.304242Z"
    }
   },
   "outputs": [
    {
     "name": "stdout",
     "output_type": "stream",
     "text": [
      "<class 'pandas.core.frame.DataFrame'>\n",
      "RangeIndex: 89 entries, 0 to 88\n",
      "Data columns (total 19 columns):\n",
      " #   Column             Non-Null Count  Dtype  \n",
      "---  ------             --------------  -----  \n",
      " 0   author             86 non-null     object \n",
      " 1   url                86 non-null     object \n",
      " 2   text               89 non-null     object \n",
      " 3   entities_0_text    85 non-null     object \n",
      " 4   entities_0_entity  85 non-null     object \n",
      " 5   entities_0_stop    85 non-null     float64\n",
      " 6   entities_0_start   85 non-null     float64\n",
      " 7   intent             89 non-null     object \n",
      " 8   answer_text        86 non-null     object \n",
      " 9   answer_author      86 non-null     object \n",
      " 10  training           89 non-null     bool   \n",
      " 11  entities_1_text    13 non-null     object \n",
      " 12  entities_1_entity  13 non-null     object \n",
      " 13  entities_1_stop    13 non-null     float64\n",
      " 14  entities_1_start   13 non-null     float64\n",
      " 15  entities_2_text    1 non-null      object \n",
      " 16  entities_2_entity  1 non-null      object \n",
      " 17  entities_2_stop    1 non-null      float64\n",
      " 18  entities_2_start   1 non-null      float64\n",
      "dtypes: bool(1), float64(6), object(12)\n",
      "memory usage: 12.7+ KB\n"
     ]
    }
   ],
   "source": [
    "from cherrypicker import CherryPicker\n",
    "import json\n",
    "import pandas as pd\n",
    "\n",
    "with open('/kaggle/input/va-intentdataset/WebApplicationsCorpus.json') as file:\n",
    "    data = json.load(file)\n",
    "\n",
    "picker = CherryPicker(data)\n",
    "flat = picker['sentences'].flatten().get()\n",
    "dfWebApplication = pd.DataFrame(flat)\n",
    "dfWebApplication.info()"
   ]
  },
  {
   "cell_type": "code",
   "execution_count": 9,
   "metadata": {
    "execution": {
     "iopub.execute_input": "2023-04-03T02:39:51.331225Z",
     "iopub.status.busy": "2023-04-03T02:39:51.329720Z",
     "iopub.status.idle": "2023-04-03T02:39:51.336261Z",
     "shell.execute_reply": "2023-04-03T02:39:51.335081Z",
     "shell.execute_reply.started": "2023-04-03T02:39:51.331188Z"
    }
   },
   "outputs": [],
   "source": [
    "dfWebApplication = dfWebApplication[['text', 'intent']]"
   ]
  },
  {
   "cell_type": "code",
   "execution_count": 10,
   "metadata": {
    "execution": {
     "iopub.execute_input": "2023-04-03T02:39:51.340446Z",
     "iopub.status.busy": "2023-04-03T02:39:51.339636Z",
     "iopub.status.idle": "2023-04-03T02:39:51.348392Z",
     "shell.execute_reply": "2023-04-03T02:39:51.347455Z",
     "shell.execute_reply.started": "2023-04-03T02:39:51.340410Z"
    }
   },
   "outputs": [],
   "source": [
    "dfWebApplication.to_csv('WebApplicationsCorpus.csv', encoding='utf-8', index=False)"
   ]
  },
  {
   "cell_type": "markdown",
   "metadata": {},
   "source": [
    "# ***Installing Necessary Library***"
   ]
  },
  {
   "cell_type": "code",
   "execution_count": null,
   "metadata": {},
   "outputs": [],
   "source": [
    "#conda install -c conda-forge spacy"
   ]
  },
  {
   "cell_type": "code",
   "execution_count": 1,
   "metadata": {},
   "outputs": [
    {
     "name": "stdout",
     "output_type": "stream",
     "text": [
      "Defaulting to user installation because normal site-packages is not writeable\n",
      "Requirement already satisfied: spacy in c:\\users\\abhis\\appdata\\roaming\\python\\python39\\site-packages (3.4.4)\n",
      "Requirement already satisfied: langcodes<4.0.0,>=3.2.0 in c:\\users\\abhis\\appdata\\roaming\\python\\python39\\site-packages (from spacy) (3.3.0)\n",
      "Requirement already satisfied: jinja2 in c:\\programdata\\anaconda3\\lib\\site-packages (from spacy) (2.11.3)\n",
      "Requirement already satisfied: tqdm<5.0.0,>=4.38.0 in c:\\programdata\\anaconda3\\lib\\site-packages (from spacy) (4.64.1)\n",
      "Requirement already satisfied: pydantic!=1.8,!=1.8.1,<1.11.0,>=1.7.4 in c:\\users\\abhis\\appdata\\roaming\\python\\python39\\site-packages (from spacy) (1.10.2)\n",
      "Requirement already satisfied: thinc<8.2.0,>=8.1.0 in c:\\users\\abhis\\appdata\\roaming\\python\\python39\\site-packages (from spacy) (8.1.6)\n",
      "Requirement already satisfied: setuptools in c:\\users\\abhis\\appdata\\roaming\\python\\python39\\site-packages (from spacy) (67.6.1)\n",
      "Requirement already satisfied: packaging>=20.0 in c:\\programdata\\anaconda3\\lib\\site-packages (from spacy) (21.3)\n",
      "Requirement already satisfied: srsly<3.0.0,>=2.4.3 in c:\\users\\abhis\\appdata\\roaming\\python\\python39\\site-packages (from spacy) (2.4.5)\n",
      "Requirement already satisfied: wasabi<1.1.0,>=0.9.1 in c:\\users\\abhis\\appdata\\roaming\\python\\python39\\site-packages (from spacy) (0.10.1)\n",
      "Requirement already satisfied: murmurhash<1.1.0,>=0.28.0 in c:\\users\\abhis\\appdata\\roaming\\python\\python39\\site-packages (from spacy) (1.0.9)\n",
      "Requirement already satisfied: requests<3.0.0,>=2.13.0 in c:\\programdata\\anaconda3\\lib\\site-packages (from spacy) (2.28.1)\n",
      "Requirement already satisfied: preshed<3.1.0,>=3.0.2 in c:\\users\\abhis\\appdata\\roaming\\python\\python39\\site-packages (from spacy) (3.0.8)\n",
      "Requirement already satisfied: spacy-legacy<3.1.0,>=3.0.10 in c:\\users\\abhis\\appdata\\roaming\\python\\python39\\site-packages (from spacy) (3.0.10)\n",
      "Requirement already satisfied: typer<0.8.0,>=0.3.0 in c:\\users\\abhis\\appdata\\roaming\\python\\python39\\site-packages (from spacy) (0.7.0)\n",
      "Requirement already satisfied: spacy-loggers<2.0.0,>=1.0.0 in c:\\users\\abhis\\appdata\\roaming\\python\\python39\\site-packages (from spacy) (1.0.4)\n",
      "Requirement already satisfied: smart-open<7.0.0,>=5.2.1 in c:\\programdata\\anaconda3\\lib\\site-packages (from spacy) (5.2.1)\n",
      "Requirement already satisfied: cymem<2.1.0,>=2.0.2 in c:\\users\\abhis\\appdata\\roaming\\python\\python39\\site-packages (from spacy) (2.0.7)\n",
      "Requirement already satisfied: numpy>=1.15.0 in c:\\programdata\\anaconda3\\lib\\site-packages (from spacy) (1.23.5)\n",
      "Requirement already satisfied: catalogue<2.1.0,>=2.0.6 in c:\\users\\abhis\\appdata\\roaming\\python\\python39\\site-packages (from spacy) (2.0.8)\n",
      "Requirement already satisfied: pathy>=0.3.5 in c:\\users\\abhis\\appdata\\roaming\\python\\python39\\site-packages (from spacy) (0.10.1)\n",
      "Requirement already satisfied: pyparsing!=3.0.5,>=2.0.2 in c:\\programdata\\anaconda3\\lib\\site-packages (from packaging>=20.0->spacy) (3.0.9)\n",
      "Requirement already satisfied: typing-extensions>=4.1.0 in c:\\programdata\\anaconda3\\lib\\site-packages (from pydantic!=1.8,!=1.8.1,<1.11.0,>=1.7.4->spacy) (4.3.0)\n",
      "Requirement already satisfied: certifi>=2017.4.17 in c:\\programdata\\anaconda3\\lib\\site-packages (from requests<3.0.0,>=2.13.0->spacy) (2022.9.14)\n",
      "Requirement already satisfied: idna<4,>=2.5 in c:\\programdata\\anaconda3\\lib\\site-packages (from requests<3.0.0,>=2.13.0->spacy) (3.3)\n",
      "Requirement already satisfied: urllib3<1.27,>=1.21.1 in c:\\programdata\\anaconda3\\lib\\site-packages (from requests<3.0.0,>=2.13.0->spacy) (1.26.11)\n",
      "Requirement already satisfied: charset-normalizer<3,>=2 in c:\\programdata\\anaconda3\\lib\\site-packages (from requests<3.0.0,>=2.13.0->spacy) (2.0.4)\n",
      "Requirement already satisfied: blis<0.8.0,>=0.7.8 in c:\\users\\abhis\\appdata\\roaming\\python\\python39\\site-packages (from thinc<8.2.0,>=8.1.0->spacy) (0.7.9)\n",
      "Requirement already satisfied: confection<1.0.0,>=0.0.1 in c:\\users\\abhis\\appdata\\roaming\\python\\python39\\site-packages (from thinc<8.2.0,>=8.1.0->spacy) (0.0.3)\n",
      "Requirement already satisfied: colorama in c:\\programdata\\anaconda3\\lib\\site-packages (from tqdm<5.0.0,>=4.38.0->spacy) (0.4.5)\n",
      "Requirement already satisfied: click<9.0.0,>=7.1.1 in c:\\programdata\\anaconda3\\lib\\site-packages (from typer<0.8.0,>=0.3.0->spacy) (8.0.4)\n",
      "Requirement already satisfied: MarkupSafe>=0.23 in c:\\programdata\\anaconda3\\lib\\site-packages (from jinja2->spacy) (2.0.1)\n",
      "Defaulting to user installation because normal site-packages is not writeable\n",
      "Collecting en-core-web-sm==3.4.1\n",
      "  Downloading https://github.com/explosion/spacy-models/releases/download/en_core_web_sm-3.4.1/en_core_web_sm-3.4.1-py3-none-any.whl (12.8 MB)\n",
      "     --------------------------------------- 12.8/12.8 MB 59.4 MB/s eta 0:00:00\n",
      "Requirement already satisfied: spacy<3.5.0,>=3.4.0 in c:\\users\\abhis\\appdata\\roaming\\python\\python39\\site-packages (from en-core-web-sm==3.4.1) (3.4.4)\n",
      "Requirement already satisfied: pathy>=0.3.5 in c:\\users\\abhis\\appdata\\roaming\\python\\python39\\site-packages (from spacy<3.5.0,>=3.4.0->en-core-web-sm==3.4.1) (0.10.1)\n",
      "Requirement already satisfied: srsly<3.0.0,>=2.4.3 in c:\\users\\abhis\\appdata\\roaming\\python\\python39\\site-packages (from spacy<3.5.0,>=3.4.0->en-core-web-sm==3.4.1) (2.4.5)\n",
      "Requirement already satisfied: requests<3.0.0,>=2.13.0 in c:\\programdata\\anaconda3\\lib\\site-packages (from spacy<3.5.0,>=3.4.0->en-core-web-sm==3.4.1) (2.28.1)\n",
      "Requirement already satisfied: pydantic!=1.8,!=1.8.1,<1.11.0,>=1.7.4 in c:\\users\\abhis\\appdata\\roaming\\python\\python39\\site-packages (from spacy<3.5.0,>=3.4.0->en-core-web-sm==3.4.1) (1.10.2)\n",
      "Requirement already satisfied: thinc<8.2.0,>=8.1.0 in c:\\users\\abhis\\appdata\\roaming\\python\\python39\\site-packages (from spacy<3.5.0,>=3.4.0->en-core-web-sm==3.4.1) (8.1.6)\n",
      "Requirement already satisfied: packaging>=20.0 in c:\\programdata\\anaconda3\\lib\\site-packages (from spacy<3.5.0,>=3.4.0->en-core-web-sm==3.4.1) (21.3)\n",
      "Requirement already satisfied: tqdm<5.0.0,>=4.38.0 in c:\\programdata\\anaconda3\\lib\\site-packages (from spacy<3.5.0,>=3.4.0->en-core-web-sm==3.4.1) (4.64.1)\n",
      "Requirement already satisfied: smart-open<7.0.0,>=5.2.1 in c:\\programdata\\anaconda3\\lib\\site-packages (from spacy<3.5.0,>=3.4.0->en-core-web-sm==3.4.1) (5.2.1)\n",
      "Requirement already satisfied: spacy-loggers<2.0.0,>=1.0.0 in c:\\users\\abhis\\appdata\\roaming\\python\\python39\\site-packages (from spacy<3.5.0,>=3.4.0->en-core-web-sm==3.4.1) (1.0.4)\n",
      "Requirement already satisfied: setuptools in c:\\users\\abhis\\appdata\\roaming\\python\\python39\\site-packages (from spacy<3.5.0,>=3.4.0->en-core-web-sm==3.4.1) (67.6.1)\n",
      "Requirement already satisfied: wasabi<1.1.0,>=0.9.1 in c:\\users\\abhis\\appdata\\roaming\\python\\python39\\site-packages (from spacy<3.5.0,>=3.4.0->en-core-web-sm==3.4.1) (0.10.1)\n",
      "Requirement already satisfied: catalogue<2.1.0,>=2.0.6 in c:\\users\\abhis\\appdata\\roaming\\python\\python39\\site-packages (from spacy<3.5.0,>=3.4.0->en-core-web-sm==3.4.1) (2.0.8)\n",
      "Requirement already satisfied: langcodes<4.0.0,>=3.2.0 in c:\\users\\abhis\\appdata\\roaming\\python\\python39\\site-packages (from spacy<3.5.0,>=3.4.0->en-core-web-sm==3.4.1) (3.3.0)\n",
      "Requirement already satisfied: jinja2 in c:\\programdata\\anaconda3\\lib\\site-packages (from spacy<3.5.0,>=3.4.0->en-core-web-sm==3.4.1) (2.11.3)\n",
      "Requirement already satisfied: spacy-legacy<3.1.0,>=3.0.10 in c:\\users\\abhis\\appdata\\roaming\\python\\python39\\site-packages (from spacy<3.5.0,>=3.4.0->en-core-web-sm==3.4.1) (3.0.10)\n",
      "Requirement already satisfied: murmurhash<1.1.0,>=0.28.0 in c:\\users\\abhis\\appdata\\roaming\\python\\python39\\site-packages (from spacy<3.5.0,>=3.4.0->en-core-web-sm==3.4.1) (1.0.9)\n",
      "Requirement already satisfied: numpy>=1.15.0 in c:\\programdata\\anaconda3\\lib\\site-packages (from spacy<3.5.0,>=3.4.0->en-core-web-sm==3.4.1) (1.23.5)\n",
      "Requirement already satisfied: cymem<2.1.0,>=2.0.2 in c:\\users\\abhis\\appdata\\roaming\\python\\python39\\site-packages (from spacy<3.5.0,>=3.4.0->en-core-web-sm==3.4.1) (2.0.7)\n",
      "Requirement already satisfied: preshed<3.1.0,>=3.0.2 in c:\\users\\abhis\\appdata\\roaming\\python\\python39\\site-packages (from spacy<3.5.0,>=3.4.0->en-core-web-sm==3.4.1) (3.0.8)\n",
      "Requirement already satisfied: typer<0.8.0,>=0.3.0 in c:\\users\\abhis\\appdata\\roaming\\python\\python39\\site-packages (from spacy<3.5.0,>=3.4.0->en-core-web-sm==3.4.1) (0.7.0)\n",
      "Requirement already satisfied: pyparsing!=3.0.5,>=2.0.2 in c:\\programdata\\anaconda3\\lib\\site-packages (from packaging>=20.0->spacy<3.5.0,>=3.4.0->en-core-web-sm==3.4.1) (3.0.9)\n",
      "Requirement already satisfied: typing-extensions>=4.1.0 in c:\\programdata\\anaconda3\\lib\\site-packages (from pydantic!=1.8,!=1.8.1,<1.11.0,>=1.7.4->spacy<3.5.0,>=3.4.0->en-core-web-sm==3.4.1) (4.3.0)\n",
      "Requirement already satisfied: certifi>=2017.4.17 in c:\\programdata\\anaconda3\\lib\\site-packages (from requests<3.0.0,>=2.13.0->spacy<3.5.0,>=3.4.0->en-core-web-sm==3.4.1) (2022.9.14)\n",
      "Requirement already satisfied: urllib3<1.27,>=1.21.1 in c:\\programdata\\anaconda3\\lib\\site-packages (from requests<3.0.0,>=2.13.0->spacy<3.5.0,>=3.4.0->en-core-web-sm==3.4.1) (1.26.11)\n",
      "Requirement already satisfied: idna<4,>=2.5 in c:\\programdata\\anaconda3\\lib\\site-packages (from requests<3.0.0,>=2.13.0->spacy<3.5.0,>=3.4.0->en-core-web-sm==3.4.1) (3.3)\n",
      "Requirement already satisfied: charset-normalizer<3,>=2 in c:\\programdata\\anaconda3\\lib\\site-packages (from requests<3.0.0,>=2.13.0->spacy<3.5.0,>=3.4.0->en-core-web-sm==3.4.1) (2.0.4)\n",
      "Requirement already satisfied: blis<0.8.0,>=0.7.8 in c:\\users\\abhis\\appdata\\roaming\\python\\python39\\site-packages (from thinc<8.2.0,>=8.1.0->spacy<3.5.0,>=3.4.0->en-core-web-sm==3.4.1) (0.7.9)\n",
      "Requirement already satisfied: confection<1.0.0,>=0.0.1 in c:\\users\\abhis\\appdata\\roaming\\python\\python39\\site-packages (from thinc<8.2.0,>=8.1.0->spacy<3.5.0,>=3.4.0->en-core-web-sm==3.4.1) (0.0.3)\n",
      "Requirement already satisfied: colorama in c:\\programdata\\anaconda3\\lib\\site-packages (from tqdm<5.0.0,>=4.38.0->spacy<3.5.0,>=3.4.0->en-core-web-sm==3.4.1) (0.4.5)\n",
      "Requirement already satisfied: click<9.0.0,>=7.1.1 in c:\\programdata\\anaconda3\\lib\\site-packages (from typer<0.8.0,>=0.3.0->spacy<3.5.0,>=3.4.0->en-core-web-sm==3.4.1) (8.0.4)\n",
      "Requirement already satisfied: MarkupSafe>=0.23 in c:\\programdata\\anaconda3\\lib\\site-packages (from jinja2->spacy<3.5.0,>=3.4.0->en-core-web-sm==3.4.1) (2.0.1)\n",
      "[!] As of spaCy v3.0, shortcuts like 'en' are deprecated. Please use the full\n",
      "pipeline package name 'en_core_web_sm' instead.\n",
      "[+] Download and installation successful\n",
      "You can now load the package via spacy.load('en_core_web_sm')\n"
     ]
    },
    {
     "name": "stderr",
     "output_type": "stream",
     "text": [
      "2023-04-09 22:10:32.678347: W tensorflow/stream_executor/platform/default/dso_loader.cc:64] Could not load dynamic library 'cudart64_110.dll'; dlerror: cudart64_110.dll not found\n",
      "2023-04-09 22:10:32.678378: I tensorflow/stream_executor/cuda/cudart_stub.cc:29] Ignore above cudart dlerror if you do not have a GPU set up on your machine.\n",
      "2023-04-09 22:10:37.487216: W tensorflow/stream_executor/platform/default/dso_loader.cc:64] Could not load dynamic library 'cudart64_110.dll'; dlerror: cudart64_110.dll not found\n",
      "2023-04-09 22:10:37.487557: W tensorflow/stream_executor/platform/default/dso_loader.cc:64] Could not load dynamic library 'cublas64_11.dll'; dlerror: cublas64_11.dll not found\n",
      "2023-04-09 22:10:37.487819: W tensorflow/stream_executor/platform/default/dso_loader.cc:64] Could not load dynamic library 'cublasLt64_11.dll'; dlerror: cublasLt64_11.dll not found\n",
      "2023-04-09 22:10:37.488138: W tensorflow/stream_executor/platform/default/dso_loader.cc:64] Could not load dynamic library 'cufft64_10.dll'; dlerror: cufft64_10.dll not found\n",
      "2023-04-09 22:10:37.488518: W tensorflow/stream_executor/platform/default/dso_loader.cc:64] Could not load dynamic library 'curand64_10.dll'; dlerror: curand64_10.dll not found\n",
      "2023-04-09 22:10:37.488929: W tensorflow/stream_executor/platform/default/dso_loader.cc:64] Could not load dynamic library 'cusolver64_11.dll'; dlerror: cusolver64_11.dll not found\n",
      "2023-04-09 22:10:37.489230: W tensorflow/stream_executor/platform/default/dso_loader.cc:64] Could not load dynamic library 'cusparse64_11.dll'; dlerror: cusparse64_11.dll not found\n",
      "2023-04-09 22:10:37.489523: W tensorflow/stream_executor/platform/default/dso_loader.cc:64] Could not load dynamic library 'cudnn64_8.dll'; dlerror: cudnn64_8.dll not found\n",
      "2023-04-09 22:10:37.489543: W tensorflow/core/common_runtime/gpu/gpu_device.cc:1934] Cannot dlopen some GPU libraries. Please make sure the missing libraries mentioned above are installed properly if you would like to use GPU. Follow the guide at https://www.tensorflow.org/install/gpu for how to download and setup the required libraries for your platform.\n",
      "Skipping registering GPU devices...\n"
     ]
    }
   ],
   "source": [
    "!pip install spacy\n",
    "!python -m spacy download en"
   ]
  },
  {
   "cell_type": "code",
   "execution_count": 2,
   "metadata": {},
   "outputs": [
    {
     "name": "stdout",
     "output_type": "stream",
     "text": [
      "Defaulting to user installation because normal site-packages is not writeable\n",
      "Requirement already satisfied: pip in c:\\users\\abhis\\appdata\\roaming\\python\\python39\\site-packages (23.0.1)\n",
      "Requirement already satisfied: setuptools in c:\\users\\abhis\\appdata\\roaming\\python\\python39\\site-packages (67.6.1)\n",
      "Requirement already satisfied: wheel in c:\\users\\abhis\\appdata\\roaming\\python\\python39\\site-packages (0.40.0)\n"
     ]
    }
   ],
   "source": [
    "!pip install -U pip setuptools wheel"
   ]
  },
  {
   "cell_type": "code",
   "execution_count": 104,
   "metadata": {},
   "outputs": [
    {
     "name": "stderr",
     "output_type": "stream",
     "text": [
      "[nltk_data] Downloading package stopwords to\n",
      "[nltk_data]     C:\\Users\\abhis\\AppData\\Roaming\\nltk_data...\n",
      "[nltk_data]   Package stopwords is already up-to-date!\n"
     ]
    }
   ],
   "source": [
    "import numpy as np # linear algebra\n",
    "import pandas as pd # data processing, CSV file I/O (e.g. pd.read_csv)\n",
    "\n",
    "import spacy\n",
    "from spacy import displacy\n",
    "\n",
    "# graphics import\n",
    "import matplotlib.pyplot as plt\n",
    "import seaborn as sns\n",
    "\n",
    " #Natural language tool kits\n",
    "import nltk\n",
    "from nltk import FreqDist, ngrams\n",
    "from nltk.corpus import stopwords\n",
    "from nltk.stem import WordNetLemmatizer\n",
    "from nltk.corpus import wordnet\n",
    "# download stopwords\n",
    "nltk.download('stopwords')\n",
    "import unidecode\n",
    "\n",
    "from wordcloud import WordCloud,STOPWORDS\n",
    "\n",
    "# string operations\n",
    "import string \n",
    "import re\n",
    "\n",
    "from sklearn.feature_extraction.text import CountVectorizer\n",
    "from sklearn.base import TransformerMixin\n",
    "from sklearn.base import BaseEstimator\n",
    "from sklearn.feature_extraction.text import TfidfVectorizer\n",
    "from sklearn.model_selection import train_test_split\n",
    "from sklearn.naive_bayes import MultinomialNB\n",
    "from sklearn.metrics import f1_score\n",
    "from sklearn.metrics import accuracy_score\n",
    "from sklearn import preprocessing\n",
    "from sklearn.metrics import classification_report\n",
    "from sklearn.pipeline import make_pipeline\n",
    "from sklearn.metrics import accuracy_score, precision_score, recall_score, confusion_matrix\n",
    "from sklearn.linear_model import LogisticRegression\n",
    "from sklearn.pipeline import Pipeline\n",
    "from sklearn.naive_bayes import GaussianNB,MultinomialNB,BernoulliNB\n",
    "\n",
    "from yellowbrick.classifier import ClassificationReport\n",
    "from yellowbrick.classifier import ROCAUC\n",
    "from yellowbrick.classifier import PrecisionRecallCurve\n",
    "from yellowbrick.model_selection import FeatureImportances\n",
    "from yellowbrick.classifier import ConfusionMatrix\n",
    "from yellowbrick.text import FreqDistVisualizer\n",
    "from yellowbrick.text import TSNEVisualizer\n",
    "from yellowbrick.contrib.classifier import DecisionViz\n",
    "from yellowbrick.classifier import DiscriminationThreshold\n",
    "\n",
    "from keras.layers import Dense, Input, Flatten, LSTM, Bidirectional,Embedding, Dropout\n",
    "from keras.layers import Conv1D, MaxPooling1D, Embedding\n",
    "from keras.models import Sequential, load_model\n",
    "from keras import losses\n",
    "from tensorflow.keras.optimizers import Adam\n",
    "from tensorflow.keras.models import Model\n",
    "from keras.utils.vis_utils import plot_model\n",
    "from keras.callbacks import EarlyStopping\n",
    "from lime.lime_text import LimeTextExplainer\n",
    "\n",
    "pd.options.display.max_colwidth = 200"
   ]
  },
  {
   "cell_type": "code",
   "execution_count": 59,
   "metadata": {},
   "outputs": [],
   "source": [
    "nlp = spacy.load(\"en_core_web_sm\")"
   ]
  },
  {
   "cell_type": "code",
   "execution_count": 105,
   "metadata": {
    "execution": {
     "iopub.execute_input": "2023-04-03T03:17:41.859585Z",
     "iopub.status.busy": "2023-04-03T03:17:41.858832Z",
     "iopub.status.idle": "2023-04-03T03:17:41.879112Z",
     "shell.execute_reply": "2023-04-03T03:17:41.878052Z",
     "shell.execute_reply.started": "2023-04-03T03:17:41.859543Z"
    }
   },
   "outputs": [
    {
     "data": {
      "text/html": [
       "<div>\n",
       "<style scoped>\n",
       "    .dataframe tbody tr th:only-of-type {\n",
       "        vertical-align: middle;\n",
       "    }\n",
       "\n",
       "    .dataframe tbody tr th {\n",
       "        vertical-align: top;\n",
       "    }\n",
       "\n",
       "    .dataframe thead th {\n",
       "        text-align: right;\n",
       "    }\n",
       "</style>\n",
       "<table border=\"1\" class=\"dataframe\">\n",
       "  <thead>\n",
       "    <tr style=\"text-align: right;\">\n",
       "      <th></th>\n",
       "      <th>text</th>\n",
       "      <th>intent</th>\n",
       "    </tr>\n",
       "  </thead>\n",
       "  <tbody>\n",
       "    <tr>\n",
       "      <th>0</th>\n",
       "      <td>listen to westbam alumb allergic on google music</td>\n",
       "      <td>PlayMusic</td>\n",
       "    </tr>\n",
       "    <tr>\n",
       "      <th>1</th>\n",
       "      <td>add step to me to the 50 clÃ¡sicos playlist</td>\n",
       "      <td>AddToPlaylist</td>\n",
       "    </tr>\n",
       "    <tr>\n",
       "      <th>2</th>\n",
       "      <td>i give this current textbook a rating value of 1 and a best rating of 6</td>\n",
       "      <td>RateBook</td>\n",
       "    </tr>\n",
       "    <tr>\n",
       "      <th>3</th>\n",
       "      <td>play the song little robin redbreast</td>\n",
       "      <td>PlayMusic</td>\n",
       "    </tr>\n",
       "    <tr>\n",
       "      <th>4</th>\n",
       "      <td>please add iris dement to my playlist this is selena</td>\n",
       "      <td>AddToPlaylist</td>\n",
       "    </tr>\n",
       "    <tr>\n",
       "      <th>...</th>\n",
       "      <td>...</td>\n",
       "      <td>...</td>\n",
       "    </tr>\n",
       "    <tr>\n",
       "      <th>14479</th>\n",
       "      <td>is any cinema playing the spirit of youth</td>\n",
       "      <td>SearchScreeningEvent</td>\n",
       "    </tr>\n",
       "    <tr>\n",
       "      <th>14480</th>\n",
       "      <td>what are the movie times for animated movies in the neighbourhood</td>\n",
       "      <td>SearchScreeningEvent</td>\n",
       "    </tr>\n",
       "    <tr>\n",
       "      <th>14481</th>\n",
       "      <td>what s the movie schedule at great escape theatres</td>\n",
       "      <td>SearchScreeningEvent</td>\n",
       "    </tr>\n",
       "    <tr>\n",
       "      <th>14482</th>\n",
       "      <td>show the times for cheers for miss bishop at dipson theatres</td>\n",
       "      <td>SearchScreeningEvent</td>\n",
       "    </tr>\n",
       "    <tr>\n",
       "      <th>14483</th>\n",
       "      <td>i want to see married to the enemy 2 at a cinema</td>\n",
       "      <td>SearchScreeningEvent</td>\n",
       "    </tr>\n",
       "  </tbody>\n",
       "</table>\n",
       "<p>14484 rows × 2 columns</p>\n",
       "</div>"
      ],
      "text/plain": [
       "                                                                          text  \\\n",
       "0                             listen to westbam alumb allergic on google music   \n",
       "1                                  add step to me to the 50 clÃ¡sicos playlist   \n",
       "2      i give this current textbook a rating value of 1 and a best rating of 6   \n",
       "3                                         play the song little robin redbreast   \n",
       "4                         please add iris dement to my playlist this is selena   \n",
       "...                                                                        ...   \n",
       "14479                                is any cinema playing the spirit of youth   \n",
       "14480        what are the movie times for animated movies in the neighbourhood   \n",
       "14481                       what s the movie schedule at great escape theatres   \n",
       "14482             show the times for cheers for miss bishop at dipson theatres   \n",
       "14483                         i want to see married to the enemy 2 at a cinema   \n",
       "\n",
       "                     intent  \n",
       "0                 PlayMusic  \n",
       "1             AddToPlaylist  \n",
       "2                  RateBook  \n",
       "3                 PlayMusic  \n",
       "4             AddToPlaylist  \n",
       "...                     ...  \n",
       "14479  SearchScreeningEvent  \n",
       "14480  SearchScreeningEvent  \n",
       "14481  SearchScreeningEvent  \n",
       "14482  SearchScreeningEvent  \n",
       "14483  SearchScreeningEvent  \n",
       "\n",
       "[14484 rows x 2 columns]"
      ]
     },
     "execution_count": 105,
     "metadata": {},
     "output_type": "execute_result"
    }
   ],
   "source": [
    "dfAskUbuntuCorpus = pd.read_csv('AskUbuntuCorpus.csv', encoding=\"latin-1\")\n",
    "dfChatbotCorpus = pd.read_csv('ChatbotCorpus.csv', encoding=\"latin-1\")\n",
    "dfWebApplicationsCorpus = pd.read_csv('WebApplicationsCorpus.csv', encoding=\"latin-1\")\n",
    "dfNLUCorpus = pd.read_csv('NLU Corpus.csv', encoding=\"latin-1\")\n",
    "dfNLUCorpus"
   ]
  },
  {
   "cell_type": "code",
   "execution_count": 106,
   "metadata": {},
   "outputs": [
    {
     "data": {
      "text/html": [
       "<div>\n",
       "<style scoped>\n",
       "    .dataframe tbody tr th:only-of-type {\n",
       "        vertical-align: middle;\n",
       "    }\n",
       "\n",
       "    .dataframe tbody tr th {\n",
       "        vertical-align: top;\n",
       "    }\n",
       "\n",
       "    .dataframe thead th {\n",
       "        text-align: right;\n",
       "    }\n",
       "</style>\n",
       "<table border=\"1\" class=\"dataframe\">\n",
       "  <thead>\n",
       "    <tr style=\"text-align: right;\">\n",
       "      <th></th>\n",
       "      <th>index</th>\n",
       "      <th>text</th>\n",
       "      <th>intent</th>\n",
       "    </tr>\n",
       "  </thead>\n",
       "  <tbody>\n",
       "    <tr>\n",
       "      <th>0</th>\n",
       "      <td>2243</td>\n",
       "      <td>open youtube and play iron mountain depot from john lomax</td>\n",
       "      <td>PlayMusic</td>\n",
       "    </tr>\n",
       "    <tr>\n",
       "      <th>1</th>\n",
       "      <td>4819</td>\n",
       "      <td>play my fusion fest playlist on youtube</td>\n",
       "      <td>PlayMusic</td>\n",
       "    </tr>\n",
       "    <tr>\n",
       "      <th>2</th>\n",
       "      <td>7142</td>\n",
       "      <td>play a sixties song</td>\n",
       "      <td>PlayMusic</td>\n",
       "    </tr>\n",
       "    <tr>\n",
       "      <th>3</th>\n",
       "      <td>7703</td>\n",
       "      <td>rate 12 great classics of science fiction zero out of 6 points</td>\n",
       "      <td>RateBook</td>\n",
       "    </tr>\n",
       "    <tr>\n",
       "      <th>4</th>\n",
       "      <td>1657</td>\n",
       "      <td>give me weather information for porcupine mountains</td>\n",
       "      <td>GetWeather</td>\n",
       "    </tr>\n",
       "    <tr>\n",
       "      <th>...</th>\n",
       "      <td>...</td>\n",
       "      <td>...</td>\n",
       "      <td>...</td>\n",
       "    </tr>\n",
       "    <tr>\n",
       "      <th>14479</th>\n",
       "      <td>6582</td>\n",
       "      <td>rate this novel one out of 6 stars</td>\n",
       "      <td>RateBook</td>\n",
       "    </tr>\n",
       "    <tr>\n",
       "      <th>14480</th>\n",
       "      <td>7009</td>\n",
       "      <td>get me a table at prospect of whitby in blaine hill  id</td>\n",
       "      <td>BookRestaurant</td>\n",
       "    </tr>\n",
       "    <tr>\n",
       "      <th>14481</th>\n",
       "      <td>6798</td>\n",
       "      <td>find the television show birth of the cool</td>\n",
       "      <td>SearchCreativeWork</td>\n",
       "    </tr>\n",
       "    <tr>\n",
       "      <th>14482</th>\n",
       "      <td>14034</td>\n",
       "      <td>how cold will it be here in 1 second</td>\n",
       "      <td>GetWeather</td>\n",
       "    </tr>\n",
       "    <tr>\n",
       "      <th>14483</th>\n",
       "      <td>22</td>\n",
       "      <td>show me the picture creatures of light and darkness</td>\n",
       "      <td>SearchCreativeWork</td>\n",
       "    </tr>\n",
       "  </tbody>\n",
       "</table>\n",
       "<p>14484 rows × 3 columns</p>\n",
       "</div>"
      ],
      "text/plain": [
       "       index                                                            text  \\\n",
       "0       2243       open youtube and play iron mountain depot from john lomax   \n",
       "1       4819                         play my fusion fest playlist on youtube   \n",
       "2       7142                                             play a sixties song   \n",
       "3       7703  rate 12 great classics of science fiction zero out of 6 points   \n",
       "4       1657             give me weather information for porcupine mountains   \n",
       "...      ...                                                             ...   \n",
       "14479   6582                              rate this novel one out of 6 stars   \n",
       "14480   7009         get me a table at prospect of whitby in blaine hill  id   \n",
       "14481   6798                      find the television show birth of the cool   \n",
       "14482  14034                            how cold will it be here in 1 second   \n",
       "14483     22             show me the picture creatures of light and darkness   \n",
       "\n",
       "                   intent  \n",
       "0               PlayMusic  \n",
       "1               PlayMusic  \n",
       "2               PlayMusic  \n",
       "3                RateBook  \n",
       "4              GetWeather  \n",
       "...                   ...  \n",
       "14479            RateBook  \n",
       "14480      BookRestaurant  \n",
       "14481  SearchCreativeWork  \n",
       "14482          GetWeather  \n",
       "14483  SearchCreativeWork  \n",
       "\n",
       "[14484 rows x 3 columns]"
      ]
     },
     "execution_count": 106,
     "metadata": {},
     "output_type": "execute_result"
    }
   ],
   "source": [
    "dfNLUCorpus = dfNLUCorpus.sample(frac=1).reset_index()\n",
    "dfNLUCorpus"
   ]
  },
  {
   "cell_type": "code",
   "execution_count": 107,
   "metadata": {},
   "outputs": [
    {
     "data": {
      "text/html": [
       "<div>\n",
       "<style scoped>\n",
       "    .dataframe tbody tr th:only-of-type {\n",
       "        vertical-align: middle;\n",
       "    }\n",
       "\n",
       "    .dataframe tbody tr th {\n",
       "        vertical-align: top;\n",
       "    }\n",
       "\n",
       "    .dataframe thead th {\n",
       "        text-align: right;\n",
       "    }\n",
       "</style>\n",
       "<table border=\"1\" class=\"dataframe\">\n",
       "  <thead>\n",
       "    <tr style=\"text-align: right;\">\n",
       "      <th></th>\n",
       "      <th>text</th>\n",
       "      <th>intent</th>\n",
       "    </tr>\n",
       "  </thead>\n",
       "  <tbody>\n",
       "    <tr>\n",
       "      <th>0</th>\n",
       "      <td>i want to go marienplatz</td>\n",
       "      <td>FindConnection</td>\n",
       "    </tr>\n",
       "    <tr>\n",
       "      <th>1</th>\n",
       "      <td>when is the next train in muncher freiheit?</td>\n",
       "      <td>DepartureTime</td>\n",
       "    </tr>\n",
       "    <tr>\n",
       "      <th>2</th>\n",
       "      <td>when does the next u-bahn leaves from garching forschungszentrum?</td>\n",
       "      <td>DepartureTime</td>\n",
       "    </tr>\n",
       "    <tr>\n",
       "      <th>3</th>\n",
       "      <td>from olympia einkaufszentrum to hauptbahnhof</td>\n",
       "      <td>FindConnection</td>\n",
       "    </tr>\n",
       "    <tr>\n",
       "      <th>4</th>\n",
       "      <td>when is the next train from winterstraÃe 12 to kieferngarten</td>\n",
       "      <td>FindConnection</td>\n",
       "    </tr>\n",
       "    <tr>\n",
       "      <th>...</th>\n",
       "      <td>...</td>\n",
       "      <td>...</td>\n",
       "    </tr>\n",
       "    <tr>\n",
       "      <th>201</th>\n",
       "      <td>connection from hauptbahnhof to odeonsplatz?</td>\n",
       "      <td>FindConnection</td>\n",
       "    </tr>\n",
       "    <tr>\n",
       "      <th>202</th>\n",
       "      <td>how do i get from olympia einkaufszentrum to hauptbahnhof?</td>\n",
       "      <td>FindConnection</td>\n",
       "    </tr>\n",
       "    <tr>\n",
       "      <th>203</th>\n",
       "      <td>when is the next bus in garching forschungszentrum</td>\n",
       "      <td>DepartureTime</td>\n",
       "    </tr>\n",
       "    <tr>\n",
       "      <th>204</th>\n",
       "      <td>how can i get from garching to marienplatz</td>\n",
       "      <td>FindConnection</td>\n",
       "    </tr>\n",
       "    <tr>\n",
       "      <th>205</th>\n",
       "      <td>from garching to studentenstadt</td>\n",
       "      <td>FindConnection</td>\n",
       "    </tr>\n",
       "  </tbody>\n",
       "</table>\n",
       "<p>206 rows × 2 columns</p>\n",
       "</div>"
      ],
      "text/plain": [
       "                                                                  text  \\\n",
       "0                                             i want to go marienplatz   \n",
       "1                          when is the next train in muncher freiheit?   \n",
       "2    when does the next u-bahn leaves from garching forschungszentrum?   \n",
       "3                         from olympia einkaufszentrum to hauptbahnhof   \n",
       "4        when is the next train from winterstraÃe 12 to kieferngarten   \n",
       "..                                                                 ...   \n",
       "201                       connection from hauptbahnhof to odeonsplatz?   \n",
       "202         how do i get from olympia einkaufszentrum to hauptbahnhof?   \n",
       "203                 when is the next bus in garching forschungszentrum   \n",
       "204                         how can i get from garching to marienplatz   \n",
       "205                                    from garching to studentenstadt   \n",
       "\n",
       "             intent  \n",
       "0    FindConnection  \n",
       "1     DepartureTime  \n",
       "2     DepartureTime  \n",
       "3    FindConnection  \n",
       "4    FindConnection  \n",
       "..              ...  \n",
       "201  FindConnection  \n",
       "202  FindConnection  \n",
       "203   DepartureTime  \n",
       "204  FindConnection  \n",
       "205  FindConnection  \n",
       "\n",
       "[206 rows x 2 columns]"
      ]
     },
     "execution_count": 107,
     "metadata": {},
     "output_type": "execute_result"
    }
   ],
   "source": [
    "dfChatbotCorpus"
   ]
  },
  {
   "cell_type": "code",
   "execution_count": 108,
   "metadata": {},
   "outputs": [
    {
     "data": {
      "text/html": [
       "<div>\n",
       "<style scoped>\n",
       "    .dataframe tbody tr th:only-of-type {\n",
       "        vertical-align: middle;\n",
       "    }\n",
       "\n",
       "    .dataframe tbody tr th {\n",
       "        vertical-align: top;\n",
       "    }\n",
       "\n",
       "    .dataframe thead th {\n",
       "        text-align: right;\n",
       "    }\n",
       "</style>\n",
       "<table border=\"1\" class=\"dataframe\">\n",
       "  <thead>\n",
       "    <tr style=\"text-align: right;\">\n",
       "      <th></th>\n",
       "      <th>text</th>\n",
       "      <th>intent</th>\n",
       "    </tr>\n",
       "  </thead>\n",
       "  <tbody>\n",
       "    <tr>\n",
       "      <th>0</th>\n",
       "      <td>Alternative to Facebook</td>\n",
       "      <td>Find Alternative</td>\n",
       "    </tr>\n",
       "    <tr>\n",
       "      <th>1</th>\n",
       "      <td>How do I delete my Facebook account?</td>\n",
       "      <td>Delete Account</td>\n",
       "    </tr>\n",
       "    <tr>\n",
       "      <th>2</th>\n",
       "      <td>Are there any good Pandora alternatives with general availability outside the US?</td>\n",
       "      <td>Find Alternative</td>\n",
       "    </tr>\n",
       "    <tr>\n",
       "      <th>3</th>\n",
       "      <td>Is it possible to export my data from Trello to back it up?</td>\n",
       "      <td>Export Data</td>\n",
       "    </tr>\n",
       "    <tr>\n",
       "      <th>4</th>\n",
       "      <td>Is there an online alternative to iGoogle</td>\n",
       "      <td>Find Alternative</td>\n",
       "    </tr>\n",
       "    <tr>\n",
       "      <th>...</th>\n",
       "      <td>...</td>\n",
       "      <td>...</td>\n",
       "    </tr>\n",
       "    <tr>\n",
       "      <th>84</th>\n",
       "      <td>How do I delete my Gmail account?</td>\n",
       "      <td>Delete Account</td>\n",
       "    </tr>\n",
       "    <tr>\n",
       "      <th>85</th>\n",
       "      <td>How do I delete my Experts Exchange account?</td>\n",
       "      <td>Delete Account</td>\n",
       "    </tr>\n",
       "    <tr>\n",
       "      <th>86</th>\n",
       "      <td>How do I delete my Ohloh profile?</td>\n",
       "      <td>Delete Account</td>\n",
       "    </tr>\n",
       "    <tr>\n",
       "      <th>87</th>\n",
       "      <td>How can I permanently delete my MySpace account?</td>\n",
       "      <td>Delete Account</td>\n",
       "    </tr>\n",
       "    <tr>\n",
       "      <th>88</th>\n",
       "      <td>How to disable/delete a Harvest account?</td>\n",
       "      <td>Delete Account</td>\n",
       "    </tr>\n",
       "  </tbody>\n",
       "</table>\n",
       "<p>89 rows × 2 columns</p>\n",
       "</div>"
      ],
      "text/plain": [
       "                                                                                 text  \\\n",
       "0                                                             Alternative to Facebook   \n",
       "1                                                How do I delete my Facebook account?   \n",
       "2   Are there any good Pandora alternatives with general availability outside the US?   \n",
       "3                         Is it possible to export my data from Trello to back it up?   \n",
       "4                                           Is there an online alternative to iGoogle   \n",
       "..                                                                                ...   \n",
       "84                                                  How do I delete my Gmail account?   \n",
       "85                                       How do I delete my Experts Exchange account?   \n",
       "86                                                  How do I delete my Ohloh profile?   \n",
       "87                                   How can I permanently delete my MySpace account?   \n",
       "88                                           How to disable/delete a Harvest account?   \n",
       "\n",
       "              intent  \n",
       "0   Find Alternative  \n",
       "1     Delete Account  \n",
       "2   Find Alternative  \n",
       "3        Export Data  \n",
       "4   Find Alternative  \n",
       "..               ...  \n",
       "84    Delete Account  \n",
       "85    Delete Account  \n",
       "86    Delete Account  \n",
       "87    Delete Account  \n",
       "88    Delete Account  \n",
       "\n",
       "[89 rows x 2 columns]"
      ]
     },
     "execution_count": 108,
     "metadata": {},
     "output_type": "execute_result"
    }
   ],
   "source": [
    "dfWebApplicationsCorpus"
   ]
  },
  {
   "cell_type": "code",
   "execution_count": 109,
   "metadata": {},
   "outputs": [
    {
     "data": {
      "text/html": [
       "<div>\n",
       "<style scoped>\n",
       "    .dataframe tbody tr th:only-of-type {\n",
       "        vertical-align: middle;\n",
       "    }\n",
       "\n",
       "    .dataframe tbody tr th {\n",
       "        vertical-align: top;\n",
       "    }\n",
       "\n",
       "    .dataframe thead th {\n",
       "        text-align: right;\n",
       "    }\n",
       "</style>\n",
       "<table border=\"1\" class=\"dataframe\">\n",
       "  <thead>\n",
       "    <tr style=\"text-align: right;\">\n",
       "      <th></th>\n",
       "      <th>text</th>\n",
       "      <th>intent</th>\n",
       "    </tr>\n",
       "  </thead>\n",
       "  <tbody>\n",
       "    <tr>\n",
       "      <th>0</th>\n",
       "      <td>What software can I use to view epub documents?</td>\n",
       "      <td>Software Recommendation</td>\n",
       "    </tr>\n",
       "    <tr>\n",
       "      <th>1</th>\n",
       "      <td>Which PDF Viewer would you recommend?</td>\n",
       "      <td>Software Recommendation</td>\n",
       "    </tr>\n",
       "    <tr>\n",
       "      <th>2</th>\n",
       "      <td>What IDEs are available for Ubuntu?</td>\n",
       "      <td>Software Recommendation</td>\n",
       "    </tr>\n",
       "    <tr>\n",
       "      <th>3</th>\n",
       "      <td>What's the best Mind Mapping Software?</td>\n",
       "      <td>Software Recommendation</td>\n",
       "    </tr>\n",
       "    <tr>\n",
       "      <th>4</th>\n",
       "      <td>Software to read a QR code?</td>\n",
       "      <td>Software Recommendation</td>\n",
       "    </tr>\n",
       "    <tr>\n",
       "      <th>...</th>\n",
       "      <td>...</td>\n",
       "      <td>...</td>\n",
       "    </tr>\n",
       "    <tr>\n",
       "      <th>157</th>\n",
       "      <td>Are there any Keyboard Shortcuts to Shutdown?</td>\n",
       "      <td>Shutdown Computer</td>\n",
       "    </tr>\n",
       "    <tr>\n",
       "      <th>158</th>\n",
       "      <td>Shutdown after a certain time</td>\n",
       "      <td>Shutdown Computer</td>\n",
       "    </tr>\n",
       "    <tr>\n",
       "      <th>159</th>\n",
       "      <td>Shutdown problem in Ubuntu 16.04</td>\n",
       "      <td>Shutdown Computer</td>\n",
       "    </tr>\n",
       "    <tr>\n",
       "      <th>160</th>\n",
       "      <td>How do I fix a shutdown problem?</td>\n",
       "      <td>Shutdown Computer</td>\n",
       "    </tr>\n",
       "    <tr>\n",
       "      <th>161</th>\n",
       "      <td>What graphical utility can I use for Ubuntu auto shutdown?</td>\n",
       "      <td>Shutdown Computer</td>\n",
       "    </tr>\n",
       "  </tbody>\n",
       "</table>\n",
       "<p>162 rows × 2 columns</p>\n",
       "</div>"
      ],
      "text/plain": [
       "                                                           text  \\\n",
       "0               What software can I use to view epub documents?   \n",
       "1                         Which PDF Viewer would you recommend?   \n",
       "2                           What IDEs are available for Ubuntu?   \n",
       "3                        What's the best Mind Mapping Software?   \n",
       "4                                   Software to read a QR code?   \n",
       "..                                                          ...   \n",
       "157               Are there any Keyboard Shortcuts to Shutdown?   \n",
       "158                               Shutdown after a certain time   \n",
       "159                            Shutdown problem in Ubuntu 16.04   \n",
       "160                            How do I fix a shutdown problem?   \n",
       "161  What graphical utility can I use for Ubuntu auto shutdown?   \n",
       "\n",
       "                      intent  \n",
       "0    Software Recommendation  \n",
       "1    Software Recommendation  \n",
       "2    Software Recommendation  \n",
       "3    Software Recommendation  \n",
       "4    Software Recommendation  \n",
       "..                       ...  \n",
       "157        Shutdown Computer  \n",
       "158        Shutdown Computer  \n",
       "159        Shutdown Computer  \n",
       "160        Shutdown Computer  \n",
       "161        Shutdown Computer  \n",
       "\n",
       "[162 rows x 2 columns]"
      ]
     },
     "execution_count": 109,
     "metadata": {},
     "output_type": "execute_result"
    }
   ],
   "source": [
    "dfAskUbuntuCorpus"
   ]
  },
  {
   "cell_type": "markdown",
   "metadata": {},
   "source": [
    "# 2. Exploratory Data Analysis (EDA)"
   ]
  },
  {
   "cell_type": "code",
   "execution_count": 110,
   "metadata": {
    "execution": {
     "iopub.execute_input": "2022-12-21T19:43:48.199600Z",
     "iopub.status.busy": "2022-12-21T19:43:48.199006Z",
     "iopub.status.idle": "2022-12-21T19:43:48.208016Z",
     "shell.execute_reply": "2022-12-21T19:43:48.206737Z",
     "shell.execute_reply.started": "2022-12-21T19:43:48.199559Z"
    }
   },
   "outputs": [
    {
     "data": {
      "text/plain": [
       "array(['Find Alternative', 'Delete Account', 'Export Data',\n",
       "       'Sync Accounts', 'None', 'Change Password', 'Filter Spam',\n",
       "       'Download Video'], dtype=object)"
      ]
     },
     "execution_count": 110,
     "metadata": {},
     "output_type": "execute_result"
    }
   ],
   "source": [
    "dfWebApplicationsCorpus['intent'].unique()"
   ]
  },
  {
   "cell_type": "code",
   "execution_count": 111,
   "metadata": {
    "execution": {
     "iopub.execute_input": "2022-12-21T19:43:48.199600Z",
     "iopub.status.busy": "2022-12-21T19:43:48.199006Z",
     "iopub.status.idle": "2022-12-21T19:43:48.208016Z",
     "shell.execute_reply": "2022-12-21T19:43:48.206737Z",
     "shell.execute_reply.started": "2022-12-21T19:43:48.199559Z"
    }
   },
   "outputs": [
    {
     "data": {
      "text/plain": [
       "array(['Software Recommendation', 'None', 'Shutdown Computer',\n",
       "       'Make Update', 'Setup Printer'], dtype=object)"
      ]
     },
     "execution_count": 111,
     "metadata": {},
     "output_type": "execute_result"
    }
   ],
   "source": [
    "dfAskUbuntuCorpus['intent'].unique()"
   ]
  },
  {
   "cell_type": "code",
   "execution_count": 112,
   "metadata": {
    "execution": {
     "iopub.execute_input": "2022-12-21T19:43:48.199600Z",
     "iopub.status.busy": "2022-12-21T19:43:48.199006Z",
     "iopub.status.idle": "2022-12-21T19:43:48.208016Z",
     "shell.execute_reply": "2022-12-21T19:43:48.206737Z",
     "shell.execute_reply.started": "2022-12-21T19:43:48.199559Z"
    }
   },
   "outputs": [
    {
     "data": {
      "text/plain": [
       "array(['FindConnection', 'DepartureTime'], dtype=object)"
      ]
     },
     "execution_count": 112,
     "metadata": {},
     "output_type": "execute_result"
    }
   ],
   "source": [
    "dfChatbotCorpus['intent'].unique()"
   ]
  },
  {
   "cell_type": "code",
   "execution_count": 113,
   "metadata": {
    "execution": {
     "iopub.execute_input": "2022-12-21T19:43:48.199600Z",
     "iopub.status.busy": "2022-12-21T19:43:48.199006Z",
     "iopub.status.idle": "2022-12-21T19:43:48.208016Z",
     "shell.execute_reply": "2022-12-21T19:43:48.206737Z",
     "shell.execute_reply.started": "2022-12-21T19:43:48.199559Z"
    }
   },
   "outputs": [
    {
     "data": {
      "text/plain": [
       "array(['PlayMusic', 'RateBook', 'GetWeather', 'SearchScreeningEvent',\n",
       "       'AddToPlaylist', 'BookRestaurant', 'SearchCreativeWork'],\n",
       "      dtype=object)"
      ]
     },
     "execution_count": 113,
     "metadata": {},
     "output_type": "execute_result"
    }
   ],
   "source": [
    "dfNLUCorpus['intent'].unique()"
   ]
  },
  {
   "cell_type": "code",
   "execution_count": 69,
   "metadata": {},
   "outputs": [
    {
     "name": "stderr",
     "output_type": "stream",
     "text": [
      "C:\\ProgramData\\Anaconda3\\lib\\site-packages\\seaborn\\distributions.py:2619: FutureWarning: `distplot` is a deprecated function and will be removed in a future version. Please adapt your code to use either `displot` (a figure-level function with similar flexibility) or `histplot` (an axes-level function for histograms).\n",
      "  warnings.warn(msg, FutureWarning)\n"
     ]
    },
    {
     "data": {
      "image/png": "[encoded data removed]",
      "text/plain": [
       "<Figure size 1500x500 with 1 Axes>"
      ]
     },
     "metadata": {},
     "output_type": "display_data"
    }
   ],
   "source": [
    "dfWebApplicationsCorpus['text_len'] = dfWebApplicationsCorpus['text'].str.len()\n",
    "\n",
    "plt.figure(figsize=(15,5))\n",
    "ax = sns.distplot(dfWebApplicationsCorpus['text_len'])\n",
    "ax.set(xlabel='Text length', ylabel='Freq.')\n",
    "plt.show()"
   ]
  },
  {
   "cell_type": "code",
   "execution_count": 70,
   "metadata": {},
   "outputs": [
    {
     "name": "stderr",
     "output_type": "stream",
     "text": [
      "C:\\ProgramData\\Anaconda3\\lib\\site-packages\\seaborn\\distributions.py:2619: FutureWarning: `distplot` is a deprecated function and will be removed in a future version. Please adapt your code to use either `displot` (a figure-level function with similar flexibility) or `histplot` (an axes-level function for histograms).\n",
      "  warnings.warn(msg, FutureWarning)\n"
     ]
    },
    {
     "data": {
      "image/png": "[encoded data removed]",
      "text/plain": [
       "<Figure size 1500x500 with 1 Axes>"
      ]
     },
     "metadata": {},
     "output_type": "display_data"
    }
   ],
   "source": [
    "dfAskUbuntuCorpus['text_len'] = dfAskUbuntuCorpus['text'].str.len()\n",
    "\n",
    "plt.figure(figsize=(15,5))\n",
    "plt.title('Distribution of texts per category')\n",
    "ax = sns.distplot(dfAskUbuntuCorpus['text_len'])\n",
    "ax.set(xlabel='Text length', ylabel='Freq.')\n",
    "plt.show()"
   ]
  },
  {
   "cell_type": "code",
   "execution_count": 71,
   "metadata": {},
   "outputs": [
    {
     "name": "stderr",
     "output_type": "stream",
     "text": [
      "C:\\ProgramData\\Anaconda3\\lib\\site-packages\\seaborn\\distributions.py:2619: FutureWarning: `distplot` is a deprecated function and will be removed in a future version. Please adapt your code to use either `displot` (a figure-level function with similar flexibility) or `histplot` (an axes-level function for histograms).\n",
      "  warnings.warn(msg, FutureWarning)\n"
     ]
    },
    {
     "data": {
      "image/png": "[encoded data removed]",
      "text/plain": [
       "<Figure size 1500x500 with 1 Axes>"
      ]
     },
     "metadata": {},
     "output_type": "display_data"
    }
   ],
   "source": [
    "dfChatbotCorpus['text_len'] = dfChatbotCorpus['text'].str.len()\n",
    "\n",
    "plt.figure(figsize=(15,5))\n",
    "ax = sns.distplot(dfChatbotCorpus['text_len'])\n",
    "ax.set(xlabel='Text length', ylabel='Freq.')\n",
    "plt.show()"
   ]
  },
  {
   "cell_type": "code",
   "execution_count": 72,
   "metadata": {},
   "outputs": [
    {
     "name": "stderr",
     "output_type": "stream",
     "text": [
      "C:\\ProgramData\\Anaconda3\\lib\\site-packages\\seaborn\\distributions.py:2619: FutureWarning: `distplot` is a deprecated function and will be removed in a future version. Please adapt your code to use either `displot` (a figure-level function with similar flexibility) or `histplot` (an axes-level function for histograms).\n",
      "  warnings.warn(msg, FutureWarning)\n"
     ]
    },
    {
     "data": {
      "image/png": "[encoded data removed]",
      "text/plain": [
       "<Figure size 1500x500 with 1 Axes>"
      ]
     },
     "metadata": {},
     "output_type": "display_data"
    }
   ],
   "source": [
    "dfNLUCorpus['text_len'] = dfNLUCorpus['text'].str.len()\n",
    "\n",
    "plt.figure(figsize=(15,5))\n",
    "ax = sns.distplot(dfNLUCorpus['text_len'])\n",
    "ax.set(xlabel='Text length', ylabel='Freq.')\n",
    "plt.show()"
   ]
  },
  {
   "cell_type": "markdown",
   "metadata": {},
   "source": [
    "## Kernel distribution of number of words w.r.t Distinct Labels"
   ]
  },
  {
   "cell_type": "code",
   "execution_count": 120,
   "metadata": {},
   "outputs": [
    {
     "name": "stderr",
     "output_type": "stream",
     "text": [
      "C:\\ProgramData\\Anaconda3\\lib\\site-packages\\seaborn\\distributions.py:316: UserWarning: Dataset has 0 variance; skipping density estimate. Pass `warn_singular=False` to disable this warning.\n",
      "  warnings.warn(msg, UserWarning)\n"
     ]
    },
    {
     "data": {
      "image/png": "[encoded data removed]",
      "text/plain": [
       "<Figure size 1000x500 with 1 Axes>"
      ]
     },
     "metadata": {},
     "output_type": "display_data"
    }
   ],
   "source": [
    "num_1 = dfWebApplicationsCorpus[dfWebApplicationsCorpus['intent']== 'Find Alternative']['text'].apply(lambda x: len(x.split()))\n",
    "num_2 = dfWebApplicationsCorpus[dfWebApplicationsCorpus['intent']== 'Delete Account']['text'].apply(lambda x: len(x.split()))\n",
    "num_3 = dfWebApplicationsCorpus[dfWebApplicationsCorpus['intent']== 'Export Data']['text'].apply(lambda x: len(x.split()))\n",
    "num_4 = dfWebApplicationsCorpus[dfWebApplicationsCorpus['intent']== 'Sync Accounts']['text'].apply(lambda x: len(x.split()))\n",
    "num_5 = dfWebApplicationsCorpus[dfWebApplicationsCorpus['intent']== 'None']['text'].apply(lambda x: len(x.split()))\n",
    "num_6 = dfWebApplicationsCorpus[dfWebApplicationsCorpus['intent']== 'Change Password']['text'].apply(lambda x: len(x.split()))\n",
    "num_7 = dfWebApplicationsCorpus[dfWebApplicationsCorpus['intent']== 'Filter Spam']['text'].apply(lambda x: len(x.split()))\n",
    "num_8 = dfWebApplicationsCorpus[dfWebApplicationsCorpus['intent']== 'Download Video']['text'].apply(lambda x: len(x.split()))\n",
    "plt.figure(figsize=(10,5))\n",
    "sns.kdeplot(num_1, shade=True, color = 'red').set_title('Kernel distribution of number of words for WebApplication Corpus')\n",
    "sns.kdeplot(num_2, shade=True, color = 'blue')\n",
    "sns.kdeplot(num_4, shade=True, color = 'green')\n",
    "sns.kdeplot(num_5, shade=True, color = 'purple')\n",
    "sns.kdeplot(num_6, shade=True, color = 'orange')\n",
    "sns.kdeplot(num_7, shade=True, color = 'pink')\n",
    "sns.kdeplot(num_8, shade=True, color = 'yellow')\n",
    "sns.kdeplot(num_3, shade=True, color = 'brown')\n",
    "plt.legend(labels=['Find Alternative', 'Delete Account', 'Export Data','Sync Accounts','None','Change Password','Filter Spam','Download Video'])\n",
    "plt.savefig('Kernel distribution of number of words for WebApplication Corpus.png')"
   ]
  },
  {
   "cell_type": "code",
   "execution_count": 121,
   "metadata": {},
   "outputs": [
    {
     "data": {
      "image/png": "[encoded data removed]",
      "text/plain": [
       "<Figure size 1000x500 with 1 Axes>"
      ]
     },
     "metadata": {},
     "output_type": "display_data"
    }
   ],
   "source": [
    "num_1 = dfNLUCorpus[dfNLUCorpus['intent']== 'GetWeather']['text'].apply(lambda x: len(x.split()))\n",
    "num_2 = dfNLUCorpus[dfNLUCorpus['intent']== 'SearchCreativeWork']['text'].apply(lambda x: len(x.split()))\n",
    "num_3 = dfNLUCorpus[dfNLUCorpus['intent']== 'SearchScreeningEvent']['text'].apply(lambda x: len(x.split()))\n",
    "num_4 = dfNLUCorpus[dfNLUCorpus['intent']== 'AddToPlaylist']['text'].apply(lambda x: len(x.split()))\n",
    "num_5 = dfNLUCorpus[dfNLUCorpus['intent']== 'PlayMusic']['text'].apply(lambda x: len(x.split()))\n",
    "num_6 = dfNLUCorpus[dfNLUCorpus['intent']== 'RateBook']['text'].apply(lambda x: len(x.split()))\n",
    "num_7 = dfNLUCorpus[dfNLUCorpus['intent']== 'BookRestaurant']['text'].apply(lambda x: len(x.split()))\n",
    "plt.figure(figsize=(10,5))\n",
    "sns.kdeplot(num_1, shade=True, color = 'red').set_title('Kernel distribution of number of words for NLU Corpus')\n",
    "sns.kdeplot(num_2, shade=True, color = 'blue')\n",
    "sns.kdeplot(num_4, shade=True, color = 'green')\n",
    "sns.kdeplot(num_5, shade=True, color = 'purple')\n",
    "sns.kdeplot(num_6, shade=True, color = 'orange')\n",
    "sns.kdeplot(num_7, shade=True, color = 'pink')\n",
    "sns.kdeplot(num_3, shade=True, color = 'yellow')\n",
    "plt.legend(labels=['GetWeather', 'SearchCreativeWork', 'SearchScreeningEvent','AddToPlaylist', 'PlayMusic', 'RateBook', 'BookRestaurant'])\n",
    "plt.savefig('Kernel distribution of number of words for NLU Corpus.png')"
   ]
  },
  {
   "cell_type": "code",
   "execution_count": 122,
   "metadata": {},
   "outputs": [
    {
     "data": {
      "image/png": "[encoded data removed]",
      "text/plain": [
       "<Figure size 1000x500 with 1 Axes>"
      ]
     },
     "metadata": {},
     "output_type": "display_data"
    }
   ],
   "source": [
    "num_1 = dfAskUbuntuCorpus[dfAskUbuntuCorpus['intent']== 'Software Recommendation']['text'].apply(lambda x: len(x.split()))\n",
    "num_2 = dfAskUbuntuCorpus[dfAskUbuntuCorpus['intent']== 'None']['text'].apply(lambda x: len(x.split()))\n",
    "num_3 = dfAskUbuntuCorpus[dfAskUbuntuCorpus['intent']== 'Shutdown Computer']['text'].apply(lambda x: len(x.split()))\n",
    "num_4 = dfAskUbuntuCorpus[dfAskUbuntuCorpus['intent']== 'Make Update']['text'].apply(lambda x: len(x.split()))\n",
    "num_5 = dfAskUbuntuCorpus[dfAskUbuntuCorpus['intent']== 'Setup Printer']['text'].apply(lambda x: len(x.split()))\n",
    "plt.figure(figsize=(10,5))\n",
    "sns.kdeplot(num_1, shade=True, color = 'red').set_title('Kernel distribution of number of words for AskUbuntu Corpus')\n",
    "sns.kdeplot(num_2, shade=True, color = 'blue')\n",
    "sns.kdeplot(num_4, shade=True, color = 'green')\n",
    "sns.kdeplot(num_5, shade=True, color = 'purple')\n",
    "sns.kdeplot(num_3, shade=True, color = 'yellow')\n",
    "plt.legend(labels=['Software Recommendation', 'None', 'Shutdown Computer','Make Update', 'Setup Printer'])\n",
    "plt.savefig('Kernel distribution of number of words for AskUbuntu Corpus.png')"
   ]
  },
  {
   "cell_type": "code",
   "execution_count": 123,
   "metadata": {},
   "outputs": [
    {
     "data": {
      "image/png": "[encoded data removed]",
      "text/plain": [
       "<Figure size 1000x500 with 1 Axes>"
      ]
     },
     "metadata": {},
     "output_type": "display_data"
    }
   ],
   "source": [
    "num_1 = dfChatbotCorpus[dfChatbotCorpus['intent']== 'FindConnection']['text'].apply(lambda x: len(x.split()))\n",
    "num_2 = dfChatbotCorpus[dfChatbotCorpus['intent']== 'DepartureTime']['text'].apply(lambda x: len(x.split()))\n",
    "plt.figure(figsize=(10,5))\n",
    "sns.kdeplot(num_1, shade=True, color = 'red').set_title('Kernel distribution of number of words for Chatbot Corpus')\n",
    "sns.kdeplot(num_2, shade=True, color = 'blue')\n",
    "plt.legend(labels=['FindConnection', 'DepartureTime'])\n",
    "plt.savefig('Kernel distribution of number of words for Chatbot Corpus.png')"
   ]
  },
  {
   "cell_type": "markdown",
   "metadata": {},
   "source": [
    "# 3. Data Pre-processing"
   ]
  },
  {
   "cell_type": "markdown",
   "metadata": {},
   "source": [
    "## Transforming Text to Lowercase"
   ]
  },
  {
   "cell_type": "code",
   "execution_count": 77,
   "metadata": {},
   "outputs": [
    {
     "data": {
      "text/html": [
       "<div>\n",
       "<style scoped>\n",
       "    .dataframe tbody tr th:only-of-type {\n",
       "        vertical-align: middle;\n",
       "    }\n",
       "\n",
       "    .dataframe tbody tr th {\n",
       "        vertical-align: top;\n",
       "    }\n",
       "\n",
       "    .dataframe thead th {\n",
       "        text-align: right;\n",
       "    }\n",
       "</style>\n",
       "<table border=\"1\" class=\"dataframe\">\n",
       "  <thead>\n",
       "    <tr style=\"text-align: right;\">\n",
       "      <th></th>\n",
       "      <th>text</th>\n",
       "      <th>text_lw</th>\n",
       "    </tr>\n",
       "  </thead>\n",
       "  <tbody>\n",
       "    <tr>\n",
       "      <th>0</th>\n",
       "      <td>Alternative to Facebook</td>\n",
       "      <td>alternative to facebook</td>\n",
       "    </tr>\n",
       "    <tr>\n",
       "      <th>1</th>\n",
       "      <td>How do I delete my Facebook account?</td>\n",
       "      <td>how do i delete my facebook account?</td>\n",
       "    </tr>\n",
       "    <tr>\n",
       "      <th>2</th>\n",
       "      <td>Are there any good Pandora alternatives with general availability outside the US?</td>\n",
       "      <td>are there any good pandora alternatives with general availability outside the us?</td>\n",
       "    </tr>\n",
       "    <tr>\n",
       "      <th>3</th>\n",
       "      <td>Is it possible to export my data from Trello to back it up?</td>\n",
       "      <td>is it possible to export my data from trello to back it up?</td>\n",
       "    </tr>\n",
       "    <tr>\n",
       "      <th>4</th>\n",
       "      <td>Is there an online alternative to iGoogle</td>\n",
       "      <td>is there an online alternative to igoogle</td>\n",
       "    </tr>\n",
       "    <tr>\n",
       "      <th>5</th>\n",
       "      <td>How can I remove myself from a Trello organization?</td>\n",
       "      <td>how can i remove myself from a trello organization?</td>\n",
       "    </tr>\n",
       "    <tr>\n",
       "      <th>6</th>\n",
       "      <td>How do I transfer my photos from Flickr to Picasa?</td>\n",
       "      <td>how do i transfer my photos from flickr to picasa?</td>\n",
       "    </tr>\n",
       "    <tr>\n",
       "      <th>7</th>\n",
       "      <td>How do I sync Google Calendar with my Outlook Calendar?</td>\n",
       "      <td>how do i sync google calendar with my outlook calendar?</td>\n",
       "    </tr>\n",
       "    <tr>\n",
       "      <th>8</th>\n",
       "      <td>Archive/export all the blog entries from a RSS feed in Google Reader</td>\n",
       "      <td>archive/export all the blog entries from a rss feed in google reader</td>\n",
       "    </tr>\n",
       "    <tr>\n",
       "      <th>9</th>\n",
       "      <td>How can I delete my 160by2 account?</td>\n",
       "      <td>how can i delete my 160by2 account?</td>\n",
       "    </tr>\n",
       "  </tbody>\n",
       "</table>\n",
       "</div>"
      ],
      "text/plain": [
       "                                                                                text  \\\n",
       "0                                                            Alternative to Facebook   \n",
       "1                                               How do I delete my Facebook account?   \n",
       "2  Are there any good Pandora alternatives with general availability outside the US?   \n",
       "3                        Is it possible to export my data from Trello to back it up?   \n",
       "4                                          Is there an online alternative to iGoogle   \n",
       "5                                How can I remove myself from a Trello organization?   \n",
       "6                                 How do I transfer my photos from Flickr to Picasa?   \n",
       "7                            How do I sync Google Calendar with my Outlook Calendar?   \n",
       "8               Archive/export all the blog entries from a RSS feed in Google Reader   \n",
       "9                                                How can I delete my 160by2 account?   \n",
       "\n",
       "                                                                             text_lw  \n",
       "0                                                            alternative to facebook  \n",
       "1                                               how do i delete my facebook account?  \n",
       "2  are there any good pandora alternatives with general availability outside the us?  \n",
       "3                        is it possible to export my data from trello to back it up?  \n",
       "4                                          is there an online alternative to igoogle  \n",
       "5                                how can i remove myself from a trello organization?  \n",
       "6                                 how do i transfer my photos from flickr to picasa?  \n",
       "7                            how do i sync google calendar with my outlook calendar?  \n",
       "8               archive/export all the blog entries from a rss feed in google reader  \n",
       "9                                                how can i delete my 160by2 account?  "
      ]
     },
     "execution_count": 77,
     "metadata": {},
     "output_type": "execute_result"
    }
   ],
   "source": [
    "dfWebApplicationsCorpus['text_lw'] = dfWebApplicationsCorpus['text'].str.lower()\n",
    "dfWebApplicationsCorpus[['text','text_lw']].head(10)"
   ]
  },
  {
   "cell_type": "code",
   "execution_count": 78,
   "metadata": {},
   "outputs": [
    {
     "data": {
      "text/html": [
       "<div>\n",
       "<style scoped>\n",
       "    .dataframe tbody tr th:only-of-type {\n",
       "        vertical-align: middle;\n",
       "    }\n",
       "\n",
       "    .dataframe tbody tr th {\n",
       "        vertical-align: top;\n",
       "    }\n",
       "\n",
       "    .dataframe thead th {\n",
       "        text-align: right;\n",
       "    }\n",
       "</style>\n",
       "<table border=\"1\" class=\"dataframe\">\n",
       "  <thead>\n",
       "    <tr style=\"text-align: right;\">\n",
       "      <th></th>\n",
       "      <th>text</th>\n",
       "      <th>text_lw</th>\n",
       "    </tr>\n",
       "  </thead>\n",
       "  <tbody>\n",
       "    <tr>\n",
       "      <th>0</th>\n",
       "      <td>What software can I use to view epub documents?</td>\n",
       "      <td>what software can i use to view epub documents?</td>\n",
       "    </tr>\n",
       "    <tr>\n",
       "      <th>1</th>\n",
       "      <td>Which PDF Viewer would you recommend?</td>\n",
       "      <td>which pdf viewer would you recommend?</td>\n",
       "    </tr>\n",
       "    <tr>\n",
       "      <th>2</th>\n",
       "      <td>What IDEs are available for Ubuntu?</td>\n",
       "      <td>what ides are available for ubuntu?</td>\n",
       "    </tr>\n",
       "    <tr>\n",
       "      <th>3</th>\n",
       "      <td>What's the best Mind Mapping Software?</td>\n",
       "      <td>what's the best mind mapping software?</td>\n",
       "    </tr>\n",
       "    <tr>\n",
       "      <th>4</th>\n",
       "      <td>Software to read a QR code?</td>\n",
       "      <td>software to read a qr code?</td>\n",
       "    </tr>\n",
       "    <tr>\n",
       "      <th>5</th>\n",
       "      <td>PDF to word conversion software?</td>\n",
       "      <td>pdf to word conversion software?</td>\n",
       "    </tr>\n",
       "    <tr>\n",
       "      <th>6</th>\n",
       "      <td>Is there software that can view .dwg files?</td>\n",
       "      <td>is there software that can view .dwg files?</td>\n",
       "    </tr>\n",
       "    <tr>\n",
       "      <th>7</th>\n",
       "      <td>What are some good PHP editors?</td>\n",
       "      <td>what are some good php editors?</td>\n",
       "    </tr>\n",
       "    <tr>\n",
       "      <th>8</th>\n",
       "      <td>Is there a software utility to adjust screen gamma/brightness/contrast?</td>\n",
       "      <td>is there a software utility to adjust screen gamma/brightness/contrast?</td>\n",
       "    </tr>\n",
       "    <tr>\n",
       "      <th>9</th>\n",
       "      <td>Please recommend a hex editor for shell</td>\n",
       "      <td>please recommend a hex editor for shell</td>\n",
       "    </tr>\n",
       "  </tbody>\n",
       "</table>\n",
       "</div>"
      ],
      "text/plain": [
       "                                                                      text  \\\n",
       "0                          What software can I use to view epub documents?   \n",
       "1                                    Which PDF Viewer would you recommend?   \n",
       "2                                      What IDEs are available for Ubuntu?   \n",
       "3                                   What's the best Mind Mapping Software?   \n",
       "4                                              Software to read a QR code?   \n",
       "5                                         PDF to word conversion software?   \n",
       "6                              Is there software that can view .dwg files?   \n",
       "7                                          What are some good PHP editors?   \n",
       "8  Is there a software utility to adjust screen gamma/brightness/contrast?   \n",
       "9                                  Please recommend a hex editor for shell   \n",
       "\n",
       "                                                                   text_lw  \n",
       "0                          what software can i use to view epub documents?  \n",
       "1                                    which pdf viewer would you recommend?  \n",
       "2                                      what ides are available for ubuntu?  \n",
       "3                                   what's the best mind mapping software?  \n",
       "4                                              software to read a qr code?  \n",
       "5                                         pdf to word conversion software?  \n",
       "6                              is there software that can view .dwg files?  \n",
       "7                                          what are some good php editors?  \n",
       "8  is there a software utility to adjust screen gamma/brightness/contrast?  \n",
       "9                                  please recommend a hex editor for shell  "
      ]
     },
     "execution_count": 78,
     "metadata": {},
     "output_type": "execute_result"
    }
   ],
   "source": [
    "dfAskUbuntuCorpus['text_lw'] = dfAskUbuntuCorpus['text'].str.lower()\n",
    "dfAskUbuntuCorpus[['text','text_lw']].head(10)"
   ]
  },
  {
   "cell_type": "code",
   "execution_count": 79,
   "metadata": {
    "execution": {
     "iopub.execute_input": "2022-12-21T19:46:31.240567Z",
     "iopub.status.busy": "2022-12-21T19:46:31.240196Z",
     "iopub.status.idle": "2022-12-21T19:46:32.758060Z",
     "shell.execute_reply": "2022-12-21T19:46:32.757169Z",
     "shell.execute_reply.started": "2022-12-21T19:46:31.240534Z"
    }
   },
   "outputs": [
    {
     "data": {
      "text/html": [
       "<div>\n",
       "<style scoped>\n",
       "    .dataframe tbody tr th:only-of-type {\n",
       "        vertical-align: middle;\n",
       "    }\n",
       "\n",
       "    .dataframe tbody tr th {\n",
       "        vertical-align: top;\n",
       "    }\n",
       "\n",
       "    .dataframe thead th {\n",
       "        text-align: right;\n",
       "    }\n",
       "</style>\n",
       "<table border=\"1\" class=\"dataframe\">\n",
       "  <thead>\n",
       "    <tr style=\"text-align: right;\">\n",
       "      <th></th>\n",
       "      <th>text</th>\n",
       "      <th>text_lw</th>\n",
       "    </tr>\n",
       "  </thead>\n",
       "  <tbody>\n",
       "    <tr>\n",
       "      <th>0</th>\n",
       "      <td>i want to go marienplatz</td>\n",
       "      <td>i want to go marienplatz</td>\n",
       "    </tr>\n",
       "    <tr>\n",
       "      <th>1</th>\n",
       "      <td>when is the next train in muncher freiheit?</td>\n",
       "      <td>when is the next train in muncher freiheit?</td>\n",
       "    </tr>\n",
       "    <tr>\n",
       "      <th>2</th>\n",
       "      <td>when does the next u-bahn leaves from garching forschungszentrum?</td>\n",
       "      <td>when does the next u-bahn leaves from garching forschungszentrum?</td>\n",
       "    </tr>\n",
       "    <tr>\n",
       "      <th>3</th>\n",
       "      <td>from olympia einkaufszentrum to hauptbahnhof</td>\n",
       "      <td>from olympia einkaufszentrum to hauptbahnhof</td>\n",
       "    </tr>\n",
       "    <tr>\n",
       "      <th>4</th>\n",
       "      <td>when is the next train from winterstraÃe 12 to kieferngarten</td>\n",
       "      <td>when is the next train from winterstraãe 12 to kieferngarten</td>\n",
       "    </tr>\n",
       "    <tr>\n",
       "      <th>5</th>\n",
       "      <td>when is the next rocket from winterstraÃe 12 to kieferngarte</td>\n",
       "      <td>when is the next rocket from winterstraãe 12 to kieferngarte</td>\n",
       "    </tr>\n",
       "    <tr>\n",
       "      <th>6</th>\n",
       "      <td>can you find a connection from garching to hauptbahnhof?</td>\n",
       "      <td>can you find a connection from garching to hauptbahnhof?</td>\n",
       "    </tr>\n",
       "    <tr>\n",
       "      <th>7</th>\n",
       "      <td>how to get from untere strassÃ¤cker 21 to frÃ¶ttmaning</td>\n",
       "      <td>how to get from untere strassã¤cker 21 to frã¶ttmaning</td>\n",
       "    </tr>\n",
       "    <tr>\n",
       "      <th>8</th>\n",
       "      <td>how i can get from marienplatz to garching</td>\n",
       "      <td>how i can get from marienplatz to garching</td>\n",
       "    </tr>\n",
       "    <tr>\n",
       "      <th>9</th>\n",
       "      <td>connection from boltzmannstraÃe to kieferngarten</td>\n",
       "      <td>connection from boltzmannstraãe to kieferngarten</td>\n",
       "    </tr>\n",
       "  </tbody>\n",
       "</table>\n",
       "</div>"
      ],
      "text/plain": [
       "                                                                text  \\\n",
       "0                                           i want to go marienplatz   \n",
       "1                        when is the next train in muncher freiheit?   \n",
       "2  when does the next u-bahn leaves from garching forschungszentrum?   \n",
       "3                       from olympia einkaufszentrum to hauptbahnhof   \n",
       "4      when is the next train from winterstraÃe 12 to kieferngarten   \n",
       "5      when is the next rocket from winterstraÃe 12 to kieferngarte   \n",
       "6           can you find a connection from garching to hauptbahnhof?   \n",
       "7             how to get from untere strassÃ¤cker 21 to frÃ¶ttmaning   \n",
       "8                         how i can get from marienplatz to garching   \n",
       "9                  connection from boltzmannstraÃe to kieferngarten   \n",
       "\n",
       "                                                             text_lw  \n",
       "0                                           i want to go marienplatz  \n",
       "1                        when is the next train in muncher freiheit?  \n",
       "2  when does the next u-bahn leaves from garching forschungszentrum?  \n",
       "3                       from olympia einkaufszentrum to hauptbahnhof  \n",
       "4      when is the next train from winterstraãe 12 to kieferngarten  \n",
       "5      when is the next rocket from winterstraãe 12 to kieferngarte  \n",
       "6           can you find a connection from garching to hauptbahnhof?  \n",
       "7             how to get from untere strassã¤cker 21 to frã¶ttmaning  \n",
       "8                         how i can get from marienplatz to garching  \n",
       "9                  connection from boltzmannstraãe to kieferngarten  "
      ]
     },
     "execution_count": 79,
     "metadata": {},
     "output_type": "execute_result"
    }
   ],
   "source": [
    "dfChatbotCorpus['text_lw'] = dfChatbotCorpus['text'].str.lower()\n",
    "dfChatbotCorpus[['text','text_lw']].head(10)"
   ]
  },
  {
   "cell_type": "code",
   "execution_count": 80,
   "metadata": {
    "execution": {
     "iopub.execute_input": "2022-12-21T19:46:31.240567Z",
     "iopub.status.busy": "2022-12-21T19:46:31.240196Z",
     "iopub.status.idle": "2022-12-21T19:46:32.758060Z",
     "shell.execute_reply": "2022-12-21T19:46:32.757169Z",
     "shell.execute_reply.started": "2022-12-21T19:46:31.240534Z"
    }
   },
   "outputs": [
    {
     "data": {
      "text/html": [
       "<div>\n",
       "<style scoped>\n",
       "    .dataframe tbody tr th:only-of-type {\n",
       "        vertical-align: middle;\n",
       "    }\n",
       "\n",
       "    .dataframe tbody tr th {\n",
       "        vertical-align: top;\n",
       "    }\n",
       "\n",
       "    .dataframe thead th {\n",
       "        text-align: right;\n",
       "    }\n",
       "</style>\n",
       "<table border=\"1\" class=\"dataframe\">\n",
       "  <thead>\n",
       "    <tr style=\"text-align: right;\">\n",
       "      <th></th>\n",
       "      <th>text</th>\n",
       "      <th>text_lw</th>\n",
       "    </tr>\n",
       "  </thead>\n",
       "  <tbody>\n",
       "    <tr>\n",
       "      <th>0</th>\n",
       "      <td>play some dave pearce</td>\n",
       "      <td>play some dave pearce</td>\n",
       "    </tr>\n",
       "    <tr>\n",
       "      <th>1</th>\n",
       "      <td>i d like to see the show onion sportsdome</td>\n",
       "      <td>i d like to see the show onion sportsdome</td>\n",
       "    </tr>\n",
       "    <tr>\n",
       "      <th>2</th>\n",
       "      <td>will there be fog in tahquamenon falls state park</td>\n",
       "      <td>will there be fog in tahquamenon falls state park</td>\n",
       "    </tr>\n",
       "    <tr>\n",
       "      <th>3</th>\n",
       "      <td>i want to see some movies in a b&amp;b theatres</td>\n",
       "      <td>i want to see some movies in a b&amp;b theatres</td>\n",
       "    </tr>\n",
       "    <tr>\n",
       "      <th>4</th>\n",
       "      <td>rate the current textbook 1 of 6 stars</td>\n",
       "      <td>rate the current textbook 1 of 6 stars</td>\n",
       "    </tr>\n",
       "    <tr>\n",
       "      <th>5</th>\n",
       "      <td>find a television show called structured fax file</td>\n",
       "      <td>find a television show called structured fax file</td>\n",
       "    </tr>\n",
       "    <tr>\n",
       "      <th>6</th>\n",
       "      <td>find focus now list and add eylem to my playlist</td>\n",
       "      <td>find focus now list and add eylem to my playlist</td>\n",
       "    </tr>\n",
       "    <tr>\n",
       "      <th>7</th>\n",
       "      <td>weather for six am in sc</td>\n",
       "      <td>weather for six am in sc</td>\n",
       "    </tr>\n",
       "    <tr>\n",
       "      <th>8</th>\n",
       "      <td>play some music from the fourties</td>\n",
       "      <td>play some music from the fourties</td>\n",
       "    </tr>\n",
       "    <tr>\n",
       "      <th>9</th>\n",
       "      <td>add no secrets to power gaming playlist</td>\n",
       "      <td>add no secrets to power gaming playlist</td>\n",
       "    </tr>\n",
       "  </tbody>\n",
       "</table>\n",
       "</div>"
      ],
      "text/plain": [
       "                                                text  \\\n",
       "0                              play some dave pearce   \n",
       "1          i d like to see the show onion sportsdome   \n",
       "2  will there be fog in tahquamenon falls state park   \n",
       "3        i want to see some movies in a b&b theatres   \n",
       "4             rate the current textbook 1 of 6 stars   \n",
       "5  find a television show called structured fax file   \n",
       "6   find focus now list and add eylem to my playlist   \n",
       "7                           weather for six am in sc   \n",
       "8                  play some music from the fourties   \n",
       "9            add no secrets to power gaming playlist   \n",
       "\n",
       "                                             text_lw  \n",
       "0                              play some dave pearce  \n",
       "1          i d like to see the show onion sportsdome  \n",
       "2  will there be fog in tahquamenon falls state park  \n",
       "3        i want to see some movies in a b&b theatres  \n",
       "4             rate the current textbook 1 of 6 stars  \n",
       "5  find a television show called structured fax file  \n",
       "6   find focus now list and add eylem to my playlist  \n",
       "7                           weather for six am in sc  \n",
       "8                  play some music from the fourties  \n",
       "9            add no secrets to power gaming playlist  "
      ]
     },
     "execution_count": 80,
     "metadata": {},
     "output_type": "execute_result"
    }
   ],
   "source": [
    "dfNLUCorpus['text_lw'] = dfNLUCorpus['text'].str.lower()\n",
    "dfNLUCorpus[['text','text_lw']].head(10)"
   ]
  },
  {
   "cell_type": "code",
   "execution_count": 81,
   "metadata": {},
   "outputs": [
    {
     "name": "stderr",
     "output_type": "stream",
     "text": [
      "[nltk_data] Downloading package punkt to\n",
      "[nltk_data]     C:\\Users\\abhis\\AppData\\Roaming\\nltk_data...\n",
      "[nltk_data]   Package punkt is already up-to-date!\n"
     ]
    },
    {
     "data": {
      "text/plain": [
       "True"
      ]
     },
     "execution_count": 81,
     "metadata": {},
     "output_type": "execute_result"
    }
   ],
   "source": [
    "import nltk\n",
    "nltk.download('punkt')"
   ]
  },
  {
   "cell_type": "markdown",
   "metadata": {},
   "source": [
    "## DataCleaning: Removing unncessary text (html, links, pontuation, numbers, stopwords)"
   ]
  },
  {
   "cell_type": "code",
   "execution_count": 82,
   "metadata": {
    "execution": {
     "iopub.execute_input": "2022-12-21T19:46:32.764458Z",
     "iopub.status.busy": "2022-12-21T19:46:32.762231Z",
     "iopub.status.idle": "2022-12-21T19:50:22.738746Z",
     "shell.execute_reply": "2022-12-21T19:50:22.737796Z",
     "shell.execute_reply.started": "2022-12-21T19:46:32.764421Z"
    }
   },
   "outputs": [],
   "source": [
    "sw = stopwords.words('english')\n",
    "\n",
    "def clean_text(text):\n",
    "    # remove \n",
    "    text = re.sub('\\[.*?\\]', '', text)\n",
    "    # remove links\n",
    "    text = re.sub('https?://\\S+|www\\.\\S+', '', text)\n",
    "    # remove tags\n",
    "    text = re.sub('<.*?>+', '', text)\n",
    "    # remove punctuation\n",
    "    text = re.sub('[%s]' % re.escape(string.punctuation), '', text)\n",
    "    # remove breaklines\n",
    "    text = re.sub('\\n', '', text)\n",
    "    # remove numbers\n",
    "    text = re.sub('\\w*\\d\\w*', '', text)\n",
    "    \n",
    "    # remove accent\n",
    "    text = unidecode.unidecode(text)\n",
    "    \n",
    "    # transform text into token\n",
    "    text_token = nltk.word_tokenize(text)\n",
    "    \n",
    "    # remove stopwords\n",
    "    words = [w for w in text_token if w not in sw]\n",
    "    \n",
    "    return ' '.join(words)"
   ]
  },
  {
   "cell_type": "code",
   "execution_count": 83,
   "metadata": {},
   "outputs": [
    {
     "data": {
      "text/html": [
       "<div>\n",
       "<style scoped>\n",
       "    .dataframe tbody tr th:only-of-type {\n",
       "        vertical-align: middle;\n",
       "    }\n",
       "\n",
       "    .dataframe tbody tr th {\n",
       "        vertical-align: top;\n",
       "    }\n",
       "\n",
       "    .dataframe thead th {\n",
       "        text-align: right;\n",
       "    }\n",
       "</style>\n",
       "<table border=\"1\" class=\"dataframe\">\n",
       "  <thead>\n",
       "    <tr style=\"text-align: right;\">\n",
       "      <th></th>\n",
       "      <th>text</th>\n",
       "      <th>text_lw</th>\n",
       "      <th>text_cl</th>\n",
       "    </tr>\n",
       "  </thead>\n",
       "  <tbody>\n",
       "    <tr>\n",
       "      <th>0</th>\n",
       "      <td>Alternative to Facebook</td>\n",
       "      <td>alternative to facebook</td>\n",
       "      <td>alternative facebook</td>\n",
       "    </tr>\n",
       "    <tr>\n",
       "      <th>1</th>\n",
       "      <td>How do I delete my Facebook account?</td>\n",
       "      <td>how do i delete my facebook account?</td>\n",
       "      <td>delete facebook account</td>\n",
       "    </tr>\n",
       "    <tr>\n",
       "      <th>2</th>\n",
       "      <td>Are there any good Pandora alternatives with general availability outside the US?</td>\n",
       "      <td>are there any good pandora alternatives with general availability outside the us?</td>\n",
       "      <td>good pandora alternatives general availability outside us</td>\n",
       "    </tr>\n",
       "    <tr>\n",
       "      <th>3</th>\n",
       "      <td>Is it possible to export my data from Trello to back it up?</td>\n",
       "      <td>is it possible to export my data from trello to back it up?</td>\n",
       "      <td>possible export data trello back</td>\n",
       "    </tr>\n",
       "    <tr>\n",
       "      <th>4</th>\n",
       "      <td>Is there an online alternative to iGoogle</td>\n",
       "      <td>is there an online alternative to igoogle</td>\n",
       "      <td>online alternative igoogle</td>\n",
       "    </tr>\n",
       "    <tr>\n",
       "      <th>5</th>\n",
       "      <td>How can I remove myself from a Trello organization?</td>\n",
       "      <td>how can i remove myself from a trello organization?</td>\n",
       "      <td>remove trello organization</td>\n",
       "    </tr>\n",
       "    <tr>\n",
       "      <th>6</th>\n",
       "      <td>How do I transfer my photos from Flickr to Picasa?</td>\n",
       "      <td>how do i transfer my photos from flickr to picasa?</td>\n",
       "      <td>transfer photos flickr picasa</td>\n",
       "    </tr>\n",
       "    <tr>\n",
       "      <th>7</th>\n",
       "      <td>How do I sync Google Calendar with my Outlook Calendar?</td>\n",
       "      <td>how do i sync google calendar with my outlook calendar?</td>\n",
       "      <td>sync google calendar outlook calendar</td>\n",
       "    </tr>\n",
       "    <tr>\n",
       "      <th>8</th>\n",
       "      <td>Archive/export all the blog entries from a RSS feed in Google Reader</td>\n",
       "      <td>archive/export all the blog entries from a rss feed in google reader</td>\n",
       "      <td>archiveexport blog entries rss feed google reader</td>\n",
       "    </tr>\n",
       "    <tr>\n",
       "      <th>9</th>\n",
       "      <td>How can I delete my 160by2 account?</td>\n",
       "      <td>how can i delete my 160by2 account?</td>\n",
       "      <td>delete account</td>\n",
       "    </tr>\n",
       "  </tbody>\n",
       "</table>\n",
       "</div>"
      ],
      "text/plain": [
       "                                                                                text  \\\n",
       "0                                                            Alternative to Facebook   \n",
       "1                                               How do I delete my Facebook account?   \n",
       "2  Are there any good Pandora alternatives with general availability outside the US?   \n",
       "3                        Is it possible to export my data from Trello to back it up?   \n",
       "4                                          Is there an online alternative to iGoogle   \n",
       "5                                How can I remove myself from a Trello organization?   \n",
       "6                                 How do I transfer my photos from Flickr to Picasa?   \n",
       "7                            How do I sync Google Calendar with my Outlook Calendar?   \n",
       "8               Archive/export all the blog entries from a RSS feed in Google Reader   \n",
       "9                                                How can I delete my 160by2 account?   \n",
       "\n",
       "                                                                             text_lw  \\\n",
       "0                                                            alternative to facebook   \n",
       "1                                               how do i delete my facebook account?   \n",
       "2  are there any good pandora alternatives with general availability outside the us?   \n",
       "3                        is it possible to export my data from trello to back it up?   \n",
       "4                                          is there an online alternative to igoogle   \n",
       "5                                how can i remove myself from a trello organization?   \n",
       "6                                 how do i transfer my photos from flickr to picasa?   \n",
       "7                            how do i sync google calendar with my outlook calendar?   \n",
       "8               archive/export all the blog entries from a rss feed in google reader   \n",
       "9                                                how can i delete my 160by2 account?   \n",
       "\n",
       "                                                     text_cl  \n",
       "0                                       alternative facebook  \n",
       "1                                    delete facebook account  \n",
       "2  good pandora alternatives general availability outside us  \n",
       "3                           possible export data trello back  \n",
       "4                                 online alternative igoogle  \n",
       "5                                 remove trello organization  \n",
       "6                              transfer photos flickr picasa  \n",
       "7                      sync google calendar outlook calendar  \n",
       "8          archiveexport blog entries rss feed google reader  \n",
       "9                                             delete account  "
      ]
     },
     "execution_count": 83,
     "metadata": {},
     "output_type": "execute_result"
    }
   ],
   "source": [
    "dfWebApplicationsCorpus['text_cl'] = dfWebApplicationsCorpus['text_lw'].apply(clean_text)\n",
    "dfWebApplicationsCorpus[['text','text_lw','text_cl']].head(10)"
   ]
  },
  {
   "cell_type": "code",
   "execution_count": 84,
   "metadata": {},
   "outputs": [
    {
     "data": {
      "text/html": [
       "<div>\n",
       "<style scoped>\n",
       "    .dataframe tbody tr th:only-of-type {\n",
       "        vertical-align: middle;\n",
       "    }\n",
       "\n",
       "    .dataframe tbody tr th {\n",
       "        vertical-align: top;\n",
       "    }\n",
       "\n",
       "    .dataframe thead th {\n",
       "        text-align: right;\n",
       "    }\n",
       "</style>\n",
       "<table border=\"1\" class=\"dataframe\">\n",
       "  <thead>\n",
       "    <tr style=\"text-align: right;\">\n",
       "      <th></th>\n",
       "      <th>text</th>\n",
       "      <th>text_lw</th>\n",
       "      <th>text_cl</th>\n",
       "    </tr>\n",
       "  </thead>\n",
       "  <tbody>\n",
       "    <tr>\n",
       "      <th>0</th>\n",
       "      <td>What software can I use to view epub documents?</td>\n",
       "      <td>what software can i use to view epub documents?</td>\n",
       "      <td>software use view epub documents</td>\n",
       "    </tr>\n",
       "    <tr>\n",
       "      <th>1</th>\n",
       "      <td>Which PDF Viewer would you recommend?</td>\n",
       "      <td>which pdf viewer would you recommend?</td>\n",
       "      <td>pdf viewer would recommend</td>\n",
       "    </tr>\n",
       "    <tr>\n",
       "      <th>2</th>\n",
       "      <td>What IDEs are available for Ubuntu?</td>\n",
       "      <td>what ides are available for ubuntu?</td>\n",
       "      <td>ides available ubuntu</td>\n",
       "    </tr>\n",
       "    <tr>\n",
       "      <th>3</th>\n",
       "      <td>What's the best Mind Mapping Software?</td>\n",
       "      <td>what's the best mind mapping software?</td>\n",
       "      <td>whats best mind mapping software</td>\n",
       "    </tr>\n",
       "    <tr>\n",
       "      <th>4</th>\n",
       "      <td>Software to read a QR code?</td>\n",
       "      <td>software to read a qr code?</td>\n",
       "      <td>software read qr code</td>\n",
       "    </tr>\n",
       "    <tr>\n",
       "      <th>5</th>\n",
       "      <td>PDF to word conversion software?</td>\n",
       "      <td>pdf to word conversion software?</td>\n",
       "      <td>pdf word conversion software</td>\n",
       "    </tr>\n",
       "    <tr>\n",
       "      <th>6</th>\n",
       "      <td>Is there software that can view .dwg files?</td>\n",
       "      <td>is there software that can view .dwg files?</td>\n",
       "      <td>software view dwg files</td>\n",
       "    </tr>\n",
       "    <tr>\n",
       "      <th>7</th>\n",
       "      <td>What are some good PHP editors?</td>\n",
       "      <td>what are some good php editors?</td>\n",
       "      <td>good php editors</td>\n",
       "    </tr>\n",
       "    <tr>\n",
       "      <th>8</th>\n",
       "      <td>Is there a software utility to adjust screen gamma/brightness/contrast?</td>\n",
       "      <td>is there a software utility to adjust screen gamma/brightness/contrast?</td>\n",
       "      <td>software utility adjust screen gammabrightnesscontrast</td>\n",
       "    </tr>\n",
       "    <tr>\n",
       "      <th>9</th>\n",
       "      <td>Please recommend a hex editor for shell</td>\n",
       "      <td>please recommend a hex editor for shell</td>\n",
       "      <td>please recommend hex editor shell</td>\n",
       "    </tr>\n",
       "  </tbody>\n",
       "</table>\n",
       "</div>"
      ],
      "text/plain": [
       "                                                                      text  \\\n",
       "0                          What software can I use to view epub documents?   \n",
       "1                                    Which PDF Viewer would you recommend?   \n",
       "2                                      What IDEs are available for Ubuntu?   \n",
       "3                                   What's the best Mind Mapping Software?   \n",
       "4                                              Software to read a QR code?   \n",
       "5                                         PDF to word conversion software?   \n",
       "6                              Is there software that can view .dwg files?   \n",
       "7                                          What are some good PHP editors?   \n",
       "8  Is there a software utility to adjust screen gamma/brightness/contrast?   \n",
       "9                                  Please recommend a hex editor for shell   \n",
       "\n",
       "                                                                   text_lw  \\\n",
       "0                          what software can i use to view epub documents?   \n",
       "1                                    which pdf viewer would you recommend?   \n",
       "2                                      what ides are available for ubuntu?   \n",
       "3                                   what's the best mind mapping software?   \n",
       "4                                              software to read a qr code?   \n",
       "5                                         pdf to word conversion software?   \n",
       "6                              is there software that can view .dwg files?   \n",
       "7                                          what are some good php editors?   \n",
       "8  is there a software utility to adjust screen gamma/brightness/contrast?   \n",
       "9                                  please recommend a hex editor for shell   \n",
       "\n",
       "                                                  text_cl  \n",
       "0                        software use view epub documents  \n",
       "1                              pdf viewer would recommend  \n",
       "2                                   ides available ubuntu  \n",
       "3                        whats best mind mapping software  \n",
       "4                                   software read qr code  \n",
       "5                            pdf word conversion software  \n",
       "6                                 software view dwg files  \n",
       "7                                        good php editors  \n",
       "8  software utility adjust screen gammabrightnesscontrast  \n",
       "9                       please recommend hex editor shell  "
      ]
     },
     "execution_count": 84,
     "metadata": {},
     "output_type": "execute_result"
    }
   ],
   "source": [
    "dfAskUbuntuCorpus['text_cl'] = dfAskUbuntuCorpus['text_lw'].apply(clean_text)\n",
    "dfAskUbuntuCorpus[['text','text_lw','text_cl']].head(10)"
   ]
  },
  {
   "cell_type": "code",
   "execution_count": 85,
   "metadata": {},
   "outputs": [
    {
     "data": {
      "text/html": [
       "<div>\n",
       "<style scoped>\n",
       "    .dataframe tbody tr th:only-of-type {\n",
       "        vertical-align: middle;\n",
       "    }\n",
       "\n",
       "    .dataframe tbody tr th {\n",
       "        vertical-align: top;\n",
       "    }\n",
       "\n",
       "    .dataframe thead th {\n",
       "        text-align: right;\n",
       "    }\n",
       "</style>\n",
       "<table border=\"1\" class=\"dataframe\">\n",
       "  <thead>\n",
       "    <tr style=\"text-align: right;\">\n",
       "      <th></th>\n",
       "      <th>text</th>\n",
       "      <th>text_lw</th>\n",
       "      <th>text_cl</th>\n",
       "    </tr>\n",
       "  </thead>\n",
       "  <tbody>\n",
       "    <tr>\n",
       "      <th>0</th>\n",
       "      <td>i want to go marienplatz</td>\n",
       "      <td>i want to go marienplatz</td>\n",
       "      <td>want go marienplatz</td>\n",
       "    </tr>\n",
       "    <tr>\n",
       "      <th>1</th>\n",
       "      <td>when is the next train in muncher freiheit?</td>\n",
       "      <td>when is the next train in muncher freiheit?</td>\n",
       "      <td>next train muncher freiheit</td>\n",
       "    </tr>\n",
       "    <tr>\n",
       "      <th>2</th>\n",
       "      <td>when does the next u-bahn leaves from garching forschungszentrum?</td>\n",
       "      <td>when does the next u-bahn leaves from garching forschungszentrum?</td>\n",
       "      <td>next ubahn leaves garching forschungszentrum</td>\n",
       "    </tr>\n",
       "    <tr>\n",
       "      <th>3</th>\n",
       "      <td>from olympia einkaufszentrum to hauptbahnhof</td>\n",
       "      <td>from olympia einkaufszentrum to hauptbahnhof</td>\n",
       "      <td>olympia einkaufszentrum hauptbahnhof</td>\n",
       "    </tr>\n",
       "    <tr>\n",
       "      <th>4</th>\n",
       "      <td>when is the next train from winterstraÃe 12 to kieferngarten</td>\n",
       "      <td>when is the next train from winterstraãe 12 to kieferngarten</td>\n",
       "      <td>next train winterstraae kieferngarten</td>\n",
       "    </tr>\n",
       "    <tr>\n",
       "      <th>5</th>\n",
       "      <td>when is the next rocket from winterstraÃe 12 to kieferngarte</td>\n",
       "      <td>when is the next rocket from winterstraãe 12 to kieferngarte</td>\n",
       "      <td>next rocket winterstraae kieferngarte</td>\n",
       "    </tr>\n",
       "    <tr>\n",
       "      <th>6</th>\n",
       "      <td>can you find a connection from garching to hauptbahnhof?</td>\n",
       "      <td>can you find a connection from garching to hauptbahnhof?</td>\n",
       "      <td>find connection garching hauptbahnhof</td>\n",
       "    </tr>\n",
       "    <tr>\n",
       "      <th>7</th>\n",
       "      <td>how to get from untere strassÃ¤cker 21 to frÃ¶ttmaning</td>\n",
       "      <td>how to get from untere strassã¤cker 21 to frã¶ttmaning</td>\n",
       "      <td>get untere strassa $ ? cker fraPttmaning</td>\n",
       "    </tr>\n",
       "    <tr>\n",
       "      <th>8</th>\n",
       "      <td>how i can get from marienplatz to garching</td>\n",
       "      <td>how i can get from marienplatz to garching</td>\n",
       "      <td>get marienplatz garching</td>\n",
       "    </tr>\n",
       "    <tr>\n",
       "      <th>9</th>\n",
       "      <td>connection from boltzmannstraÃe to kieferngarten</td>\n",
       "      <td>connection from boltzmannstraãe to kieferngarten</td>\n",
       "      <td>connection boltzmannstraae kieferngarten</td>\n",
       "    </tr>\n",
       "  </tbody>\n",
       "</table>\n",
       "</div>"
      ],
      "text/plain": [
       "                                                                text  \\\n",
       "0                                           i want to go marienplatz   \n",
       "1                        when is the next train in muncher freiheit?   \n",
       "2  when does the next u-bahn leaves from garching forschungszentrum?   \n",
       "3                       from olympia einkaufszentrum to hauptbahnhof   \n",
       "4      when is the next train from winterstraÃe 12 to kieferngarten   \n",
       "5      when is the next rocket from winterstraÃe 12 to kieferngarte   \n",
       "6           can you find a connection from garching to hauptbahnhof?   \n",
       "7             how to get from untere strassÃ¤cker 21 to frÃ¶ttmaning   \n",
       "8                         how i can get from marienplatz to garching   \n",
       "9                  connection from boltzmannstraÃe to kieferngarten   \n",
       "\n",
       "                                                             text_lw  \\\n",
       "0                                           i want to go marienplatz   \n",
       "1                        when is the next train in muncher freiheit?   \n",
       "2  when does the next u-bahn leaves from garching forschungszentrum?   \n",
       "3                       from olympia einkaufszentrum to hauptbahnhof   \n",
       "4      when is the next train from winterstraãe 12 to kieferngarten   \n",
       "5      when is the next rocket from winterstraãe 12 to kieferngarte   \n",
       "6           can you find a connection from garching to hauptbahnhof?   \n",
       "7             how to get from untere strassã¤cker 21 to frã¶ttmaning   \n",
       "8                         how i can get from marienplatz to garching   \n",
       "9                  connection from boltzmannstraãe to kieferngarten   \n",
       "\n",
       "                                        text_cl  \n",
       "0                           want go marienplatz  \n",
       "1                   next train muncher freiheit  \n",
       "2  next ubahn leaves garching forschungszentrum  \n",
       "3          olympia einkaufszentrum hauptbahnhof  \n",
       "4         next train winterstraae kieferngarten  \n",
       "5         next rocket winterstraae kieferngarte  \n",
       "6         find connection garching hauptbahnhof  \n",
       "7      get untere strassa $ ? cker fraPttmaning  \n",
       "8                      get marienplatz garching  \n",
       "9      connection boltzmannstraae kieferngarten  "
      ]
     },
     "execution_count": 85,
     "metadata": {},
     "output_type": "execute_result"
    }
   ],
   "source": [
    "dfChatbotCorpus['text_cl'] = dfChatbotCorpus['text_lw'].apply(clean_text)\n",
    "dfChatbotCorpus[['text','text_lw','text_cl']].head(10)"
   ]
  },
  {
   "cell_type": "code",
   "execution_count": 86,
   "metadata": {},
   "outputs": [
    {
     "data": {
      "text/html": [
       "<div>\n",
       "<style scoped>\n",
       "    .dataframe tbody tr th:only-of-type {\n",
       "        vertical-align: middle;\n",
       "    }\n",
       "\n",
       "    .dataframe tbody tr th {\n",
       "        vertical-align: top;\n",
       "    }\n",
       "\n",
       "    .dataframe thead th {\n",
       "        text-align: right;\n",
       "    }\n",
       "</style>\n",
       "<table border=\"1\" class=\"dataframe\">\n",
       "  <thead>\n",
       "    <tr style=\"text-align: right;\">\n",
       "      <th></th>\n",
       "      <th>text</th>\n",
       "      <th>text_lw</th>\n",
       "      <th>text_cl</th>\n",
       "    </tr>\n",
       "  </thead>\n",
       "  <tbody>\n",
       "    <tr>\n",
       "      <th>0</th>\n",
       "      <td>play some dave pearce</td>\n",
       "      <td>play some dave pearce</td>\n",
       "      <td>play dave pearce</td>\n",
       "    </tr>\n",
       "    <tr>\n",
       "      <th>1</th>\n",
       "      <td>i d like to see the show onion sportsdome</td>\n",
       "      <td>i d like to see the show onion sportsdome</td>\n",
       "      <td>like see show onion sportsdome</td>\n",
       "    </tr>\n",
       "    <tr>\n",
       "      <th>2</th>\n",
       "      <td>will there be fog in tahquamenon falls state park</td>\n",
       "      <td>will there be fog in tahquamenon falls state park</td>\n",
       "      <td>fog tahquamenon falls state park</td>\n",
       "    </tr>\n",
       "    <tr>\n",
       "      <th>3</th>\n",
       "      <td>i want to see some movies in a b&amp;b theatres</td>\n",
       "      <td>i want to see some movies in a b&amp;b theatres</td>\n",
       "      <td>want see movies bb theatres</td>\n",
       "    </tr>\n",
       "    <tr>\n",
       "      <th>4</th>\n",
       "      <td>rate the current textbook 1 of 6 stars</td>\n",
       "      <td>rate the current textbook 1 of 6 stars</td>\n",
       "      <td>rate current textbook stars</td>\n",
       "    </tr>\n",
       "    <tr>\n",
       "      <th>5</th>\n",
       "      <td>find a television show called structured fax file</td>\n",
       "      <td>find a television show called structured fax file</td>\n",
       "      <td>find television show called structured fax file</td>\n",
       "    </tr>\n",
       "    <tr>\n",
       "      <th>6</th>\n",
       "      <td>find focus now list and add eylem to my playlist</td>\n",
       "      <td>find focus now list and add eylem to my playlist</td>\n",
       "      <td>find focus list add eylem playlist</td>\n",
       "    </tr>\n",
       "    <tr>\n",
       "      <th>7</th>\n",
       "      <td>weather for six am in sc</td>\n",
       "      <td>weather for six am in sc</td>\n",
       "      <td>weather six sc</td>\n",
       "    </tr>\n",
       "    <tr>\n",
       "      <th>8</th>\n",
       "      <td>play some music from the fourties</td>\n",
       "      <td>play some music from the fourties</td>\n",
       "      <td>play music fourties</td>\n",
       "    </tr>\n",
       "    <tr>\n",
       "      <th>9</th>\n",
       "      <td>add no secrets to power gaming playlist</td>\n",
       "      <td>add no secrets to power gaming playlist</td>\n",
       "      <td>add secrets power gaming playlist</td>\n",
       "    </tr>\n",
       "  </tbody>\n",
       "</table>\n",
       "</div>"
      ],
      "text/plain": [
       "                                                text  \\\n",
       "0                              play some dave pearce   \n",
       "1          i d like to see the show onion sportsdome   \n",
       "2  will there be fog in tahquamenon falls state park   \n",
       "3        i want to see some movies in a b&b theatres   \n",
       "4             rate the current textbook 1 of 6 stars   \n",
       "5  find a television show called structured fax file   \n",
       "6   find focus now list and add eylem to my playlist   \n",
       "7                           weather for six am in sc   \n",
       "8                  play some music from the fourties   \n",
       "9            add no secrets to power gaming playlist   \n",
       "\n",
       "                                             text_lw  \\\n",
       "0                              play some dave pearce   \n",
       "1          i d like to see the show onion sportsdome   \n",
       "2  will there be fog in tahquamenon falls state park   \n",
       "3        i want to see some movies in a b&b theatres   \n",
       "4             rate the current textbook 1 of 6 stars   \n",
       "5  find a television show called structured fax file   \n",
       "6   find focus now list and add eylem to my playlist   \n",
       "7                           weather for six am in sc   \n",
       "8                  play some music from the fourties   \n",
       "9            add no secrets to power gaming playlist   \n",
       "\n",
       "                                           text_cl  \n",
       "0                                 play dave pearce  \n",
       "1                   like see show onion sportsdome  \n",
       "2                 fog tahquamenon falls state park  \n",
       "3                      want see movies bb theatres  \n",
       "4                      rate current textbook stars  \n",
       "5  find television show called structured fax file  \n",
       "6               find focus list add eylem playlist  \n",
       "7                                   weather six sc  \n",
       "8                              play music fourties  \n",
       "9                add secrets power gaming playlist  "
      ]
     },
     "execution_count": 86,
     "metadata": {},
     "output_type": "execute_result"
    }
   ],
   "source": [
    "dfNLUCorpus['text_cl'] = dfNLUCorpus['text_lw'].apply(clean_text)\n",
    "dfNLUCorpus[['text','text_lw','text_cl']].head(10)"
   ]
  },
  {
   "cell_type": "markdown",
   "metadata": {},
   "source": [
    "## Text Lemmatization"
   ]
  },
  {
   "cell_type": "code",
   "execution_count": 87,
   "metadata": {
    "execution": {
     "iopub.execute_input": "2022-12-21T19:50:22.740890Z",
     "iopub.status.busy": "2022-12-21T19:50:22.740121Z",
     "iopub.status.idle": "2022-12-21T19:50:23.052614Z",
     "shell.execute_reply": "2022-12-21T19:50:23.051725Z",
     "shell.execute_reply.started": "2022-12-21T19:50:22.740844Z"
    }
   },
   "outputs": [
    {
     "name": "stderr",
     "output_type": "stream",
     "text": [
      "[nltk_data] Downloading package omw-1.4 to\n",
      "[nltk_data]     C:\\Users\\abhis\\AppData\\Roaming\\nltk_data...\n",
      "[nltk_data]   Package omw-1.4 is already up-to-date!\n"
     ]
    },
    {
     "data": {
      "text/plain": [
       "True"
      ]
     },
     "execution_count": 87,
     "metadata": {},
     "output_type": "execute_result"
    }
   ],
   "source": [
    "nltk.download('omw-1.4')"
   ]
  },
  {
   "cell_type": "code",
   "execution_count": 88,
   "metadata": {
    "execution": {
     "iopub.execute_input": "2022-12-21T19:50:23.054470Z",
     "iopub.status.busy": "2022-12-21T19:50:23.054107Z",
     "iopub.status.idle": "2022-12-21T19:50:23.060728Z",
     "shell.execute_reply": "2022-12-21T19:50:23.059736Z",
     "shell.execute_reply.started": "2022-12-21T19:50:23.054433Z"
    }
   },
   "outputs": [],
   "source": [
    "lemmatizer = WordNetLemmatizer() \n",
    "\n",
    "def lemmatize_sentence(text):\n",
    "    # transform text into token\n",
    "    text_token = nltk.word_tokenize(text)\n",
    "    lemmatized_sentence = []\n",
    "    for word in text_token:\n",
    "        lemmatized_sentence.append(word)\n",
    "    return \" \".join(lemmatized_sentence)"
   ]
  },
  {
   "cell_type": "code",
   "execution_count": 89,
   "metadata": {
    "execution": {
     "iopub.execute_input": "2022-12-21T19:50:23.070553Z",
     "iopub.status.busy": "2022-12-21T19:50:23.070296Z",
     "iopub.status.idle": "2022-12-21T19:51:32.308997Z",
     "shell.execute_reply": "2022-12-21T19:51:32.307904Z",
     "shell.execute_reply.started": "2022-12-21T19:50:23.070529Z"
    }
   },
   "outputs": [
    {
     "data": {
      "text/html": [
       "<div>\n",
       "<style scoped>\n",
       "    .dataframe tbody tr th:only-of-type {\n",
       "        vertical-align: middle;\n",
       "    }\n",
       "\n",
       "    .dataframe tbody tr th {\n",
       "        vertical-align: top;\n",
       "    }\n",
       "\n",
       "    .dataframe thead th {\n",
       "        text-align: right;\n",
       "    }\n",
       "</style>\n",
       "<table border=\"1\" class=\"dataframe\">\n",
       "  <thead>\n",
       "    <tr style=\"text-align: right;\">\n",
       "      <th></th>\n",
       "      <th>text</th>\n",
       "      <th>text_lw</th>\n",
       "      <th>text_cl</th>\n",
       "      <th>text_lm</th>\n",
       "    </tr>\n",
       "  </thead>\n",
       "  <tbody>\n",
       "    <tr>\n",
       "      <th>0</th>\n",
       "      <td>Alternative to Facebook</td>\n",
       "      <td>alternative to facebook</td>\n",
       "      <td>alternative facebook</td>\n",
       "      <td>alternative facebook</td>\n",
       "    </tr>\n",
       "    <tr>\n",
       "      <th>1</th>\n",
       "      <td>How do I delete my Facebook account?</td>\n",
       "      <td>how do i delete my facebook account?</td>\n",
       "      <td>delete facebook account</td>\n",
       "      <td>delete facebook account</td>\n",
       "    </tr>\n",
       "    <tr>\n",
       "      <th>2</th>\n",
       "      <td>Are there any good Pandora alternatives with general availability outside the US?</td>\n",
       "      <td>are there any good pandora alternatives with general availability outside the us?</td>\n",
       "      <td>good pandora alternatives general availability outside us</td>\n",
       "      <td>good pandora alternatives general availability outside us</td>\n",
       "    </tr>\n",
       "    <tr>\n",
       "      <th>3</th>\n",
       "      <td>Is it possible to export my data from Trello to back it up?</td>\n",
       "      <td>is it possible to export my data from trello to back it up?</td>\n",
       "      <td>possible export data trello back</td>\n",
       "      <td>possible export data trello back</td>\n",
       "    </tr>\n",
       "    <tr>\n",
       "      <th>4</th>\n",
       "      <td>Is there an online alternative to iGoogle</td>\n",
       "      <td>is there an online alternative to igoogle</td>\n",
       "      <td>online alternative igoogle</td>\n",
       "      <td>online alternative igoogle</td>\n",
       "    </tr>\n",
       "    <tr>\n",
       "      <th>5</th>\n",
       "      <td>How can I remove myself from a Trello organization?</td>\n",
       "      <td>how can i remove myself from a trello organization?</td>\n",
       "      <td>remove trello organization</td>\n",
       "      <td>remove trello organization</td>\n",
       "    </tr>\n",
       "    <tr>\n",
       "      <th>6</th>\n",
       "      <td>How do I transfer my photos from Flickr to Picasa?</td>\n",
       "      <td>how do i transfer my photos from flickr to picasa?</td>\n",
       "      <td>transfer photos flickr picasa</td>\n",
       "      <td>transfer photos flickr picasa</td>\n",
       "    </tr>\n",
       "    <tr>\n",
       "      <th>7</th>\n",
       "      <td>How do I sync Google Calendar with my Outlook Calendar?</td>\n",
       "      <td>how do i sync google calendar with my outlook calendar?</td>\n",
       "      <td>sync google calendar outlook calendar</td>\n",
       "      <td>sync google calendar outlook calendar</td>\n",
       "    </tr>\n",
       "    <tr>\n",
       "      <th>8</th>\n",
       "      <td>Archive/export all the blog entries from a RSS feed in Google Reader</td>\n",
       "      <td>archive/export all the blog entries from a rss feed in google reader</td>\n",
       "      <td>archiveexport blog entries rss feed google reader</td>\n",
       "      <td>archiveexport blog entries rss feed google reader</td>\n",
       "    </tr>\n",
       "    <tr>\n",
       "      <th>9</th>\n",
       "      <td>How can I delete my 160by2 account?</td>\n",
       "      <td>how can i delete my 160by2 account?</td>\n",
       "      <td>delete account</td>\n",
       "      <td>delete account</td>\n",
       "    </tr>\n",
       "    <tr>\n",
       "      <th>10</th>\n",
       "      <td>How can I permanently delete my Yahoo mail account?</td>\n",
       "      <td>how can i permanently delete my yahoo mail account?</td>\n",
       "      <td>permanently delete yahoo mail account</td>\n",
       "      <td>permanently delete yahoo mail account</td>\n",
       "    </tr>\n",
       "    <tr>\n",
       "      <th>11</th>\n",
       "      <td>Deleting an account(website) from Google Analytics?</td>\n",
       "      <td>deleting an account(website) from google analytics?</td>\n",
       "      <td>deleting accountwebsite google analytics</td>\n",
       "      <td>deleting accountwebsite google analytics</td>\n",
       "    </tr>\n",
       "    <tr>\n",
       "      <th>12</th>\n",
       "      <td>How to delete my imgur account?</td>\n",
       "      <td>how to delete my imgur account?</td>\n",
       "      <td>delete imgur account</td>\n",
       "      <td>delete imgur account</td>\n",
       "    </tr>\n",
       "    <tr>\n",
       "      <th>13</th>\n",
       "      <td>How to change my Uber password or delete the account?</td>\n",
       "      <td>how to change my uber password or delete the account?</td>\n",
       "      <td>change uber password delete account</td>\n",
       "      <td>change uber password delete account</td>\n",
       "    </tr>\n",
       "    <tr>\n",
       "      <th>14</th>\n",
       "      <td>How to delete a Sify Mail account</td>\n",
       "      <td>how to delete a sify mail account</td>\n",
       "      <td>delete sify mail account</td>\n",
       "      <td>delete sify mail account</td>\n",
       "    </tr>\n",
       "    <tr>\n",
       "      <th>15</th>\n",
       "      <td>How to permanently delete a 37signals ID</td>\n",
       "      <td>how to permanently delete a 37signals id</td>\n",
       "      <td>permanently delete id</td>\n",
       "      <td>permanently delete id</td>\n",
       "    </tr>\n",
       "    <tr>\n",
       "      <th>16</th>\n",
       "      <td>How can I delete my Hunch account?</td>\n",
       "      <td>how can i delete my hunch account?</td>\n",
       "      <td>delete hunch account</td>\n",
       "      <td>delete hunch account</td>\n",
       "    </tr>\n",
       "    <tr>\n",
       "      <th>17</th>\n",
       "      <td>Any alternatives to Google Apps for your domain?</td>\n",
       "      <td>any alternatives to google apps for your domain?</td>\n",
       "      <td>alternatives google apps domain</td>\n",
       "      <td>alternatives google apps domain</td>\n",
       "    </tr>\n",
       "    <tr>\n",
       "      <th>18</th>\n",
       "      <td>Evernote alternative</td>\n",
       "      <td>evernote alternative</td>\n",
       "      <td>evernote alternative</td>\n",
       "      <td>evernote alternative</td>\n",
       "    </tr>\n",
       "    <tr>\n",
       "      <th>19</th>\n",
       "      <td>Alternatives to LibraryThing</td>\n",
       "      <td>alternatives to librarything</td>\n",
       "      <td>alternatives librarything</td>\n",
       "      <td>alternatives librarything</td>\n",
       "    </tr>\n",
       "  </tbody>\n",
       "</table>\n",
       "</div>"
      ],
      "text/plain": [
       "                                                                                 text  \\\n",
       "0                                                             Alternative to Facebook   \n",
       "1                                                How do I delete my Facebook account?   \n",
       "2   Are there any good Pandora alternatives with general availability outside the US?   \n",
       "3                         Is it possible to export my data from Trello to back it up?   \n",
       "4                                           Is there an online alternative to iGoogle   \n",
       "5                                 How can I remove myself from a Trello organization?   \n",
       "6                                  How do I transfer my photos from Flickr to Picasa?   \n",
       "7                             How do I sync Google Calendar with my Outlook Calendar?   \n",
       "8                Archive/export all the blog entries from a RSS feed in Google Reader   \n",
       "9                                                 How can I delete my 160by2 account?   \n",
       "10                                How can I permanently delete my Yahoo mail account?   \n",
       "11                                Deleting an account(website) from Google Analytics?   \n",
       "12                                                    How to delete my imgur account?   \n",
       "13                              How to change my Uber password or delete the account?   \n",
       "14                                                  How to delete a Sify Mail account   \n",
       "15                                           How to permanently delete a 37signals ID   \n",
       "16                                                 How can I delete my Hunch account?   \n",
       "17                                   Any alternatives to Google Apps for your domain?   \n",
       "18                                                               Evernote alternative   \n",
       "19                                                       Alternatives to LibraryThing   \n",
       "\n",
       "                                                                              text_lw  \\\n",
       "0                                                             alternative to facebook   \n",
       "1                                                how do i delete my facebook account?   \n",
       "2   are there any good pandora alternatives with general availability outside the us?   \n",
       "3                         is it possible to export my data from trello to back it up?   \n",
       "4                                           is there an online alternative to igoogle   \n",
       "5                                 how can i remove myself from a trello organization?   \n",
       "6                                  how do i transfer my photos from flickr to picasa?   \n",
       "7                             how do i sync google calendar with my outlook calendar?   \n",
       "8                archive/export all the blog entries from a rss feed in google reader   \n",
       "9                                                 how can i delete my 160by2 account?   \n",
       "10                                how can i permanently delete my yahoo mail account?   \n",
       "11                                deleting an account(website) from google analytics?   \n",
       "12                                                    how to delete my imgur account?   \n",
       "13                              how to change my uber password or delete the account?   \n",
       "14                                                  how to delete a sify mail account   \n",
       "15                                           how to permanently delete a 37signals id   \n",
       "16                                                 how can i delete my hunch account?   \n",
       "17                                   any alternatives to google apps for your domain?   \n",
       "18                                                               evernote alternative   \n",
       "19                                                       alternatives to librarything   \n",
       "\n",
       "                                                      text_cl  \\\n",
       "0                                        alternative facebook   \n",
       "1                                     delete facebook account   \n",
       "2   good pandora alternatives general availability outside us   \n",
       "3                            possible export data trello back   \n",
       "4                                  online alternative igoogle   \n",
       "5                                  remove trello organization   \n",
       "6                               transfer photos flickr picasa   \n",
       "7                       sync google calendar outlook calendar   \n",
       "8           archiveexport blog entries rss feed google reader   \n",
       "9                                              delete account   \n",
       "10                      permanently delete yahoo mail account   \n",
       "11                   deleting accountwebsite google analytics   \n",
       "12                                       delete imgur account   \n",
       "13                        change uber password delete account   \n",
       "14                                   delete sify mail account   \n",
       "15                                      permanently delete id   \n",
       "16                                       delete hunch account   \n",
       "17                            alternatives google apps domain   \n",
       "18                                       evernote alternative   \n",
       "19                                  alternatives librarything   \n",
       "\n",
       "                                                      text_lm  \n",
       "0                                        alternative facebook  \n",
       "1                                     delete facebook account  \n",
       "2   good pandora alternatives general availability outside us  \n",
       "3                            possible export data trello back  \n",
       "4                                  online alternative igoogle  \n",
       "5                                  remove trello organization  \n",
       "6                               transfer photos flickr picasa  \n",
       "7                       sync google calendar outlook calendar  \n",
       "8           archiveexport blog entries rss feed google reader  \n",
       "9                                              delete account  \n",
       "10                      permanently delete yahoo mail account  \n",
       "11                   deleting accountwebsite google analytics  \n",
       "12                                       delete imgur account  \n",
       "13                        change uber password delete account  \n",
       "14                                   delete sify mail account  \n",
       "15                                      permanently delete id  \n",
       "16                                       delete hunch account  \n",
       "17                            alternatives google apps domain  \n",
       "18                                       evernote alternative  \n",
       "19                                  alternatives librarything  "
      ]
     },
     "execution_count": 89,
     "metadata": {},
     "output_type": "execute_result"
    }
   ],
   "source": [
    "dfWebApplicationsCorpus['text_lm'] = dfWebApplicationsCorpus['text_cl'].apply(lemmatize_sentence)\n",
    "dfWebApplicationsCorpus[['text','text_lw','text_cl', 'text_lm']].head(20)"
   ]
  },
  {
   "cell_type": "code",
   "execution_count": 90,
   "metadata": {},
   "outputs": [
    {
     "data": {
      "text/html": [
       "<div>\n",
       "<style scoped>\n",
       "    .dataframe tbody tr th:only-of-type {\n",
       "        vertical-align: middle;\n",
       "    }\n",
       "\n",
       "    .dataframe tbody tr th {\n",
       "        vertical-align: top;\n",
       "    }\n",
       "\n",
       "    .dataframe thead th {\n",
       "        text-align: right;\n",
       "    }\n",
       "</style>\n",
       "<table border=\"1\" class=\"dataframe\">\n",
       "  <thead>\n",
       "    <tr style=\"text-align: right;\">\n",
       "      <th></th>\n",
       "      <th>text</th>\n",
       "      <th>text_lw</th>\n",
       "      <th>text_cl</th>\n",
       "      <th>text_lm</th>\n",
       "    </tr>\n",
       "  </thead>\n",
       "  <tbody>\n",
       "    <tr>\n",
       "      <th>0</th>\n",
       "      <td>What software can I use to view epub documents?</td>\n",
       "      <td>what software can i use to view epub documents?</td>\n",
       "      <td>software use view epub documents</td>\n",
       "      <td>software use view epub documents</td>\n",
       "    </tr>\n",
       "    <tr>\n",
       "      <th>1</th>\n",
       "      <td>Which PDF Viewer would you recommend?</td>\n",
       "      <td>which pdf viewer would you recommend?</td>\n",
       "      <td>pdf viewer would recommend</td>\n",
       "      <td>pdf viewer would recommend</td>\n",
       "    </tr>\n",
       "    <tr>\n",
       "      <th>2</th>\n",
       "      <td>What IDEs are available for Ubuntu?</td>\n",
       "      <td>what ides are available for ubuntu?</td>\n",
       "      <td>ides available ubuntu</td>\n",
       "      <td>ides available ubuntu</td>\n",
       "    </tr>\n",
       "    <tr>\n",
       "      <th>3</th>\n",
       "      <td>What's the best Mind Mapping Software?</td>\n",
       "      <td>what's the best mind mapping software?</td>\n",
       "      <td>whats best mind mapping software</td>\n",
       "      <td>whats best mind mapping software</td>\n",
       "    </tr>\n",
       "    <tr>\n",
       "      <th>4</th>\n",
       "      <td>Software to read a QR code?</td>\n",
       "      <td>software to read a qr code?</td>\n",
       "      <td>software read qr code</td>\n",
       "      <td>software read qr code</td>\n",
       "    </tr>\n",
       "    <tr>\n",
       "      <th>5</th>\n",
       "      <td>PDF to word conversion software?</td>\n",
       "      <td>pdf to word conversion software?</td>\n",
       "      <td>pdf word conversion software</td>\n",
       "      <td>pdf word conversion software</td>\n",
       "    </tr>\n",
       "    <tr>\n",
       "      <th>6</th>\n",
       "      <td>Is there software that can view .dwg files?</td>\n",
       "      <td>is there software that can view .dwg files?</td>\n",
       "      <td>software view dwg files</td>\n",
       "      <td>software view dwg files</td>\n",
       "    </tr>\n",
       "    <tr>\n",
       "      <th>7</th>\n",
       "      <td>What are some good PHP editors?</td>\n",
       "      <td>what are some good php editors?</td>\n",
       "      <td>good php editors</td>\n",
       "      <td>good php editors</td>\n",
       "    </tr>\n",
       "    <tr>\n",
       "      <th>8</th>\n",
       "      <td>Is there a software utility to adjust screen gamma/brightness/contrast?</td>\n",
       "      <td>is there a software utility to adjust screen gamma/brightness/contrast?</td>\n",
       "      <td>software utility adjust screen gammabrightnesscontrast</td>\n",
       "      <td>software utility adjust screen gammabrightnesscontrast</td>\n",
       "    </tr>\n",
       "    <tr>\n",
       "      <th>9</th>\n",
       "      <td>Please recommend a hex editor for shell</td>\n",
       "      <td>please recommend a hex editor for shell</td>\n",
       "      <td>please recommend hex editor shell</td>\n",
       "      <td>please recommend hex editor shell</td>\n",
       "    </tr>\n",
       "    <tr>\n",
       "      <th>10</th>\n",
       "      <td>Is there LAN topology mapping software available in Ubuntu?</td>\n",
       "      <td>is there lan topology mapping software available in ubuntu?</td>\n",
       "      <td>lan topology mapping software available ubuntu</td>\n",
       "      <td>lan topology mapping software available ubuntu</td>\n",
       "    </tr>\n",
       "    <tr>\n",
       "      <th>11</th>\n",
       "      <td>Is there a tool like wifi analyzer for ubuntu?</td>\n",
       "      <td>is there a tool like wifi analyzer for ubuntu?</td>\n",
       "      <td>tool like wifi analyzer ubuntu</td>\n",
       "      <td>tool like wifi analyzer ubuntu</td>\n",
       "    </tr>\n",
       "    <tr>\n",
       "      <th>12</th>\n",
       "      <td>Tool for recovering deleted data from a flash drive</td>\n",
       "      <td>tool for recovering deleted data from a flash drive</td>\n",
       "      <td>tool recovering deleted data flash drive</td>\n",
       "      <td>tool recovering deleted data flash drive</td>\n",
       "    </tr>\n",
       "    <tr>\n",
       "      <th>13</th>\n",
       "      <td>What's a simple \"colour picker\" app for GNOME?</td>\n",
       "      <td>what's a simple \"colour picker\" app for gnome?</td>\n",
       "      <td>whats simple colour picker app gnome</td>\n",
       "      <td>whats simple colour picker app gnome</td>\n",
       "    </tr>\n",
       "    <tr>\n",
       "      <th>14</th>\n",
       "      <td>Any app that tells me to take regular breaks from working?</td>\n",
       "      <td>any app that tells me to take regular breaks from working?</td>\n",
       "      <td>app tells take regular breaks working</td>\n",
       "      <td>app tells take regular breaks working</td>\n",
       "    </tr>\n",
       "    <tr>\n",
       "      <th>15</th>\n",
       "      <td>What are some good ASCII art generators?</td>\n",
       "      <td>what are some good ascii art generators?</td>\n",
       "      <td>good ascii art generators</td>\n",
       "      <td>good ascii art generators</td>\n",
       "    </tr>\n",
       "    <tr>\n",
       "      <th>16</th>\n",
       "      <td>What are some good GUI binary viewers/editors?</td>\n",
       "      <td>what are some good gui binary viewers/editors?</td>\n",
       "      <td>good gui binary viewerseditors</td>\n",
       "      <td>good gui binary viewerseditors</td>\n",
       "    </tr>\n",
       "    <tr>\n",
       "      <th>17</th>\n",
       "      <td>Which is the best PDF metadata viewer for Ubuntu?</td>\n",
       "      <td>which is the best pdf metadata viewer for ubuntu?</td>\n",
       "      <td>best pdf metadata viewer ubuntu</td>\n",
       "      <td>best pdf metadata viewer ubuntu</td>\n",
       "    </tr>\n",
       "    <tr>\n",
       "      <th>18</th>\n",
       "      <td>Is there a Linux file manager with a proper drop-down tree view? (like finder in OS X)</td>\n",
       "      <td>is there a linux file manager with a proper drop-down tree view? (like finder in os x)</td>\n",
       "      <td>linux file manager proper dropdown tree view like finder os x</td>\n",
       "      <td>linux file manager proper dropdown tree view like finder os x</td>\n",
       "    </tr>\n",
       "    <tr>\n",
       "      <th>19</th>\n",
       "      <td>Which application do you recommend for watching TV (DVB)?</td>\n",
       "      <td>which application do you recommend for watching tv (dvb)?</td>\n",
       "      <td>application recommend watching tv dvb</td>\n",
       "      <td>application recommend watching tv dvb</td>\n",
       "    </tr>\n",
       "  </tbody>\n",
       "</table>\n",
       "</div>"
      ],
      "text/plain": [
       "                                                                                      text  \\\n",
       "0                                          What software can I use to view epub documents?   \n",
       "1                                                    Which PDF Viewer would you recommend?   \n",
       "2                                                      What IDEs are available for Ubuntu?   \n",
       "3                                                   What's the best Mind Mapping Software?   \n",
       "4                                                              Software to read a QR code?   \n",
       "5                                                         PDF to word conversion software?   \n",
       "6                                              Is there software that can view .dwg files?   \n",
       "7                                                          What are some good PHP editors?   \n",
       "8                  Is there a software utility to adjust screen gamma/brightness/contrast?   \n",
       "9                                                  Please recommend a hex editor for shell   \n",
       "10                             Is there LAN topology mapping software available in Ubuntu?   \n",
       "11                                          Is there a tool like wifi analyzer for ubuntu?   \n",
       "12                                     Tool for recovering deleted data from a flash drive   \n",
       "13                                          What's a simple \"colour picker\" app for GNOME?   \n",
       "14                              Any app that tells me to take regular breaks from working?   \n",
       "15                                                What are some good ASCII art generators?   \n",
       "16                                          What are some good GUI binary viewers/editors?   \n",
       "17                                       Which is the best PDF metadata viewer for Ubuntu?   \n",
       "18  Is there a Linux file manager with a proper drop-down tree view? (like finder in OS X)   \n",
       "19                               Which application do you recommend for watching TV (DVB)?   \n",
       "\n",
       "                                                                                   text_lw  \\\n",
       "0                                          what software can i use to view epub documents?   \n",
       "1                                                    which pdf viewer would you recommend?   \n",
       "2                                                      what ides are available for ubuntu?   \n",
       "3                                                   what's the best mind mapping software?   \n",
       "4                                                              software to read a qr code?   \n",
       "5                                                         pdf to word conversion software?   \n",
       "6                                              is there software that can view .dwg files?   \n",
       "7                                                          what are some good php editors?   \n",
       "8                  is there a software utility to adjust screen gamma/brightness/contrast?   \n",
       "9                                                  please recommend a hex editor for shell   \n",
       "10                             is there lan topology mapping software available in ubuntu?   \n",
       "11                                          is there a tool like wifi analyzer for ubuntu?   \n",
       "12                                     tool for recovering deleted data from a flash drive   \n",
       "13                                          what's a simple \"colour picker\" app for gnome?   \n",
       "14                              any app that tells me to take regular breaks from working?   \n",
       "15                                                what are some good ascii art generators?   \n",
       "16                                          what are some good gui binary viewers/editors?   \n",
       "17                                       which is the best pdf metadata viewer for ubuntu?   \n",
       "18  is there a linux file manager with a proper drop-down tree view? (like finder in os x)   \n",
       "19                               which application do you recommend for watching tv (dvb)?   \n",
       "\n",
       "                                                          text_cl  \\\n",
       "0                                software use view epub documents   \n",
       "1                                      pdf viewer would recommend   \n",
       "2                                           ides available ubuntu   \n",
       "3                                whats best mind mapping software   \n",
       "4                                           software read qr code   \n",
       "5                                    pdf word conversion software   \n",
       "6                                         software view dwg files   \n",
       "7                                                good php editors   \n",
       "8          software utility adjust screen gammabrightnesscontrast   \n",
       "9                               please recommend hex editor shell   \n",
       "10                 lan topology mapping software available ubuntu   \n",
       "11                                 tool like wifi analyzer ubuntu   \n",
       "12                       tool recovering deleted data flash drive   \n",
       "13                           whats simple colour picker app gnome   \n",
       "14                          app tells take regular breaks working   \n",
       "15                                      good ascii art generators   \n",
       "16                                 good gui binary viewerseditors   \n",
       "17                                best pdf metadata viewer ubuntu   \n",
       "18  linux file manager proper dropdown tree view like finder os x   \n",
       "19                          application recommend watching tv dvb   \n",
       "\n",
       "                                                          text_lm  \n",
       "0                                software use view epub documents  \n",
       "1                                      pdf viewer would recommend  \n",
       "2                                           ides available ubuntu  \n",
       "3                                whats best mind mapping software  \n",
       "4                                           software read qr code  \n",
       "5                                    pdf word conversion software  \n",
       "6                                         software view dwg files  \n",
       "7                                                good php editors  \n",
       "8          software utility adjust screen gammabrightnesscontrast  \n",
       "9                               please recommend hex editor shell  \n",
       "10                 lan topology mapping software available ubuntu  \n",
       "11                                 tool like wifi analyzer ubuntu  \n",
       "12                       tool recovering deleted data flash drive  \n",
       "13                           whats simple colour picker app gnome  \n",
       "14                          app tells take regular breaks working  \n",
       "15                                      good ascii art generators  \n",
       "16                                 good gui binary viewerseditors  \n",
       "17                                best pdf metadata viewer ubuntu  \n",
       "18  linux file manager proper dropdown tree view like finder os x  \n",
       "19                          application recommend watching tv dvb  "
      ]
     },
     "execution_count": 90,
     "metadata": {},
     "output_type": "execute_result"
    }
   ],
   "source": [
    "dfAskUbuntuCorpus['text_lm'] = dfAskUbuntuCorpus['text_cl'].apply(lemmatize_sentence)\n",
    "dfAskUbuntuCorpus[['text','text_lw','text_cl', 'text_lm']].head(20)"
   ]
  },
  {
   "cell_type": "code",
   "execution_count": 91,
   "metadata": {},
   "outputs": [
    {
     "data": {
      "text/html": [
       "<div>\n",
       "<style scoped>\n",
       "    .dataframe tbody tr th:only-of-type {\n",
       "        vertical-align: middle;\n",
       "    }\n",
       "\n",
       "    .dataframe tbody tr th {\n",
       "        vertical-align: top;\n",
       "    }\n",
       "\n",
       "    .dataframe thead th {\n",
       "        text-align: right;\n",
       "    }\n",
       "</style>\n",
       "<table border=\"1\" class=\"dataframe\">\n",
       "  <thead>\n",
       "    <tr style=\"text-align: right;\">\n",
       "      <th></th>\n",
       "      <th>text</th>\n",
       "      <th>text_lw</th>\n",
       "      <th>text_cl</th>\n",
       "      <th>text_lm</th>\n",
       "    </tr>\n",
       "  </thead>\n",
       "  <tbody>\n",
       "    <tr>\n",
       "      <th>0</th>\n",
       "      <td>i want to go marienplatz</td>\n",
       "      <td>i want to go marienplatz</td>\n",
       "      <td>want go marienplatz</td>\n",
       "      <td>want go marienplatz</td>\n",
       "    </tr>\n",
       "    <tr>\n",
       "      <th>1</th>\n",
       "      <td>when is the next train in muncher freiheit?</td>\n",
       "      <td>when is the next train in muncher freiheit?</td>\n",
       "      <td>next train muncher freiheit</td>\n",
       "      <td>next train muncher freiheit</td>\n",
       "    </tr>\n",
       "    <tr>\n",
       "      <th>2</th>\n",
       "      <td>when does the next u-bahn leaves from garching forschungszentrum?</td>\n",
       "      <td>when does the next u-bahn leaves from garching forschungszentrum?</td>\n",
       "      <td>next ubahn leaves garching forschungszentrum</td>\n",
       "      <td>next ubahn leaves garching forschungszentrum</td>\n",
       "    </tr>\n",
       "    <tr>\n",
       "      <th>3</th>\n",
       "      <td>from olympia einkaufszentrum to hauptbahnhof</td>\n",
       "      <td>from olympia einkaufszentrum to hauptbahnhof</td>\n",
       "      <td>olympia einkaufszentrum hauptbahnhof</td>\n",
       "      <td>olympia einkaufszentrum hauptbahnhof</td>\n",
       "    </tr>\n",
       "    <tr>\n",
       "      <th>4</th>\n",
       "      <td>when is the next train from winterstraÃe 12 to kieferngarten</td>\n",
       "      <td>when is the next train from winterstraãe 12 to kieferngarten</td>\n",
       "      <td>next train winterstraae kieferngarten</td>\n",
       "      <td>next train winterstraae kieferngarten</td>\n",
       "    </tr>\n",
       "    <tr>\n",
       "      <th>5</th>\n",
       "      <td>when is the next rocket from winterstraÃe 12 to kieferngarte</td>\n",
       "      <td>when is the next rocket from winterstraãe 12 to kieferngarte</td>\n",
       "      <td>next rocket winterstraae kieferngarte</td>\n",
       "      <td>next rocket winterstraae kieferngarte</td>\n",
       "    </tr>\n",
       "    <tr>\n",
       "      <th>6</th>\n",
       "      <td>can you find a connection from garching to hauptbahnhof?</td>\n",
       "      <td>can you find a connection from garching to hauptbahnhof?</td>\n",
       "      <td>find connection garching hauptbahnhof</td>\n",
       "      <td>find connection garching hauptbahnhof</td>\n",
       "    </tr>\n",
       "    <tr>\n",
       "      <th>7</th>\n",
       "      <td>how to get from untere strassÃ¤cker 21 to frÃ¶ttmaning</td>\n",
       "      <td>how to get from untere strassã¤cker 21 to frã¶ttmaning</td>\n",
       "      <td>get untere strassa $ ? cker fraPttmaning</td>\n",
       "      <td>get untere strassa $ ? cker fraPttmaning</td>\n",
       "    </tr>\n",
       "    <tr>\n",
       "      <th>8</th>\n",
       "      <td>how i can get from marienplatz to garching</td>\n",
       "      <td>how i can get from marienplatz to garching</td>\n",
       "      <td>get marienplatz garching</td>\n",
       "      <td>get marienplatz garching</td>\n",
       "    </tr>\n",
       "    <tr>\n",
       "      <th>9</th>\n",
       "      <td>connection from boltzmannstraÃe to kieferngarten</td>\n",
       "      <td>connection from boltzmannstraãe to kieferngarten</td>\n",
       "      <td>connection boltzmannstraae kieferngarten</td>\n",
       "      <td>connection boltzmannstraae kieferngarten</td>\n",
       "    </tr>\n",
       "    <tr>\n",
       "      <th>10</th>\n",
       "      <td>how to get from bonner platz to freimann?</td>\n",
       "      <td>how to get from bonner platz to freimann?</td>\n",
       "      <td>get bonner platz freimann</td>\n",
       "      <td>get bonner platz freimann</td>\n",
       "    </tr>\n",
       "    <tr>\n",
       "      <th>11</th>\n",
       "      <td>when is the next s-bahn leaving at garching?</td>\n",
       "      <td>when is the next s-bahn leaving at garching?</td>\n",
       "      <td>next sbahn leaving garching</td>\n",
       "      <td>next sbahn leaving garching</td>\n",
       "    </tr>\n",
       "    <tr>\n",
       "      <th>12</th>\n",
       "      <td>how do i get from oez to hbf?</td>\n",
       "      <td>how do i get from oez to hbf?</td>\n",
       "      <td>get oez hbf</td>\n",
       "      <td>get oez hbf</td>\n",
       "    </tr>\n",
       "    <tr>\n",
       "      <th>13</th>\n",
       "      <td>how to get from winterstrasse 12 to frÃ¶ttmaning</td>\n",
       "      <td>how to get from winterstrasse 12 to frã¶ttmaning</td>\n",
       "      <td>get winterstrasse fraPttmaning</td>\n",
       "      <td>get winterstrasse fraPttmaning</td>\n",
       "    </tr>\n",
       "    <tr>\n",
       "      <th>14</th>\n",
       "      <td>how do i get from garching forschungszentrum to pasing</td>\n",
       "      <td>how do i get from garching forschungszentrum to pasing</td>\n",
       "      <td>get garching forschungszentrum pasing</td>\n",
       "      <td>get garching forschungszentrum pasing</td>\n",
       "    </tr>\n",
       "    <tr>\n",
       "      <th>15</th>\n",
       "      <td>theresienstraÃe to assling</td>\n",
       "      <td>theresienstraãe to assling</td>\n",
       "      <td>theresienstraae assling</td>\n",
       "      <td>theresienstraae assling</td>\n",
       "    </tr>\n",
       "    <tr>\n",
       "      <th>16</th>\n",
       "      <td>how can i get from theresienstraÃe to munich east?</td>\n",
       "      <td>how can i get from theresienstraãe to munich east?</td>\n",
       "      <td>get theresienstraae munich east</td>\n",
       "      <td>get theresienstraae munich east</td>\n",
       "    </tr>\n",
       "    <tr>\n",
       "      <th>17</th>\n",
       "      <td>when does the next bus starts from garching?</td>\n",
       "      <td>when does the next bus starts from garching?</td>\n",
       "      <td>next bus starts garching</td>\n",
       "      <td>next bus starts garching</td>\n",
       "    </tr>\n",
       "    <tr>\n",
       "      <th>18</th>\n",
       "      <td>from quiddestraÃe to garching?</td>\n",
       "      <td>from quiddestraãe to garching?</td>\n",
       "      <td>quiddestraae garching</td>\n",
       "      <td>quiddestraae garching</td>\n",
       "    </tr>\n",
       "    <tr>\n",
       "      <th>19</th>\n",
       "      <td>can you find a connection from kurt-eisner-straÃe to garching forschungszentrum?</td>\n",
       "      <td>can you find a connection from kurt-eisner-straãe to garching forschungszentrum?</td>\n",
       "      <td>find connection kurteisnerstraae garching forschungszentrum</td>\n",
       "      <td>find connection kurteisnerstraae garching forschungszentrum</td>\n",
       "    </tr>\n",
       "  </tbody>\n",
       "</table>\n",
       "</div>"
      ],
      "text/plain": [
       "                                                                                 text  \\\n",
       "0                                                            i want to go marienplatz   \n",
       "1                                         when is the next train in muncher freiheit?   \n",
       "2                   when does the next u-bahn leaves from garching forschungszentrum?   \n",
       "3                                        from olympia einkaufszentrum to hauptbahnhof   \n",
       "4                       when is the next train from winterstraÃe 12 to kieferngarten   \n",
       "5                       when is the next rocket from winterstraÃe 12 to kieferngarte   \n",
       "6                            can you find a connection from garching to hauptbahnhof?   \n",
       "7                              how to get from untere strassÃ¤cker 21 to frÃ¶ttmaning   \n",
       "8                                          how i can get from marienplatz to garching   \n",
       "9                                   connection from boltzmannstraÃe to kieferngarten   \n",
       "10                                          how to get from bonner platz to freimann?   \n",
       "11                                       when is the next s-bahn leaving at garching?   \n",
       "12                                                      how do i get from oez to hbf?   \n",
       "13                                   how to get from winterstrasse 12 to frÃ¶ttmaning   \n",
       "14                             how do i get from garching forschungszentrum to pasing   \n",
       "15                                                        theresienstraÃe to assling   \n",
       "16                                how can i get from theresienstraÃe to munich east?   \n",
       "17                                       when does the next bus starts from garching?   \n",
       "18                                                    from quiddestraÃe to garching?   \n",
       "19  can you find a connection from kurt-eisner-straÃe to garching forschungszentrum?   \n",
       "\n",
       "                                                                              text_lw  \\\n",
       "0                                                            i want to go marienplatz   \n",
       "1                                         when is the next train in muncher freiheit?   \n",
       "2                   when does the next u-bahn leaves from garching forschungszentrum?   \n",
       "3                                        from olympia einkaufszentrum to hauptbahnhof   \n",
       "4                       when is the next train from winterstraãe 12 to kieferngarten   \n",
       "5                       when is the next rocket from winterstraãe 12 to kieferngarte   \n",
       "6                            can you find a connection from garching to hauptbahnhof?   \n",
       "7                              how to get from untere strassã¤cker 21 to frã¶ttmaning   \n",
       "8                                          how i can get from marienplatz to garching   \n",
       "9                                   connection from boltzmannstraãe to kieferngarten   \n",
       "10                                          how to get from bonner platz to freimann?   \n",
       "11                                       when is the next s-bahn leaving at garching?   \n",
       "12                                                      how do i get from oez to hbf?   \n",
       "13                                   how to get from winterstrasse 12 to frã¶ttmaning   \n",
       "14                             how do i get from garching forschungszentrum to pasing   \n",
       "15                                                        theresienstraãe to assling   \n",
       "16                                how can i get from theresienstraãe to munich east?   \n",
       "17                                       when does the next bus starts from garching?   \n",
       "18                                                    from quiddestraãe to garching?   \n",
       "19  can you find a connection from kurt-eisner-straãe to garching forschungszentrum?   \n",
       "\n",
       "                                                        text_cl  \\\n",
       "0                                           want go marienplatz   \n",
       "1                                   next train muncher freiheit   \n",
       "2                  next ubahn leaves garching forschungszentrum   \n",
       "3                          olympia einkaufszentrum hauptbahnhof   \n",
       "4                         next train winterstraae kieferngarten   \n",
       "5                         next rocket winterstraae kieferngarte   \n",
       "6                         find connection garching hauptbahnhof   \n",
       "7                      get untere strassa $ ? cker fraPttmaning   \n",
       "8                                      get marienplatz garching   \n",
       "9                      connection boltzmannstraae kieferngarten   \n",
       "10                                    get bonner platz freimann   \n",
       "11                                  next sbahn leaving garching   \n",
       "12                                                  get oez hbf   \n",
       "13                               get winterstrasse fraPttmaning   \n",
       "14                        get garching forschungszentrum pasing   \n",
       "15                                      theresienstraae assling   \n",
       "16                              get theresienstraae munich east   \n",
       "17                                     next bus starts garching   \n",
       "18                                        quiddestraae garching   \n",
       "19  find connection kurteisnerstraae garching forschungszentrum   \n",
       "\n",
       "                                                        text_lm  \n",
       "0                                           want go marienplatz  \n",
       "1                                   next train muncher freiheit  \n",
       "2                  next ubahn leaves garching forschungszentrum  \n",
       "3                          olympia einkaufszentrum hauptbahnhof  \n",
       "4                         next train winterstraae kieferngarten  \n",
       "5                         next rocket winterstraae kieferngarte  \n",
       "6                         find connection garching hauptbahnhof  \n",
       "7                      get untere strassa $ ? cker fraPttmaning  \n",
       "8                                      get marienplatz garching  \n",
       "9                      connection boltzmannstraae kieferngarten  \n",
       "10                                    get bonner platz freimann  \n",
       "11                                  next sbahn leaving garching  \n",
       "12                                                  get oez hbf  \n",
       "13                               get winterstrasse fraPttmaning  \n",
       "14                        get garching forschungszentrum pasing  \n",
       "15                                      theresienstraae assling  \n",
       "16                              get theresienstraae munich east  \n",
       "17                                     next bus starts garching  \n",
       "18                                        quiddestraae garching  \n",
       "19  find connection kurteisnerstraae garching forschungszentrum  "
      ]
     },
     "execution_count": 91,
     "metadata": {},
     "output_type": "execute_result"
    }
   ],
   "source": [
    "dfChatbotCorpus['text_lm'] = dfChatbotCorpus['text_cl'].apply(lemmatize_sentence)\n",
    "dfChatbotCorpus[['text','text_lw','text_cl', 'text_lm']].head(20)"
   ]
  },
  {
   "cell_type": "code",
   "execution_count": 92,
   "metadata": {},
   "outputs": [
    {
     "data": {
      "text/html": [
       "<div>\n",
       "<style scoped>\n",
       "    .dataframe tbody tr th:only-of-type {\n",
       "        vertical-align: middle;\n",
       "    }\n",
       "\n",
       "    .dataframe tbody tr th {\n",
       "        vertical-align: top;\n",
       "    }\n",
       "\n",
       "    .dataframe thead th {\n",
       "        text-align: right;\n",
       "    }\n",
       "</style>\n",
       "<table border=\"1\" class=\"dataframe\">\n",
       "  <thead>\n",
       "    <tr style=\"text-align: right;\">\n",
       "      <th></th>\n",
       "      <th>text</th>\n",
       "      <th>text_lw</th>\n",
       "      <th>text_cl</th>\n",
       "      <th>text_lm</th>\n",
       "    </tr>\n",
       "  </thead>\n",
       "  <tbody>\n",
       "    <tr>\n",
       "      <th>0</th>\n",
       "      <td>play some dave pearce</td>\n",
       "      <td>play some dave pearce</td>\n",
       "      <td>play dave pearce</td>\n",
       "      <td>play dave pearce</td>\n",
       "    </tr>\n",
       "    <tr>\n",
       "      <th>1</th>\n",
       "      <td>i d like to see the show onion sportsdome</td>\n",
       "      <td>i d like to see the show onion sportsdome</td>\n",
       "      <td>like see show onion sportsdome</td>\n",
       "      <td>like see show onion sportsdome</td>\n",
       "    </tr>\n",
       "    <tr>\n",
       "      <th>2</th>\n",
       "      <td>will there be fog in tahquamenon falls state park</td>\n",
       "      <td>will there be fog in tahquamenon falls state park</td>\n",
       "      <td>fog tahquamenon falls state park</td>\n",
       "      <td>fog tahquamenon falls state park</td>\n",
       "    </tr>\n",
       "    <tr>\n",
       "      <th>3</th>\n",
       "      <td>i want to see some movies in a b&amp;b theatres</td>\n",
       "      <td>i want to see some movies in a b&amp;b theatres</td>\n",
       "      <td>want see movies bb theatres</td>\n",
       "      <td>want see movies bb theatres</td>\n",
       "    </tr>\n",
       "    <tr>\n",
       "      <th>4</th>\n",
       "      <td>rate the current textbook 1 of 6 stars</td>\n",
       "      <td>rate the current textbook 1 of 6 stars</td>\n",
       "      <td>rate current textbook stars</td>\n",
       "      <td>rate current textbook stars</td>\n",
       "    </tr>\n",
       "    <tr>\n",
       "      <th>5</th>\n",
       "      <td>find a television show called structured fax file</td>\n",
       "      <td>find a television show called structured fax file</td>\n",
       "      <td>find television show called structured fax file</td>\n",
       "      <td>find television show called structured fax file</td>\n",
       "    </tr>\n",
       "    <tr>\n",
       "      <th>6</th>\n",
       "      <td>find focus now list and add eylem to my playlist</td>\n",
       "      <td>find focus now list and add eylem to my playlist</td>\n",
       "      <td>find focus list add eylem playlist</td>\n",
       "      <td>find focus list add eylem playlist</td>\n",
       "    </tr>\n",
       "    <tr>\n",
       "      <th>7</th>\n",
       "      <td>weather for six am in sc</td>\n",
       "      <td>weather for six am in sc</td>\n",
       "      <td>weather six sc</td>\n",
       "      <td>weather six sc</td>\n",
       "    </tr>\n",
       "    <tr>\n",
       "      <th>8</th>\n",
       "      <td>play some music from the fourties</td>\n",
       "      <td>play some music from the fourties</td>\n",
       "      <td>play music fourties</td>\n",
       "      <td>play music fourties</td>\n",
       "    </tr>\n",
       "    <tr>\n",
       "      <th>9</th>\n",
       "      <td>add no secrets to power gaming playlist</td>\n",
       "      <td>add no secrets to power gaming playlist</td>\n",
       "      <td>add secrets power gaming playlist</td>\n",
       "      <td>add secrets power gaming playlist</td>\n",
       "    </tr>\n",
       "    <tr>\n",
       "      <th>10</th>\n",
       "      <td>book a restaurant this week for joni  wilda sanders and i in al</td>\n",
       "      <td>book a restaurant this week for joni  wilda sanders and i in al</td>\n",
       "      <td>book restaurant week joni wilda sanders al</td>\n",
       "      <td>book restaurant week joni wilda sanders al</td>\n",
       "    </tr>\n",
       "    <tr>\n",
       "      <th>11</th>\n",
       "      <td>can you find me the free for all show</td>\n",
       "      <td>can you find me the free for all show</td>\n",
       "      <td>find free show</td>\n",
       "      <td>find free show</td>\n",
       "    </tr>\n",
       "    <tr>\n",
       "      <th>12</th>\n",
       "      <td>what is the schedule for the fox and the child in cinema</td>\n",
       "      <td>what is the schedule for the fox and the child in cinema</td>\n",
       "      <td>schedule fox child cinema</td>\n",
       "      <td>schedule fox child cinema</td>\n",
       "    </tr>\n",
       "    <tr>\n",
       "      <th>13</th>\n",
       "      <td>play nightbirds on nantucket soundtrack</td>\n",
       "      <td>play nightbirds on nantucket soundtrack</td>\n",
       "      <td>play nightbirds nantucket soundtrack</td>\n",
       "      <td>play nightbirds nantucket soundtrack</td>\n",
       "    </tr>\n",
       "    <tr>\n",
       "      <th>14</th>\n",
       "      <td>rate this book 1 out of 6</td>\n",
       "      <td>rate this book 1 out of 6</td>\n",
       "      <td>rate book</td>\n",
       "      <td>rate book</td>\n",
       "    </tr>\n",
       "    <tr>\n",
       "      <th>15</th>\n",
       "      <td>where can i locate leo the lion for purchase</td>\n",
       "      <td>where can i locate leo the lion for purchase</td>\n",
       "      <td>locate leo lion purchase</td>\n",
       "      <td>locate leo lion purchase</td>\n",
       "    </tr>\n",
       "    <tr>\n",
       "      <th>16</th>\n",
       "      <td>is it humid in otsego rÃ©union</td>\n",
       "      <td>is it humid in otsego rã©union</td>\n",
       "      <td>humid otsego ra ( c ) union</td>\n",
       "      <td>humid otsego ra ( c ) union</td>\n",
       "    </tr>\n",
       "    <tr>\n",
       "      <th>17</th>\n",
       "      <td>i would rate theft: a love story four out of 6 stars</td>\n",
       "      <td>i would rate theft: a love story four out of 6 stars</td>\n",
       "      <td>would rate theft love story four stars</td>\n",
       "      <td>would rate theft love story four stars</td>\n",
       "    </tr>\n",
       "    <tr>\n",
       "      <th>18</th>\n",
       "      <td>book this week for their step sister s workplace close</td>\n",
       "      <td>book this week for their step sister s workplace close</td>\n",
       "      <td>book week step sister workplace close</td>\n",
       "      <td>book week step sister workplace close</td>\n",
       "    </tr>\n",
       "    <tr>\n",
       "      <th>19</th>\n",
       "      <td>play theme music from 2011</td>\n",
       "      <td>play theme music from 2011</td>\n",
       "      <td>play theme music</td>\n",
       "      <td>play theme music</td>\n",
       "    </tr>\n",
       "  </tbody>\n",
       "</table>\n",
       "</div>"
      ],
      "text/plain": [
       "                                                               text  \\\n",
       "0                                             play some dave pearce   \n",
       "1                         i d like to see the show onion sportsdome   \n",
       "2                 will there be fog in tahquamenon falls state park   \n",
       "3                       i want to see some movies in a b&b theatres   \n",
       "4                            rate the current textbook 1 of 6 stars   \n",
       "5                 find a television show called structured fax file   \n",
       "6                  find focus now list and add eylem to my playlist   \n",
       "7                                          weather for six am in sc   \n",
       "8                                 play some music from the fourties   \n",
       "9                           add no secrets to power gaming playlist   \n",
       "10  book a restaurant this week for joni  wilda sanders and i in al   \n",
       "11                            can you find me the free for all show   \n",
       "12         what is the schedule for the fox and the child in cinema   \n",
       "13                          play nightbirds on nantucket soundtrack   \n",
       "14                                        rate this book 1 out of 6   \n",
       "15                     where can i locate leo the lion for purchase   \n",
       "16                                   is it humid in otsego rÃ©union   \n",
       "17             i would rate theft: a love story four out of 6 stars   \n",
       "18           book this week for their step sister s workplace close   \n",
       "19                                       play theme music from 2011   \n",
       "\n",
       "                                                            text_lw  \\\n",
       "0                                             play some dave pearce   \n",
       "1                         i d like to see the show onion sportsdome   \n",
       "2                 will there be fog in tahquamenon falls state park   \n",
       "3                       i want to see some movies in a b&b theatres   \n",
       "4                            rate the current textbook 1 of 6 stars   \n",
       "5                 find a television show called structured fax file   \n",
       "6                  find focus now list and add eylem to my playlist   \n",
       "7                                          weather for six am in sc   \n",
       "8                                 play some music from the fourties   \n",
       "9                           add no secrets to power gaming playlist   \n",
       "10  book a restaurant this week for joni  wilda sanders and i in al   \n",
       "11                            can you find me the free for all show   \n",
       "12         what is the schedule for the fox and the child in cinema   \n",
       "13                          play nightbirds on nantucket soundtrack   \n",
       "14                                        rate this book 1 out of 6   \n",
       "15                     where can i locate leo the lion for purchase   \n",
       "16                                   is it humid in otsego rã©union   \n",
       "17             i would rate theft: a love story four out of 6 stars   \n",
       "18           book this week for their step sister s workplace close   \n",
       "19                                       play theme music from 2011   \n",
       "\n",
       "                                            text_cl  \\\n",
       "0                                  play dave pearce   \n",
       "1                    like see show onion sportsdome   \n",
       "2                  fog tahquamenon falls state park   \n",
       "3                       want see movies bb theatres   \n",
       "4                       rate current textbook stars   \n",
       "5   find television show called structured fax file   \n",
       "6                find focus list add eylem playlist   \n",
       "7                                    weather six sc   \n",
       "8                               play music fourties   \n",
       "9                 add secrets power gaming playlist   \n",
       "10       book restaurant week joni wilda sanders al   \n",
       "11                                   find free show   \n",
       "12                        schedule fox child cinema   \n",
       "13             play nightbirds nantucket soundtrack   \n",
       "14                                        rate book   \n",
       "15                         locate leo lion purchase   \n",
       "16                      humid otsego ra ( c ) union   \n",
       "17           would rate theft love story four stars   \n",
       "18            book week step sister workplace close   \n",
       "19                                 play theme music   \n",
       "\n",
       "                                            text_lm  \n",
       "0                                  play dave pearce  \n",
       "1                    like see show onion sportsdome  \n",
       "2                  fog tahquamenon falls state park  \n",
       "3                       want see movies bb theatres  \n",
       "4                       rate current textbook stars  \n",
       "5   find television show called structured fax file  \n",
       "6                find focus list add eylem playlist  \n",
       "7                                    weather six sc  \n",
       "8                               play music fourties  \n",
       "9                 add secrets power gaming playlist  \n",
       "10       book restaurant week joni wilda sanders al  \n",
       "11                                   find free show  \n",
       "12                        schedule fox child cinema  \n",
       "13             play nightbirds nantucket soundtrack  \n",
       "14                                        rate book  \n",
       "15                         locate leo lion purchase  \n",
       "16                      humid otsego ra ( c ) union  \n",
       "17           would rate theft love story four stars  \n",
       "18            book week step sister workplace close  \n",
       "19                                 play theme music  "
      ]
     },
     "execution_count": 92,
     "metadata": {},
     "output_type": "execute_result"
    }
   ],
   "source": [
    "dfNLUCorpus['text_lm'] = dfNLUCorpus['text_cl'].apply(lemmatize_sentence)\n",
    "dfNLUCorpus[['text','text_lw','text_cl', 'text_lm']].head(20)"
   ]
  },
  {
   "cell_type": "code",
   "execution_count": 93,
   "metadata": {},
   "outputs": [
    {
     "data": {
      "text/plain": [
       "0                                        play dave pearce\n",
       "1                          like see show onion sportsdome\n",
       "2                        fog tahquamenon falls state park\n",
       "3                             want see movies bb theatres\n",
       "4                             rate current textbook stars\n",
       "                               ...                       \n",
       "14479    please make reservations bar closeby lake alfred\n",
       "14480                  time hotline playing movie theatre\n",
       "14481                               see trailer love beat\n",
       "14482              movies playing douglas theatre company\n",
       "14483             play case whitechapel vampire tv series\n",
       "Name: text_lm, Length: 14484, dtype: object"
      ]
     },
     "execution_count": 93,
     "metadata": {},
     "output_type": "execute_result"
    }
   ],
   "source": [
    "dfNLUCorpus['text_lm']"
   ]
  },
  {
   "cell_type": "markdown",
   "metadata": {},
   "source": [
    "# 4. Predictive model\n",
    "\n",
    "## Creating train and test dataset (80% = train and 20% = test)"
   ]
  },
  {
   "cell_type": "code",
   "execution_count": 94,
   "metadata": {
    "execution": {
     "iopub.execute_input": "2022-12-21T19:56:46.522489Z",
     "iopub.status.busy": "2022-12-21T19:56:46.521888Z",
     "iopub.status.idle": "2022-12-21T19:56:46.543507Z",
     "shell.execute_reply": "2022-12-21T19:56:46.542445Z",
     "shell.execute_reply.started": "2022-12-21T19:56:46.522454Z"
    }
   },
   "outputs": [
    {
     "name": "stdout",
     "output_type": "stream",
     "text": [
      "XWebApplicationsCorpus_train shape: (59, 1)\n",
      "yWebApplicationsCorpus_train shape: (59,)\n",
      "------------------------------\n",
      "XWebApplicationsCorpus_test shape: (30, 1)\n",
      "yWebApplicationsCorpus_test shape: (30,)\n"
     ]
    }
   ],
   "source": [
    "# For Webapplication Corpus\n",
    "XWebApplicationsCorpus_train, XWebApplicationsCorpus_test, yWebApplicationsCorpus_train, yWebApplicationsCorpus_test = train_test_split(dfWebApplicationsCorpus[['text_lm']], dfWebApplicationsCorpus.iloc[:,1], test_size=1/3, random_state=42)\n",
    "\n",
    "print(f\"XWebApplicationsCorpus_train shape: {XWebApplicationsCorpus_train.shape}\")\n",
    "print(f\"yWebApplicationsCorpus_train shape: {yWebApplicationsCorpus_train.shape}\")\n",
    "print(\"-\"*30)\n",
    "print(f\"XWebApplicationsCorpus_test shape: {XWebApplicationsCorpus_test.shape}\")\n",
    "print(f\"yWebApplicationsCorpus_test shape: {yWebApplicationsCorpus_test.shape}\")"
   ]
  },
  {
   "cell_type": "code",
   "execution_count": 95,
   "metadata": {},
   "outputs": [
    {
     "name": "stdout",
     "output_type": "stream",
     "text": [
      "XAskUbuntuCorpus_train shape: (108, 1)\n",
      "yAskUbuntuCorpus_train shape: (108,)\n",
      "------------------------------\n",
      "XAskUbuntuCorpus_test shape: (54, 1)\n",
      "yAskUbuntuCorpus_test shape: (54,)\n"
     ]
    }
   ],
   "source": [
    "# For AskUbuntuCorpus Corpus\n",
    "XAskUbuntuCorpus_train, XAskUbuntuCorpus_test, yAskUbuntuCorpus_train, yAskUbuntuCorpus_test = train_test_split(dfAskUbuntuCorpus[['text_lm']], dfAskUbuntuCorpus.iloc[:,1], test_size=1/3, random_state=42)\n",
    "\n",
    "print(f\"XAskUbuntuCorpus_train shape: {XAskUbuntuCorpus_train.shape}\")\n",
    "print(f\"yAskUbuntuCorpus_train shape: {yAskUbuntuCorpus_train.shape}\")\n",
    "print(\"-\"*30)\n",
    "print(f\"XAskUbuntuCorpus_test shape: {XAskUbuntuCorpus_test.shape}\")\n",
    "print(f\"yAskUbuntuCorpus_test shape: {yAskUbuntuCorpus_test.shape}\")"
   ]
  },
  {
   "cell_type": "code",
   "execution_count": 96,
   "metadata": {
    "execution": {
     "iopub.execute_input": "2022-12-21T19:56:46.522489Z",
     "iopub.status.busy": "2022-12-21T19:56:46.521888Z",
     "iopub.status.idle": "2022-12-21T19:56:46.543507Z",
     "shell.execute_reply": "2022-12-21T19:56:46.542445Z",
     "shell.execute_reply.started": "2022-12-21T19:56:46.522454Z"
    }
   },
   "outputs": [
    {
     "name": "stdout",
     "output_type": "stream",
     "text": [
      "XChatbotCorpus_train shape: (137, 1)\n",
      "yChatbotCorpus_train shape: (137,)\n",
      "------------------------------\n",
      "XChatbotCorpus_test shape: (69, 1)\n",
      "yChatbotCorpus_test shape: (69,)\n"
     ]
    }
   ],
   "source": [
    "# For ChatbotCorpus Corpus\n",
    "XChatbotCorpus_train, XChatbotCorpus_test, yChatbotCorpus_train, yChatbotCorpus_test = train_test_split(dfChatbotCorpus[['text_lm']], dfChatbotCorpus.iloc[:,1], test_size=1/3, random_state=42)\n",
    "\n",
    "print(f\"XChatbotCorpus_train shape: {XChatbotCorpus_train.shape}\")\n",
    "print(f\"yChatbotCorpus_train shape: {yChatbotCorpus_train.shape}\")\n",
    "print(\"-\"*30)\n",
    "print(f\"XChatbotCorpus_test shape: {XChatbotCorpus_test.shape}\")\n",
    "print(f\"yChatbotCorpus_test shape: {yChatbotCorpus_test.shape}\")"
   ]
  },
  {
   "cell_type": "code",
   "execution_count": 97,
   "metadata": {
    "execution": {
     "iopub.execute_input": "2022-12-21T19:56:46.522489Z",
     "iopub.status.busy": "2022-12-21T19:56:46.521888Z",
     "iopub.status.idle": "2022-12-21T19:56:46.543507Z",
     "shell.execute_reply": "2022-12-21T19:56:46.542445Z",
     "shell.execute_reply.started": "2022-12-21T19:56:46.522454Z"
    }
   },
   "outputs": [
    {
     "name": "stdout",
     "output_type": "stream",
     "text": [
      "XNLUCorpus_train shape: (9656, 1)\n",
      "yNLUCorpus_train shape: (9656,)\n",
      "------------------------------\n",
      "XNLUCorpus_test shape: (4828, 1)\n",
      "yNLUCorpus_test shape: (4828,)\n"
     ]
    }
   ],
   "source": [
    "# For NLUCorpus Corpus\n",
    "XNLUCorpus_train, XNLUCorpus_test, yNLUCorpus_train, yNLUCorpus_test = train_test_split(dfNLUCorpus[['text_lm']], dfNLUCorpus.iloc[:,1], test_size=1/3, random_state=42)\n",
    "\n",
    "print(f\"XNLUCorpus_train shape: {XNLUCorpus_train.shape}\")\n",
    "print(f\"yNLUCorpus_train shape: {yNLUCorpus_train.shape}\")\n",
    "print(\"-\"*30)\n",
    "print(f\"XNLUCorpus_test shape: {XNLUCorpus_test.shape}\")\n",
    "print(f\"yNLUCorpus_test shape: {yNLUCorpus_test.shape}\")"
   ]
  },
  {
   "cell_type": "markdown",
   "metadata": {},
   "source": [
    "## TF-IDF"
   ]
  },
  {
   "cell_type": "markdown",
   "metadata": {},
   "source": [
    "![](https://miro.medium.com/max/1200/1*V9ac4hLVyms79jl65Ym_Bw.jpeg)\n",
    "\n",
    "ref.: https://www.freecodecamp.org/news/how-to-process-textual-data-using-tf-idf-in-python-cd2bbc0a94a3/"
   ]
  },
  {
   "cell_type": "code",
   "execution_count": 98,
   "metadata": {},
   "outputs": [
    {
     "name": "stdout",
     "output_type": "stream",
     "text": [
      "XChatbotCorpus_train_vec shape: (137, 120)\n",
      "yChatbotCorpus_train shape: (137,)\n",
      "--------------------\n",
      "XChatbotCorpus_test_vec shape: (69, 120)\n",
      "yChatbotCorpus_test shape: (69,)\n"
     ]
    },
    {
     "data": {
      "text/plain": [
       "<69x120 sparse matrix of type '<class 'numpy.float64'>'\n",
       "\twith 224 stored elements in Compressed Sparse Row format>"
      ]
     },
     "execution_count": 98,
     "metadata": {},
     "output_type": "execute_result"
    }
   ],
   "source": [
    "# For ChatbotCorpus Corpus\n",
    "vectorizer = TfidfVectorizer()\n",
    "XChatbotCorpus_train_vec = vectorizer.fit_transform(XChatbotCorpus_train['text_lm'])\n",
    "XChatbotCorpus_test_vec = vectorizer.transform(XChatbotCorpus_test['text_lm'])\n",
    "\n",
    "print(f\"XChatbotCorpus_train_vec shape: {XChatbotCorpus_train_vec.shape}\")\n",
    "print(f\"yChatbotCorpus_train shape: {yChatbotCorpus_train.shape}\")\n",
    "print(\"-\"*20)\n",
    "print(f\"XChatbotCorpus_test_vec shape: {XChatbotCorpus_test_vec.shape}\")\n",
    "print(f\"yChatbotCorpus_test shape: {yChatbotCorpus_test.shape}\")\n",
    "XChatbotCorpus_test_vec"
   ]
  },
  {
   "cell_type": "code",
   "execution_count": 99,
   "metadata": {
    "execution": {
     "iopub.execute_input": "2022-12-21T19:59:06.124842Z",
     "iopub.status.busy": "2022-12-21T19:59:06.124374Z",
     "iopub.status.idle": "2022-12-21T19:59:06.206421Z",
     "shell.execute_reply": "2022-12-21T19:59:06.204931Z",
     "shell.execute_reply.started": "2022-12-21T19:59:06.124747Z"
    },
    "scrolled": true
   },
   "outputs": [],
   "source": [
    "# Transform into dataframe\n",
    "XChatbotCorpus_train_vec_df = pd.DataFrame(columns=vectorizer.get_feature_names_out(), data=XChatbotCorpus_train_vec.toarray())\n",
    "XChatbotCorpus_test_vec_df = pd.DataFrame(columns=vectorizer.get_feature_names_out(), data=XChatbotCorpus_test_vec.toarray())"
   ]
  },
  {
   "cell_type": "code",
   "execution_count": 100,
   "metadata": {},
   "outputs": [
    {
     "name": "stdout",
     "output_type": "stream",
     "text": [
      "XAskUbuntuCorpus_train_vec shape: (108, 247)\n",
      "yAskUbuntuCorpus_train shape: (108,)\n",
      "--------------------\n",
      "XAskUbuntuCorpus_test_vec shape: (54, 247)\n",
      "yAskUbuntuCorpus_test shape: (54,)\n"
     ]
    }
   ],
   "source": [
    "# For AskUbuntuCorpus Corpus\n",
    "vectorizer = TfidfVectorizer()\n",
    "XAskUbuntuCorpus_train_vec = vectorizer.fit_transform(XAskUbuntuCorpus_train['text_lm'])\n",
    "XAskUbuntuCorpus_test_vec = vectorizer.transform(XAskUbuntuCorpus_test['text_lm'])\n",
    "\n",
    "print(f\"XAskUbuntuCorpus_train_vec shape: {XAskUbuntuCorpus_train_vec.shape}\")\n",
    "print(f\"yAskUbuntuCorpus_train shape: {yAskUbuntuCorpus_train.shape}\")\n",
    "print(\"-\"*20)\n",
    "print(f\"XAskUbuntuCorpus_test_vec shape: {XAskUbuntuCorpus_test_vec.shape}\")\n",
    "print(f\"yAskUbuntuCorpus_test shape: {yAskUbuntuCorpus_test.shape}\")"
   ]
  },
  {
   "cell_type": "code",
   "execution_count": 101,
   "metadata": {
    "execution": {
     "iopub.execute_input": "2022-12-21T19:59:06.124842Z",
     "iopub.status.busy": "2022-12-21T19:59:06.124374Z",
     "iopub.status.idle": "2022-12-21T19:59:06.206421Z",
     "shell.execute_reply": "2022-12-21T19:59:06.204931Z",
     "shell.execute_reply.started": "2022-12-21T19:59:06.124747Z"
    },
    "scrolled": true
   },
   "outputs": [],
   "source": [
    "# Transform into dataframe\n",
    "XAskUbuntuCorpus_train_vec_df = pd.DataFrame(columns=vectorizer.get_feature_names_out(), data=XAskUbuntuCorpus_train_vec.toarray())\n",
    "XAskUbuntuCorpus_test_vec_df = pd.DataFrame(columns=vectorizer.get_feature_names_out(), data=XAskUbuntuCorpus_test_vec.toarray())"
   ]
  },
  {
   "cell_type": "code",
   "execution_count": 102,
   "metadata": {},
   "outputs": [
    {
     "name": "stdout",
     "output_type": "stream",
     "text": [
      "XWebApplicationsCorpus_train_vec shape: (59, 162)\n",
      "yWebApplicationsCorpus_train shape: (59,)\n",
      "--------------------\n",
      "XWebApplicationsCorpus_test_vec shape: (30, 162)\n",
      "yWebApplicationsCorpus_test shape: (30,)\n"
     ]
    },
    {
     "data": {
      "text/plain": [
       "<30x162 sparse matrix of type '<class 'numpy.float64'>'\n",
       "\twith 70 stored elements in Compressed Sparse Row format>"
      ]
     },
     "execution_count": 102,
     "metadata": {},
     "output_type": "execute_result"
    }
   ],
   "source": [
    "# For WebApplicationsCorpus Corpus\n",
    "vectorizer = TfidfVectorizer()\n",
    "XWebApplicationsCorpus_train_vec = vectorizer.fit_transform(XWebApplicationsCorpus_train['text_lm'])\n",
    "XWebApplicationsCorpus_test_vec = vectorizer.transform(XWebApplicationsCorpus_test['text_lm'])\n",
    "\n",
    "print(f\"XWebApplicationsCorpus_train_vec shape: {XWebApplicationsCorpus_train_vec.shape}\")\n",
    "print(f\"yWebApplicationsCorpus_train shape: {yWebApplicationsCorpus_train.shape}\")\n",
    "print(\"-\"*20)\n",
    "print(f\"XWebApplicationsCorpus_test_vec shape: {XWebApplicationsCorpus_test_vec.shape}\")\n",
    "print(f\"yWebApplicationsCorpus_test shape: {yWebApplicationsCorpus_test.shape}\")\n",
    "XWebApplicationsCorpus_test_vec"
   ]
  },
  {
   "cell_type": "code",
   "execution_count": 103,
   "metadata": {
    "execution": {
     "iopub.execute_input": "2022-12-21T19:59:06.124842Z",
     "iopub.status.busy": "2022-12-21T19:59:06.124374Z",
     "iopub.status.idle": "2022-12-21T19:59:06.206421Z",
     "shell.execute_reply": "2022-12-21T19:59:06.204931Z",
     "shell.execute_reply.started": "2022-12-21T19:59:06.124747Z"
    },
    "scrolled": true
   },
   "outputs": [],
   "source": [
    "# Transform into dataframe\n",
    "XWebApplicationsCorpus_train_vec_df = pd.DataFrame(columns=vectorizer.get_feature_names_out(), data=XWebApplicationsCorpus_train_vec.toarray())\n",
    "XWebApplicationsCorpus_test_vec_df = pd.DataFrame(columns=vectorizer.get_feature_names_out(), data=XWebApplicationsCorpus_test_vec.toarray())"
   ]
  },
  {
   "cell_type": "code",
   "execution_count": 58,
   "metadata": {},
   "outputs": [
    {
     "name": "stdout",
     "output_type": "stream",
     "text": [
      "XNLUCorpus_train_vec shape: (9656, 8819)\n",
      "yNLUCorpus_train shape: (9656,)\n",
      "--------------------\n",
      "XNLUCorpus_test_vec shape: (4828, 8819)\n",
      "yNLUCorpus_test shape: (4828,)\n"
     ]
    },
    {
     "data": {
      "text/plain": [
       "<4828x8819 sparse matrix of type '<class 'numpy.float64'>'\n",
       "\twith 21570 stored elements in Compressed Sparse Row format>"
      ]
     },
     "execution_count": 58,
     "metadata": {},
     "output_type": "execute_result"
    }
   ],
   "source": [
    "# For NLUCorpus Corpus\n",
    "vectorizer = TfidfVectorizer()\n",
    "XNLUCorpus_train_vec = vectorizer.fit_transform(XNLUCorpus_train['text_lm'])\n",
    "XNLUCorpus_test_vec = vectorizer.transform(XNLUCorpus_test['text_lm'])\n",
    "\n",
    "print(f\"XNLUCorpus_train_vec shape: {XNLUCorpus_train_vec.shape}\")\n",
    "print(f\"yNLUCorpus_train shape: {yNLUCorpus_train.shape}\")\n",
    "print(\"-\"*20)\n",
    "print(f\"XNLUCorpus_test_vec shape: {XNLUCorpus_test_vec.shape}\")\n",
    "print(f\"yNLUCorpus_test shape: {yNLUCorpus_test.shape}\")\n",
    "XNLUCorpus_test_vec"
   ]
  },
  {
   "cell_type": "code",
   "execution_count": 54,
   "metadata": {
    "execution": {
     "iopub.execute_input": "2022-12-21T19:59:06.124842Z",
     "iopub.status.busy": "2022-12-21T19:59:06.124374Z",
     "iopub.status.idle": "2022-12-21T19:59:06.206421Z",
     "shell.execute_reply": "2022-12-21T19:59:06.204931Z",
     "shell.execute_reply.started": "2022-12-21T19:59:06.124747Z"
    },
    "scrolled": true
   },
   "outputs": [],
   "source": [
    "# Transform into dataframe\n",
    "XNLUCorpus_train_vec_df = pd.DataFrame(columns=vectorizer.get_feature_names_out(), data=XNLUCorpus_train_vec.toarray())\n",
    "XNLUCorpus_test_vec_df = pd.DataFrame(columns=vectorizer.get_feature_names_out(), data=XNLUCorpus_test_vec.toarray())"
   ]
  },
  {
   "cell_type": "markdown",
   "metadata": {},
   "source": [
    "## Function for Plotting Confusion Matrix and Calculating accuracy, precision, recall"
   ]
  },
  {
   "cell_type": "code",
   "execution_count": 55,
   "metadata": {},
   "outputs": [],
   "source": [
    "def score_metrics(y_test, y_predicted):\n",
    "    accuracy = accuracy_score(y_test, y_predicted)\n",
    "    precision = precision_score(y_test, y_predicted,average= 'macro')\n",
    "    recall = recall_score(y_test, y_predicted,average='macro')\n",
    "    print(\"accuracy = %0.6f, precision = %0.6f, recall = %0.6f\" % (accuracy, precision, recall))"
   ]
  },
  {
   "cell_type": "markdown",
   "metadata": {},
   "source": [
    "## Multinomial Naive Bayes - WebApplication Corpus"
   ]
  },
  {
   "cell_type": "code",
   "execution_count": 308,
   "metadata": {},
   "outputs": [],
   "source": [
    "MNB_clf = MultinomialNB().fit(XWebApplicationsCorpus_train_vec_df, yWebApplicationsCorpus_train)\n",
    "y_webapplication_pred_MNB_clf = MNB_clf.predict(XWebApplicationsCorpus_test_vec_df)"
   ]
  },
  {
   "cell_type": "code",
   "execution_count": 309,
   "metadata": {},
   "outputs": [
    {
     "name": "stdout",
     "output_type": "stream",
     "text": [
      "accuracy = 0.700000, precision = 0.515909, recall = 0.594444\n"
     ]
    },
    {
     "name": "stderr",
     "output_type": "stream",
     "text": [
      "C:\\ProgramData\\Anaconda3\\lib\\site-packages\\sklearn\\metrics\\_classification.py:1318: UndefinedMetricWarning: Precision is ill-defined and being set to 0.0 in labels with no predicted samples. Use `zero_division` parameter to control this behavior.\n",
      "  _warn_prf(average, modifier, msg_start, len(result))\n"
     ]
    }
   ],
   "source": [
    "score_metrics(yWebApplicationsCorpus_test, y_webapplication_pred_MNB_clf)"
   ]
  },
  {
   "cell_type": "code",
   "execution_count": 310,
   "metadata": {},
   "outputs": [
    {
     "data": {
      "text/plain": [
       "Text(0.5, 38.31597222222221, 'Predicted label')"
      ]
     },
     "execution_count": 310,
     "metadata": {},
     "output_type": "execute_result"
    },
    {
     "data": {
      "image/png": "[encoded data removed]",
      "text/plain": [
       "<Figure size 800x600 with 2 Axes>"
      ]
     },
     "metadata": {},
     "output_type": "display_data"
    }
   ],
   "source": [
    "classes = ['Find Alternative', 'Delete Account', 'Export Data','Sync Accounts', 'None', 'Change Password', 'Filter Spam','Download Video']\n",
    "cm = confusion_matrix(yWebApplicationsCorpus_test, y_webapplication_pred_MNB_clf)\n",
    "plt.figure(figsize=(8,6))\n",
    "sns.heatmap(cm, cmap=plt.cm.Blues, annot=True, fmt='d', xticklabels=classes,yticklabels=classes)\n",
    "plt.title('Confusion Matrix')\n",
    "plt.ylabel('True label')\n",
    "plt.xlabel('Predicted label')"
   ]
  },
  {
   "cell_type": "code",
   "execution_count": 311,
   "metadata": {},
   "outputs": [
    {
     "name": "stdout",
     "output_type": "stream",
     "text": [
      "                  precision    recall  f1-score   support\n",
      "\n",
      " Change Password       1.00      1.00      1.00         2\n",
      "  Delete Account       0.80      0.67      0.73         6\n",
      "     Export Data       0.00      0.00      0.00         2\n",
      "     Filter Spam       0.55      1.00      0.71         6\n",
      "Find Alternative       0.75      0.90      0.82        10\n",
      "   Sync Accounts       0.00      0.00      0.00         4\n",
      "\n",
      "        accuracy                           0.70        30\n",
      "       macro avg       0.52      0.59      0.54        30\n",
      "    weighted avg       0.59      0.70      0.63        30\n",
      "\n"
     ]
    },
    {
     "name": "stderr",
     "output_type": "stream",
     "text": [
      "C:\\ProgramData\\Anaconda3\\lib\\site-packages\\sklearn\\metrics\\_classification.py:1318: UndefinedMetricWarning: Precision and F-score are ill-defined and being set to 0.0 in labels with no predicted samples. Use `zero_division` parameter to control this behavior.\n",
      "  _warn_prf(average, modifier, msg_start, len(result))\n",
      "C:\\ProgramData\\Anaconda3\\lib\\site-packages\\sklearn\\metrics\\_classification.py:1318: UndefinedMetricWarning: Precision and F-score are ill-defined and being set to 0.0 in labels with no predicted samples. Use `zero_division` parameter to control this behavior.\n",
      "  _warn_prf(average, modifier, msg_start, len(result))\n",
      "C:\\ProgramData\\Anaconda3\\lib\\site-packages\\sklearn\\metrics\\_classification.py:1318: UndefinedMetricWarning: Precision and F-score are ill-defined and being set to 0.0 in labels with no predicted samples. Use `zero_division` parameter to control this behavior.\n",
      "  _warn_prf(average, modifier, msg_start, len(result))\n"
     ]
    }
   ],
   "source": [
    "print(classification_report(yWebApplicationsCorpus_test, y_webapplication_pred_MNB_clf))"
   ]
  },
  {
   "cell_type": "markdown",
   "metadata": {},
   "source": [
    "## Multinomial Naive Bayes - AskUbuntu Corpus"
   ]
  },
  {
   "cell_type": "code",
   "execution_count": 312,
   "metadata": {},
   "outputs": [],
   "source": [
    "MNB_clf = MultinomialNB().fit(XAskUbuntuCorpus_train_vec_df, yAskUbuntuCorpus_train)\n",
    "y_askubuntu_pred_MNB_clf = MNB_clf.predict(XAskUbuntuCorpus_test_vec_df)"
   ]
  },
  {
   "cell_type": "code",
   "execution_count": 313,
   "metadata": {},
   "outputs": [
    {
     "name": "stdout",
     "output_type": "stream",
     "text": [
      "accuracy = 0.925926, precision = 0.742273, recall = 0.765909\n"
     ]
    },
    {
     "name": "stderr",
     "output_type": "stream",
     "text": [
      "C:\\ProgramData\\Anaconda3\\lib\\site-packages\\sklearn\\metrics\\_classification.py:1318: UndefinedMetricWarning: Precision is ill-defined and being set to 0.0 in labels with no predicted samples. Use `zero_division` parameter to control this behavior.\n",
      "  _warn_prf(average, modifier, msg_start, len(result))\n"
     ]
    }
   ],
   "source": [
    "score_metrics(yAskUbuntuCorpus_test, y_askubuntu_pred_MNB_clf)"
   ]
  },
  {
   "cell_type": "code",
   "execution_count": 314,
   "metadata": {},
   "outputs": [
    {
     "data": {
      "text/plain": [
       "Text(0.5, 38.31597222222221, 'Predicted label')"
      ]
     },
     "execution_count": 314,
     "metadata": {},
     "output_type": "execute_result"
    },
    {
     "data": {
      "image/png": "[encoded data removed]",
      "text/plain": [
       "<Figure size 800x600 with 2 Axes>"
      ]
     },
     "metadata": {},
     "output_type": "display_data"
    }
   ],
   "source": [
    "classes = ['Software Recommendation', 'None', 'Shutdown Computer','Make Update', 'Setup Printer']\n",
    "cm = confusion_matrix(yAskUbuntuCorpus_test, y_askubuntu_pred_MNB_clf)\n",
    "plt.figure(figsize=(8,6))\n",
    "sns.heatmap(cm, cmap=plt.cm.Blues, annot=True, fmt='d', xticklabels=classes,yticklabels=classes)\n",
    "plt.title('Confusion Matrix')\n",
    "plt.ylabel('True label')\n",
    "plt.xlabel('Predicted label')"
   ]
  },
  {
   "cell_type": "code",
   "execution_count": 315,
   "metadata": {},
   "outputs": [
    {
     "name": "stdout",
     "output_type": "stream",
     "text": [
      "                         precision    recall  f1-score   support\n",
      "\n",
      "            Make Update       0.94      1.00      0.97        16\n",
      "                   None       0.00      0.00      0.00         2\n",
      "          Setup Printer       1.00      0.88      0.93         8\n",
      "      Shutdown Computer       0.86      1.00      0.92         6\n",
      "Software Recommendation       0.91      0.95      0.93        22\n",
      "\n",
      "               accuracy                           0.93        54\n",
      "              macro avg       0.74      0.77      0.75        54\n",
      "           weighted avg       0.89      0.93      0.91        54\n",
      "\n"
     ]
    },
    {
     "name": "stderr",
     "output_type": "stream",
     "text": [
      "C:\\ProgramData\\Anaconda3\\lib\\site-packages\\sklearn\\metrics\\_classification.py:1318: UndefinedMetricWarning: Precision and F-score are ill-defined and being set to 0.0 in labels with no predicted samples. Use `zero_division` parameter to control this behavior.\n",
      "  _warn_prf(average, modifier, msg_start, len(result))\n",
      "C:\\ProgramData\\Anaconda3\\lib\\site-packages\\sklearn\\metrics\\_classification.py:1318: UndefinedMetricWarning: Precision and F-score are ill-defined and being set to 0.0 in labels with no predicted samples. Use `zero_division` parameter to control this behavior.\n",
      "  _warn_prf(average, modifier, msg_start, len(result))\n",
      "C:\\ProgramData\\Anaconda3\\lib\\site-packages\\sklearn\\metrics\\_classification.py:1318: UndefinedMetricWarning: Precision and F-score are ill-defined and being set to 0.0 in labels with no predicted samples. Use `zero_division` parameter to control this behavior.\n",
      "  _warn_prf(average, modifier, msg_start, len(result))\n"
     ]
    }
   ],
   "source": [
    "print(classification_report(yAskUbuntuCorpus_test, y_askubuntu_pred_MNB_clf))"
   ]
  },
  {
   "cell_type": "markdown",
   "metadata": {},
   "source": [
    "## Multinomial Naive Bayes - ChatBot Corpus"
   ]
  },
  {
   "cell_type": "code",
   "execution_count": 316,
   "metadata": {},
   "outputs": [],
   "source": [
    "MNB_clf = MultinomialNB().fit(XChatbotCorpus_train_vec_df, yChatbotCorpus_train)\n",
    "y_chatbot_pred_MNB_clf = MNB_clf.predict(XChatbotCorpus_test_vec_df)"
   ]
  },
  {
   "cell_type": "code",
   "execution_count": 317,
   "metadata": {},
   "outputs": [
    {
     "name": "stdout",
     "output_type": "stream",
     "text": [
      "accuracy = 0.956522, precision = 0.944444, recall = 0.966667\n"
     ]
    }
   ],
   "source": [
    "score_metrics(yChatbotCorpus_test, y_chatbot_pred_MNB_clf)"
   ]
  },
  {
   "cell_type": "code",
   "execution_count": 318,
   "metadata": {},
   "outputs": [
    {
     "data": {
      "text/plain": [
       "Text(0.5, 38.31597222222221, 'Predicted label')"
      ]
     },
     "execution_count": 318,
     "metadata": {},
     "output_type": "execute_result"
    },
    {
     "data": {
      "image/png": "[encoded data removed]",
      "text/plain": [
       "<Figure size 800x600 with 2 Axes>"
      ]
     },
     "metadata": {},
     "output_type": "display_data"
    }
   ],
   "source": [
    "classes = ['FindConnection', 'DepartureTime']\n",
    "cm = confusion_matrix(yChatbotCorpus_test, y_chatbot_pred_MNB_clf)\n",
    "plt.figure(figsize=(8,6))\n",
    "sns.heatmap(cm, cmap=plt.cm.Blues, annot=True, fmt='d', xticklabels=classes,yticklabels=classes)\n",
    "plt.title('Confusion Matrix')\n",
    "plt.ylabel('True label')\n",
    "plt.xlabel('Predicted label')"
   ]
  },
  {
   "cell_type": "code",
   "execution_count": 319,
   "metadata": {},
   "outputs": [
    {
     "name": "stdout",
     "output_type": "stream",
     "text": [
      "                precision    recall  f1-score   support\n",
      "\n",
      " DepartureTime       0.89      1.00      0.94        24\n",
      "FindConnection       1.00      0.93      0.97        45\n",
      "\n",
      "      accuracy                           0.96        69\n",
      "     macro avg       0.94      0.97      0.95        69\n",
      "  weighted avg       0.96      0.96      0.96        69\n",
      "\n"
     ]
    }
   ],
   "source": [
    "print(classification_report(yChatbotCorpus_test, y_chatbot_pred_MNB_clf))"
   ]
  },
  {
   "cell_type": "markdown",
   "metadata": {},
   "source": [
    "## Multinomial Naive Bayes - NLU Corpus"
   ]
  },
  {
   "cell_type": "code",
   "execution_count": 119,
   "metadata": {},
   "outputs": [],
   "source": [
    "MNB_clf = MultinomialNB().fit(XNLUCorpus_train_vec_snipdf, yNLUCorpus_train)\n",
    "y_NLU_pred_MNB_clf = MNB_clf.predict(XNLUCorpus_test_vec_df)"
   ]
  },
  {
   "cell_type": "code",
   "execution_count": 58,
   "metadata": {},
   "outputs": [
    {
     "name": "stdout",
     "output_type": "stream",
     "text": [
      "accuracy = 0.8600, precision = 0.8300, recall = 0.8700\n"
     ]
    }
   ],
   "source": [
    "score_metrics(yNLUCorpus_test, y_NLU_pred_MNB_clf)"
   ]
  },
  {
   "cell_type": "code",
   "execution_count": null,
   "metadata": {},
   "outputs": [],
   "source": [
    "print(classification_report(yNLUCorpus_test, y_NLU_pred_MNB_clf))"
   ]
  },
  {
   "cell_type": "code",
   "execution_count": null,
   "metadata": {},
   "outputs": [],
   "source": [
    "classes = ['GetWeather', 'SearchCreativeWork', 'SearchScreeningEvent','AddToPlaylist', 'PlayMusic', 'RateBook', 'BookRestaurant']\n",
    "cm = confusion_matrix(yNLUCorpus_test, y_NLU_pred_MNB_clf)\n",
    "plt.figure(figsize=(8,6))\n",
    "sns.heatmap(cm, cmap=plt.cm.Blues, annot=True, fmt='d', xticklabels=classes,yticklabels=classes)\n",
    "plt.title('Confusion Matrix')\n",
    "plt.ylabel('True label')\n",
    "plt.xlabel('Predicted label')"
   ]
  },
  {
   "cell_type": "markdown",
   "metadata": {},
   "source": [
    "==========================================================\n",
    "==========================================================\n",
    "                                                EXIT\n",
    "==========================================================\n",
    "=========================================================="
   ]
  }
 ],
 "metadata": {
  "kernelspec": {
   "display_name": "Python 3 (ipykernel)",
   "language": "python",
   "name": "python3"
  },
  "language_info": {
   "codemirror_mode": {
    "name": "ipython",
    "version": 3
   },
   "file_extension": ".py",
   "mimetype": "text/x-python",
   "name": "python",
   "nbconvert_exporter": "python",
   "pygments_lexer": "ipython3",
   "version": "3.9.13"
  }
 },
 "nbformat": 4,
 "nbformat_minor": 4
}
