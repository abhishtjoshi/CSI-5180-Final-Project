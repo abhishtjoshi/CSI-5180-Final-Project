{
 "cells": [
  {
   "cell_type": "markdown",
   "metadata": {},
   "source": [
    "# Intent Detection Using RoBERTa \n"
   ]
  },
  {
   "cell_type": "markdown",
   "metadata": {},
   "source": [
    "## Importing Necessary Libraries"
   ]
  },
  {
   "cell_type": "code",
   "execution_count": 1,
   "metadata": {
    "execution": {
     "iopub.execute_input": "2023-04-09T00:04:55.407625Z",
     "iopub.status.busy": "2023-04-09T00:04:55.407327Z",
     "iopub.status.idle": "2023-04-09T00:04:58.014540Z",
     "shell.execute_reply": "2023-04-09T00:04:58.013629Z",
     "shell.execute_reply.started": "2023-04-09T00:04:55.407590Z"
    }
   },
   "outputs": [],
   "source": [
    "\n",
    "import numpy as np\n",
    "import regex as re\n",
    "import pandas as pd\n",
    "import matplotlib.pyplot as plt\n",
    "import seaborn as sns\n",
    "import statistics\n",
    "import math\n",
    "import os\n",
    "\n",
    "from sklearn.model_selection import StratifiedKFold\n",
    "from sklearn.metrics import accuracy_score\n",
    "from sklearn.model_selection import train_test_split\n",
    "\n",
    "import tensorflow as tf\n",
    "import tensorflow.keras.backend as K\n",
    "import tokenizers\n",
    "from transformers import RobertaTokenizer, TFRobertaModel\n",
    "\n",
    "from collections import Counter\n",
    "\n",
    "import warnings\n",
    "warnings.filterwarnings(\"ignore\")"
   ]
  },
  {
   "cell_type": "code",
   "execution_count": 2,
   "metadata": {
    "execution": {
     "iopub.execute_input": "2023-04-09T00:04:58.017656Z",
     "iopub.status.busy": "2023-04-09T00:04:58.017067Z",
     "iopub.status.idle": "2023-04-09T00:04:58.026933Z",
     "shell.execute_reply": "2023-04-09T00:04:58.025987Z",
     "shell.execute_reply.started": "2023-04-09T00:04:58.017611Z"
    }
   },
   "outputs": [
    {
     "name": "stdout",
     "output_type": "stream",
     "text": [
      "Number of replicas: 1\n"
     ]
    }
   ],
   "source": [
    "# Detect hardware, return appropriate distribution strategy\n",
    "try:\n",
    "    # TPU detection. No parameters necessary if TPU_NAME environment variable is set - they are always set in Kaggle\n",
    "    tpu = tf.distribute.cluster_resolver.TPUClusterResolver()\n",
    "    tf.config.experimental_connect_to_cluster(tpu)\n",
    "    tf.tpu.experimental.initialize_tpu_system(tpu)\n",
    "    strategy = tf.distribute.experimental.TPUStrategy(tpu)\n",
    "    print('Running on TPU ', tpu.master())\n",
    "except ValueError:\n",
    "    # Default distribution strategy in Tensorflow. Works on CPU and single GPU.\n",
    "    strategy = tf.distribute.get_strategy()\n",
    "\n",
    "print('Number of replicas:', strategy.num_replicas_in_sync)"
   ]
  },
  {
   "cell_type": "code",
   "execution_count": 3,
   "metadata": {
    "execution": {
     "iopub.execute_input": "2023-04-09T00:04:58.028917Z",
     "iopub.status.busy": "2023-04-09T00:04:58.028608Z",
     "iopub.status.idle": "2023-04-09T00:04:58.038399Z",
     "shell.execute_reply": "2023-04-09T00:04:58.037672Z",
     "shell.execute_reply.started": "2023-04-09T00:04:58.028874Z"
    }
   },
   "outputs": [],
   "source": [
    "MODEL_NAME = 'roberta-base'\n",
    "MAX_LEN = 256\n",
    "ARTIFACTS_PATH = '../artifacts/'\n",
    "\n",
    "BATCH_SIZE = 8 * strategy.num_replicas_in_sync\n",
    "EPOCHS = 5\n",
    "\n",
    "if not os.path.exists(ARTIFACTS_PATH):\n",
    "    os.makedirs(ARTIFACTS_PATH)"
   ]
  },
  {
   "cell_type": "markdown",
   "metadata": {},
   "source": [
    "## Loading dataset\n",
    "\n"
   ]
  },
  {
   "cell_type": "code",
   "execution_count": 4,
   "metadata": {
    "execution": {
     "iopub.execute_input": "2023-04-09T00:04:58.040351Z",
     "iopub.status.busy": "2023-04-09T00:04:58.039782Z",
     "iopub.status.idle": "2023-04-09T00:04:58.067255Z",
     "shell.execute_reply": "2023-04-09T00:04:58.066443Z",
     "shell.execute_reply.started": "2023-04-09T00:04:58.040297Z"
    }
   },
   "outputs": [
    {
     "data": {
      "text/html": [
       "<div>\n",
       "<style scoped>\n",
       "    .dataframe tbody tr th:only-of-type {\n",
       "        vertical-align: middle;\n",
       "    }\n",
       "\n",
       "    .dataframe tbody tr th {\n",
       "        vertical-align: top;\n",
       "    }\n",
       "\n",
       "    .dataframe thead th {\n",
       "        text-align: right;\n",
       "    }\n",
       "</style>\n",
       "<table border=\"1\" class=\"dataframe\">\n",
       "  <thead>\n",
       "    <tr style=\"text-align: right;\">\n",
       "      <th></th>\n",
       "      <th>text</th>\n",
       "      <th>intent</th>\n",
       "    </tr>\n",
       "  </thead>\n",
       "  <tbody>\n",
       "    <tr>\n",
       "      <th>0</th>\n",
       "      <td>What software can I use to view epub documents?</td>\n",
       "      <td>Software Recommendation</td>\n",
       "    </tr>\n",
       "    <tr>\n",
       "      <th>1</th>\n",
       "      <td>Which PDF Viewer would you recommend?</td>\n",
       "      <td>Software Recommendation</td>\n",
       "    </tr>\n",
       "    <tr>\n",
       "      <th>2</th>\n",
       "      <td>What IDEs are available for Ubuntu?</td>\n",
       "      <td>Software Recommendation</td>\n",
       "    </tr>\n",
       "    <tr>\n",
       "      <th>3</th>\n",
       "      <td>What's the best Mind Mapping Software?</td>\n",
       "      <td>Software Recommendation</td>\n",
       "    </tr>\n",
       "    <tr>\n",
       "      <th>4</th>\n",
       "      <td>Software to read a QR code?</td>\n",
       "      <td>Software Recommendation</td>\n",
       "    </tr>\n",
       "  </tbody>\n",
       "</table>\n",
       "</div>"
      ],
      "text/plain": [
       "                                              text                   intent\n",
       "0  What software can I use to view epub documents?  Software Recommendation\n",
       "1            Which PDF Viewer would you recommend?  Software Recommendation\n",
       "2              What IDEs are available for Ubuntu?  Software Recommendation\n",
       "3           What's the best Mind Mapping Software?  Software Recommendation\n",
       "4                      Software to read a QR code?  Software Recommendation"
      ]
     },
     "execution_count": 4,
     "metadata": {},
     "output_type": "execute_result"
    }
   ],
   "source": [
    "df = pd.read_csv('AskUbuntuCorpus.csv')   \n",
    "df.head()"
   ]
  },
  {
   "cell_type": "code",
   "execution_count": 5,
   "metadata": {
    "execution": {
     "iopub.execute_input": "2023-04-09T00:04:58.068985Z",
     "iopub.status.busy": "2023-04-09T00:04:58.068483Z",
     "iopub.status.idle": "2023-04-09T00:04:58.076374Z",
     "shell.execute_reply": "2023-04-09T00:04:58.075674Z",
     "shell.execute_reply.started": "2023-04-09T00:04:58.068949Z"
    }
   },
   "outputs": [],
   "source": [
    "X_data = df[['text']].to_numpy().reshape(-1)\n",
    "y_data = df[['intent']].to_numpy().reshape(-1)\n"
   ]
  },
  {
   "cell_type": "markdown",
   "metadata": {},
   "source": [
    "\n",
    "# Exploratory Data Analysis\n"
   ]
  },
  {
   "cell_type": "code",
   "execution_count": 6,
   "metadata": {
    "execution": {
     "iopub.execute_input": "2023-04-09T00:04:58.081117Z",
     "iopub.status.busy": "2023-04-09T00:04:58.080833Z",
     "iopub.status.idle": "2023-04-09T00:04:58.212946Z",
     "shell.execute_reply": "2023-04-09T00:04:58.212025Z",
     "shell.execute_reply.started": "2023-04-09T00:04:58.081092Z"
    }
   },
   "outputs": [
    {
     "data": {
      "image/png": "[encoded data removed]",
      "text/plain": [
       "<Figure size 1000x500 with 1 Axes>"
      ]
     },
     "metadata": {},
     "output_type": "display_data"
    },
    {
     "name": "stdout",
     "output_type": "stream",
     "text": [
      "Counter({'Software Recommendation': 57, 'Make Update': 47, 'Shutdown Computer': 27, 'Setup Printer': 23, 'None': 8})\n"
     ]
    }
   ],
   "source": [
    "categories = df[['intent']].values.reshape(-1)\n",
    "counter_categories = Counter(categories)\n",
    "category_names = counter_categories.keys()\n",
    "category_values = counter_categories.values()\n",
    "\n",
    "y_pos = np.arange(len(category_names))\n",
    "\n",
    "plt.figure(1, figsize=(10, 5))\n",
    "plt.bar(y_pos, category_values, align='center', alpha=0.5)\n",
    "plt.xticks(y_pos, category_names, rotation=45)\n",
    "plt.ylabel('Number of texts')\n",
    "plt.title('Distribution of texts per category')\n",
    "plt.gca().yaxis.grid(True)\n",
    "plt.show()\n",
    "\n",
    "print(counter_categories)"
   ]
  },
  {
   "cell_type": "code",
   "execution_count": 7,
   "metadata": {
    "execution": {
     "iopub.execute_input": "2023-04-09T00:04:58.214979Z",
     "iopub.status.busy": "2023-04-09T00:04:58.214470Z",
     "iopub.status.idle": "2023-04-09T00:04:58.229793Z",
     "shell.execute_reply": "2023-04-09T00:04:58.229108Z",
     "shell.execute_reply.started": "2023-04-09T00:04:58.214940Z"
    }
   },
   "outputs": [],
   "source": [
    "def calculate_stats(df, split_char=' '):\n",
    "    categories = df['intent'].unique()\n",
    "    all_lengths = []\n",
    "    per_category = {\n",
    "        'lengths': {c:[] for c in categories},\n",
    "        'mean': {c:0 for c in categories},\n",
    "        'stdev': {c:0 for c in categories}\n",
    "    }\n",
    "\n",
    "    for index, row in df.iterrows():\n",
    "        text = row['text']\n",
    "        text = re.sub(r\"\\s+\", ' ', text) # Normalize\n",
    "        text = text.split(split_char)\n",
    "        l = len(text)\n",
    "        \n",
    "        category = row['intent']       \n",
    "        all_lengths.append(l)\n",
    "        per_category['lengths'][category].append(l)\n",
    "    \n",
    "    for c in categories:\n",
    "        per_category['mean'][c] = statistics.mean(per_category['lengths'][c])\n",
    "        per_category['stdev'][c] = statistics.stdev(per_category['lengths'][c])\n",
    "    \n",
    "    global_stats = {\n",
    "        'mean': statistics.mean(all_lengths),\n",
    "        'stdev': statistics.stdev(all_lengths),\n",
    "        'lengths': all_lengths\n",
    "    }\n",
    "    \n",
    "    return {\n",
    "        'global': global_stats,\n",
    "        'per_category': pd.DataFrame(per_category)\n",
    "    }\n",
    "\n",
    "\n",
    "def display_lengths_histograms(df_stats, n_cols=3):\n",
    "    categories = df['intent'].unique()\n",
    "    n_rows = math.ceil(len(categories) / n_cols)\n",
    "    \n",
    "    plt.figure(figsize=(15, 8))\n",
    "    plt.suptitle('Distribution of lengths')\n",
    "    \n",
    "    # Subplot of all lengths\n",
    "    plt.subplot(n_rows, n_cols, 1)\n",
    "    plt.title('All categories')\n",
    "    lengths = df_stats['global']['lengths']\n",
    "    plt.hist(lengths, color='r')\n",
    "\n",
    "    # Subplot of each category\n",
    "    index_subplot = 2\n",
    "    for c in categories:\n",
    "        plt.subplot(n_rows, n_cols, index_subplot)\n",
    "        plt.title('Category: %s' % c)\n",
    "        \n",
    "        lengths = df_stats['per_category']['lengths'][c]\n",
    "        plt.hist(lengths, color='b')\n",
    "\n",
    "        index_subplot += 1\n",
    "\n",
    "    plt.show()"
   ]
  },
  {
   "cell_type": "code",
   "execution_count": 8,
   "metadata": {
    "execution": {
     "iopub.execute_input": "2023-04-09T00:04:58.233857Z",
     "iopub.status.busy": "2023-04-09T00:04:58.233529Z",
     "iopub.status.idle": "2023-04-09T00:04:58.268506Z",
     "shell.execute_reply": "2023-04-09T00:04:58.267824Z",
     "shell.execute_reply.started": "2023-04-09T00:04:58.233829Z"
    }
   },
   "outputs": [],
   "source": [
    "df_stats = calculate_stats(df)\n"
   ]
  },
  {
   "cell_type": "code",
   "execution_count": 9,
   "metadata": {
    "execution": {
     "iopub.execute_input": "2023-04-09T00:04:58.271929Z",
     "iopub.status.busy": "2023-04-09T00:04:58.271626Z",
     "iopub.status.idle": "2023-04-09T00:04:59.180415Z",
     "shell.execute_reply": "2023-04-09T00:04:59.179386Z",
     "shell.execute_reply.started": "2023-04-09T00:04:58.271883Z"
    }
   },
   "outputs": [
    {
     "data": {
      "image/png": "[encoded data removed]",
      "text/plain": [
       "<Figure size 1080x576 with 6 Axes>"
      ]
     },
     "metadata": {
      "needs_background": "light"
     },
     "output_type": "display_data"
    }
   ],
   "source": [
    "display_lengths_histograms(df_stats)"
   ]
  },
  {
   "cell_type": "code",
   "execution_count": 10,
   "metadata": {
    "execution": {
     "iopub.execute_input": "2023-04-09T00:04:59.181975Z",
     "iopub.status.busy": "2023-04-09T00:04:59.181607Z",
     "iopub.status.idle": "2023-04-09T00:04:59.191788Z",
     "shell.execute_reply": "2023-04-09T00:04:59.190828Z",
     "shell.execute_reply.started": "2023-04-09T00:04:59.181938Z"
    }
   },
   "outputs": [
    {
     "name": "stdout",
     "output_type": "stream",
     "text": [
      "Texts in dataset: 162\n",
      "Number of categories: 5\n",
      "Done!\n"
     ]
    }
   ],
   "source": [
    "n_texts = len(X_data)\n",
    "print('Texts in dataset: %d' % n_texts)\n",
    "\n",
    "categories = df['intent'].unique()\n",
    "n_categories = len(categories)\n",
    "print('Number of categories: %d' % n_categories)\n",
    "\n",
    "print('Done!')"
   ]
  },
  {
   "cell_type": "markdown",
   "metadata": {},
   "source": [
    "# Tokenize & encode"
   ]
  },
  {
   "cell_type": "markdown",
   "metadata": {},
   "source": [
    "Importing RoBERTa model and tokenizer from HuggingFace  (since We must use the same vocabulary as the model was trained with).\n",
    "\n",
    "We should take into account that RoBERTa's input accepts up-to 512 tokens, thus **we must truncate the tokenized texts**. In our case, we truncate to 256 tokens.\n",
    "\n",
    "Why max seq: most NLP model with fix number of elements wide variety of length so each set has fixed number of elements, If less than max seq replace the empty with 0(Padding- Dummy element) After that Batches-with same number of elements otherwise optimizers won't work\n"
   ]
  },
  {
   "cell_type": "code",
   "execution_count": 11,
   "metadata": {
    "execution": {
     "iopub.execute_input": "2023-04-09T00:04:59.193797Z",
     "iopub.status.busy": "2023-04-09T00:04:59.193415Z",
     "iopub.status.idle": "2023-04-09T00:04:59.203658Z",
     "shell.execute_reply": "2023-04-09T00:04:59.202457Z",
     "shell.execute_reply.started": "2023-04-09T00:04:59.193761Z"
    }
   },
   "outputs": [],
   "source": [
    "def roberta_encode(texts, tokenizer):\n",
    "    ct = len(texts)\n",
    "    input_ids = np.ones((ct, MAX_LEN), dtype='int32')\n",
    "    attention_mask = np.zeros((ct, MAX_LEN), dtype='int32')\n",
    "    token_type_ids = np.zeros((ct, MAX_LEN), dtype='int32') # Not used in text classification\n",
    "\n",
    "    for k, text in enumerate(texts):\n",
    "        # Tokenizing\n",
    "        tok_text = tokenizer.tokenize(text)\n",
    "        \n",
    "        # Truncate and convert tokens to numerical IDs\n",
    "        enc_text = tokenizer.convert_tokens_to_ids(tok_text[:(MAX_LEN-2)])\n",
    "        \n",
    "        input_length = len(enc_text) + 2\n",
    "        input_length = input_length if input_length < MAX_LEN else MAX_LEN\n",
    "        \n",
    "        #Add 2 token for CLS-> Start and SEP for Separation(End)\n",
    "        input_ids[k,:input_length] = np.asarray([0] + enc_text + [2], dtype='int32')\n",
    "        \n",
    "        # Set to 1s in the attention input\n",
    "        attention_mask[k,:input_length] = 1\n",
    "\n",
    "    return {\n",
    "        'input_word_ids': input_ids,\n",
    "        'input_mask': attention_mask,\n",
    "        'input_type_ids': token_type_ids\n",
    "    }"
   ]
  },
  {
   "cell_type": "code",
   "execution_count": 12,
   "metadata": {
    "execution": {
     "iopub.execute_input": "2023-04-09T00:04:59.205686Z",
     "iopub.status.busy": "2023-04-09T00:04:59.205014Z",
     "iopub.status.idle": "2023-04-09T00:04:59.216559Z",
     "shell.execute_reply": "2023-04-09T00:04:59.215587Z",
     "shell.execute_reply.started": "2023-04-09T00:04:59.205642Z"
    }
   },
   "outputs": [
    {
     "data": {
      "text/plain": [
       "{0: 'Software Recommendation',\n",
       " 1: 'None',\n",
       " 2: 'Shutdown Computer',\n",
       " 3: 'Make Update',\n",
       " 4: 'Setup Printer'}"
      ]
     },
     "execution_count": 12,
     "metadata": {},
     "output_type": "execute_result"
    }
   ],
   "source": [
    "# Transform categories into numbers\n",
    "category_to_id = {}\n",
    "category_to_name = {}\n",
    "\n",
    "for index, c in enumerate(y_data):\n",
    "    if c in category_to_id:\n",
    "        category_id = category_to_id[c]\n",
    "    else:\n",
    "        category_id = len(category_to_id)\n",
    "        category_to_id[c] = category_id\n",
    "        category_to_name[category_id] = c\n",
    "    \n",
    "    y_data[index] = category_id\n",
    "\n",
    "# Display dictionary\n",
    "category_to_name"
   ]
  },
  {
   "cell_type": "code",
   "execution_count": 13,
   "metadata": {
    "execution": {
     "iopub.execute_input": "2023-04-09T00:04:59.218183Z",
     "iopub.status.busy": "2023-04-09T00:04:59.217730Z",
     "iopub.status.idle": "2023-04-09T00:04:59.225795Z",
     "shell.execute_reply": "2023-04-09T00:04:59.224956Z",
     "shell.execute_reply.started": "2023-04-09T00:04:59.218147Z"
    }
   },
   "outputs": [],
   "source": [
    "# Split into train and test datasets\n",
    "X_train, X_test, y_train, y_test = train_test_split(X_data, y_data, test_size=0.3, random_state=777) # random_state to reproduce results"
   ]
  },
  {
   "cell_type": "code",
   "execution_count": 14,
   "metadata": {
    "execution": {
     "iopub.execute_input": "2023-04-09T00:04:59.227682Z",
     "iopub.status.busy": "2023-04-09T00:04:59.227293Z",
     "iopub.status.idle": "2023-04-09T00:05:00.973270Z",
     "shell.execute_reply": "2023-04-09T00:05:00.972289Z",
     "shell.execute_reply.started": "2023-04-09T00:04:59.227626Z"
    }
   },
   "outputs": [],
   "source": [
    "# Import tokenizer from HuggingFace\n",
    "tokenizer = RobertaTokenizer.from_pretrained(MODEL_NAME)"
   ]
  },
  {
   "cell_type": "code",
   "execution_count": 15,
   "metadata": {
    "execution": {
     "iopub.execute_input": "2023-04-09T00:05:00.974928Z",
     "iopub.status.busy": "2023-04-09T00:05:00.974579Z",
     "iopub.status.idle": "2023-04-09T00:05:01.014850Z",
     "shell.execute_reply": "2023-04-09T00:05:01.014223Z",
     "shell.execute_reply.started": "2023-04-09T00:05:00.974877Z"
    }
   },
   "outputs": [],
   "source": [
    "X_train = roberta_encode(X_train, tokenizer)\n",
    "X_test = roberta_encode(X_test, tokenizer)\n",
    "\n",
    "y_train = np.asarray(y_train, dtype='int32')\n",
    "y_test = np.asarray(y_test, dtype='int32')"
   ]
  },
  {
   "cell_type": "markdown",
   "metadata": {},
   "source": [
    "## Create RoBERTa model"
   ]
  },
  {
   "cell_type": "code",
   "execution_count": 16,
   "metadata": {
    "execution": {
     "iopub.execute_input": "2023-04-09T00:05:01.016524Z",
     "iopub.status.busy": "2023-04-09T00:05:01.016190Z",
     "iopub.status.idle": "2023-04-09T00:05:01.026839Z",
     "shell.execute_reply": "2023-04-09T00:05:01.025984Z",
     "shell.execute_reply.started": "2023-04-09T00:05:01.016488Z"
    },
    "scrolled": true
   },
   "outputs": [],
   "source": [
    "def build_model(n_categories):\n",
    "    with strategy.scope():\n",
    "        input_word_ids = tf.keras.Input(shape=(MAX_LEN,), dtype=tf.int32, name='input_word_ids')\n",
    "        input_mask = tf.keras.Input(shape=(MAX_LEN,), dtype=tf.int32, name='input_mask')\n",
    "        input_type_ids = tf.keras.Input(shape=(MAX_LEN,), dtype=tf.int32, name='input_type_ids')\n",
    "\n",
    "        # Import RoBERTa model from HuggingFace\n",
    "        roberta_model = TFRobertaModel.from_pretrained(MODEL_NAME)\n",
    "        x = roberta_model(input_word_ids, attention_mask=input_mask, token_type_ids=input_type_ids)\n",
    "\n",
    "        # Huggingface transformers have multiple outputs, embeddings are the first one,\n",
    "        # so let's slice out the first position\n",
    "        x = x[0]\n",
    "\n",
    "        x = tf.keras.layers.Dropout(0.1)(x)\n",
    "        x = tf.keras.layers.Flatten()(x)\n",
    "        x = tf.keras.layers.Dense(256, activation='relu')(x)\n",
    "        x = tf.keras.layers.Dense(n_categories, activation='softmax')(x)\n",
    "\n",
    "        model = tf.keras.Model(inputs=[input_word_ids, input_mask, input_type_ids], outputs=x)\n",
    "        model.compile(\n",
    "            optimizer=tf.keras.optimizers.Adam(lr=1e-5),\n",
    "            loss='sparse_categorical_crossentropy',\n",
    "            metrics=['accuracy'])\n",
    "\n",
    "        return model"
   ]
  },
  {
   "cell_type": "code",
   "execution_count": 17,
   "metadata": {
    "execution": {
     "iopub.execute_input": "2023-04-09T00:05:01.029107Z",
     "iopub.status.busy": "2023-04-09T00:05:01.028720Z",
     "iopub.status.idle": "2023-04-09T00:05:09.484917Z",
     "shell.execute_reply": "2023-04-09T00:05:09.484132Z",
     "shell.execute_reply.started": "2023-04-09T00:05:01.029073Z"
    }
   },
   "outputs": [
    {
     "name": "stdout",
     "output_type": "stream",
     "text": [
      "Model: \"model\"\n",
      "__________________________________________________________________________________________________\n",
      "Layer (type)                    Output Shape         Param #     Connected to                     \n",
      "==================================================================================================\n",
      "input_word_ids (InputLayer)     [(None, 256)]        0                                            \n",
      "__________________________________________________________________________________________________\n",
      "input_mask (InputLayer)         [(None, 256)]        0                                            \n",
      "__________________________________________________________________________________________________\n",
      "input_type_ids (InputLayer)     [(None, 256)]        0                                            \n",
      "__________________________________________________________________________________________________\n",
      "tf_roberta_model (TFRobertaMode ((None, 256, 768), ( 124645632   input_word_ids[0][0]             \n",
      "__________________________________________________________________________________________________\n",
      "dropout_38 (Dropout)            (None, 256, 768)     0           tf_roberta_model[0][0]           \n",
      "__________________________________________________________________________________________________\n",
      "flatten (Flatten)               (None, 196608)       0           dropout_38[0][0]                 \n",
      "__________________________________________________________________________________________________\n",
      "dense (Dense)                   (None, 256)          50331904    flatten[0][0]                    \n",
      "__________________________________________________________________________________________________\n",
      "dense_1 (Dense)                 (None, 5)            1285        dense[0][0]                      \n",
      "==================================================================================================\n",
      "Total params: 174,978,821\n",
      "Trainable params: 174,978,821\n",
      "Non-trainable params: 0\n",
      "__________________________________________________________________________________________________\n"
     ]
    }
   ],
   "source": [
    "with strategy.scope():\n",
    "    model = build_model(n_categories)\n",
    "    model.summary()"
   ]
  },
  {
   "cell_type": "markdown",
   "metadata": {},
   "source": [
    "## Training the model\n",
    "\n",
    "Training of RoBERTa model"
   ]
  },
  {
   "cell_type": "code",
   "execution_count": 18,
   "metadata": {
    "execution": {
     "iopub.execute_input": "2023-04-09T00:05:09.486618Z",
     "iopub.status.busy": "2023-04-09T00:05:09.486262Z",
     "iopub.status.idle": "2023-04-09T00:05:50.069781Z",
     "shell.execute_reply": "2023-04-09T00:05:50.069072Z",
     "shell.execute_reply.started": "2023-04-09T00:05:09.486578Z"
    }
   },
   "outputs": [
    {
     "name": "stdout",
     "output_type": "stream",
     "text": [
      "Training...\n",
      "Epoch 1/5\n",
      "15/15 [==============================] - 7s 490ms/step - loss: 1.3452 - accuracy: 0.4513 - val_loss: 0.8892 - val_accuracy: 0.6939\n",
      "Epoch 2/5\n",
      "15/15 [==============================] - 4s 296ms/step - loss: 0.5792 - accuracy: 0.8407 - val_loss: 0.4774 - val_accuracy: 0.8571\n",
      "Epoch 3/5\n",
      "15/15 [==============================] - 4s 293ms/step - loss: 0.2186 - accuracy: 0.9115 - val_loss: 0.5521 - val_accuracy: 0.7959\n",
      "Epoch 4/5\n",
      "15/15 [==============================] - 4s 294ms/step - loss: 0.2673 - accuracy: 0.9381 - val_loss: 0.4495 - val_accuracy: 0.8980\n",
      "Epoch 5/5\n",
      "15/15 [==============================] - 4s 293ms/step - loss: 0.1054 - accuracy: 0.9735 - val_loss: 0.4601 - val_accuracy: 0.9388\n"
     ]
    }
   ],
   "source": [
    "with strategy.scope():\n",
    "    print('Training...')\n",
    "    history = model.fit(X_train,\n",
    "                        y_train,\n",
    "                        epochs=EPOCHS,\n",
    "                        batch_size=BATCH_SIZE,\n",
    "                        verbose=1,\n",
    "                        validation_data=(X_test, y_test))"
   ]
  },
  {
   "cell_type": "code",
   "execution_count": 19,
   "metadata": {
    "execution": {
     "iopub.execute_input": "2023-04-09T00:05:50.073361Z",
     "iopub.status.busy": "2023-04-09T00:05:50.073098Z",
     "iopub.status.idle": "2023-04-09T00:05:50.235210Z",
     "shell.execute_reply": "2023-04-09T00:05:50.234473Z",
     "shell.execute_reply.started": "2023-04-09T00:05:50.073336Z"
    }
   },
   "outputs": [
    {
     "data": {
      "text/plain": [
       "<matplotlib.legend.Legend at 0x72dfb025bd10>"
      ]
     },
     "execution_count": 19,
     "metadata": {},
     "output_type": "execute_result"
    },
    {
     "data": {
      "image/png": "[encoded data removed]",
      "text/plain": [
       "<Figure size 720x720 with 1 Axes>"
      ]
     },
     "metadata": {
      "needs_background": "light"
     },
     "output_type": "display_data"
    }
   ],
   "source": [
    "# PLotting\n",
    "plt.figure(figsize=(10, 10))\n",
    "plt.title('Accuracy')\n",
    "\n",
    "xaxis = np.arange(len(history.history['accuracy']))\n",
    "plt.plot(xaxis, history.history['accuracy'], label='Train set')\n",
    "plt.plot(xaxis, history.history['val_accuracy'], label='Validation set')\n",
    "plt.legend()"
   ]
  },
  {
   "cell_type": "markdown",
   "metadata": {},
   "source": [
    "## Evaluation\n"
   ]
  },
  {
   "cell_type": "code",
   "execution_count": 20,
   "metadata": {
    "execution": {
     "iopub.execute_input": "2023-04-09T00:05:50.237292Z",
     "iopub.status.busy": "2023-04-09T00:05:50.236829Z",
     "iopub.status.idle": "2023-04-09T00:05:50.245584Z",
     "shell.execute_reply": "2023-04-09T00:05:50.244564Z",
     "shell.execute_reply.started": "2023-04-09T00:05:50.237255Z"
    }
   },
   "outputs": [],
   "source": [
    "def plot_confusion_matrix(X_test, y_test, model):\n",
    "    y_pred = model.predict(X_test)\n",
    "    y_pred = [np.argmax(i) for i in model.predict(X_test)]\n",
    "\n",
    "    con_mat = tf.math.confusion_matrix(labels=y_test, predictions=y_pred).numpy()\n",
    "\n",
    "    con_mat_norm = np.around(con_mat.astype('float') / con_mat.sum(axis=1)[:, np.newaxis], decimals=2)\n",
    "    label_names = list(range(len(con_mat_norm)))\n",
    "\n",
    "    con_mat_df = pd.DataFrame(con_mat_norm,\n",
    "                              index=label_names, \n",
    "                              columns=label_names)\n",
    "\n",
    "    figure = plt.figure(figsize=(10, 10))\n",
    "    sns.heatmap(con_mat_df, cmap=plt.cm.Blues, annot=True)\n",
    "    plt.ylabel('True label')\n",
    "    plt.xlabel('Predicted label')"
   ]
  },
  {
   "cell_type": "code",
   "execution_count": 21,
   "metadata": {
    "execution": {
     "iopub.execute_input": "2023-04-09T00:05:50.247307Z",
     "iopub.status.busy": "2023-04-09T00:05:50.246889Z",
     "iopub.status.idle": "2023-04-09T00:05:50.833145Z",
     "shell.execute_reply": "2023-04-09T00:05:50.832206Z",
     "shell.execute_reply.started": "2023-04-09T00:05:50.247266Z"
    }
   },
   "outputs": [
    {
     "name": "stdout",
     "output_type": "stream",
     "text": [
      "Accuracy: 93.88%\n"
     ]
    }
   ],
   "source": [
    "scores = model.evaluate(X_test, y_test, verbose=0)\n",
    "print(\"Accuracy: %.2f%%\" % (scores[1] * 100))"
   ]
  },
  {
   "cell_type": "code",
   "execution_count": 22,
   "metadata": {
    "execution": {
     "iopub.execute_input": "2023-04-09T00:05:50.835198Z",
     "iopub.status.busy": "2023-04-09T00:05:50.834590Z",
     "iopub.status.idle": "2023-04-09T00:05:54.647570Z",
     "shell.execute_reply": "2023-04-09T00:05:54.646878Z",
     "shell.execute_reply.started": "2023-04-09T00:05:50.835155Z"
    }
   },
   "outputs": [
    {
     "data": {
      "image/png": "[encoded data removed]",
      "text/plain": [
       "<Figure size 720x720 with 2 Axes>"
      ]
     },
     "metadata": {
      "needs_background": "light"
     },
     "output_type": "display_data"
    }
   ],
   "source": [
    "plot_confusion_matrix(X_test, y_test, model)"
   ]
  },
  {
   "cell_type": "code",
   "execution_count": null,
   "metadata": {},
   "outputs": [],
   "source": []
  },
  {
   "cell_type": "code",
   "execution_count": null,
   "metadata": {},
   "outputs": [],
   "source": []
  },
  {
   "cell_type": "code",
   "execution_count": null,
   "metadata": {},
   "outputs": [],
   "source": []
  }
 ],
 "metadata": {
  "kernelspec": {
   "display_name": "Python 3 (ipykernel)",
   "language": "python",
   "name": "python3"
  },
  "language_info": {
   "codemirror_mode": {
    "name": "ipython",
    "version": 3
   },
   "file_extension": ".py",
   "mimetype": "text/x-python",
   "name": "python",
   "nbconvert_exporter": "python",
   "pygments_lexer": "ipython3",
   "version": "3.9.13"
  }
 },
 "nbformat": 4,
 "nbformat_minor": 4
}
